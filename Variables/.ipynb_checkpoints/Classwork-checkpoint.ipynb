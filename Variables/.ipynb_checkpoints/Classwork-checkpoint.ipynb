{
 "cells": [
  {
   "cell_type": "code",
   "execution_count": 1,
   "id": "e94006ba-1877-4503-9d21-762d848f4b62",
   "metadata": {},
   "outputs": [],
   "source": [
    "travel_month = \"January\""
   ]
  },
  {
   "cell_type": "code",
   "execution_count": 2,
   "id": "551acd90-0ab2-442f-b076-0113e9eed955",
   "metadata": {},
   "outputs": [
    {
     "data": {
      "text/plain": [
       "'January'"
      ]
     },
     "execution_count": 2,
     "metadata": {},
     "output_type": "execute_result"
    }
   ],
   "source": [
    "travel_month"
   ]
  },
  {
   "cell_type": "code",
   "execution_count": 3,
   "id": "b5c95bb2-98cf-4e30-90f8-8c7acf27f64f",
   "metadata": {},
   "outputs": [],
   "source": [
    "travel_month = \"December\""
   ]
  },
  {
   "cell_type": "code",
   "execution_count": 4,
   "id": "61a4a38f-b23a-48cc-aabc-505a0d5b8909",
   "metadata": {},
   "outputs": [
    {
     "data": {
      "text/plain": [
       "'December'"
      ]
     },
     "execution_count": 4,
     "metadata": {},
     "output_type": "execute_result"
    }
   ],
   "source": [
    "travel_month"
   ]
  },
  {
   "cell_type": "code",
   "execution_count": 5,
   "id": "69180038-bd46-4983-a95e-525b497c1d09",
   "metadata": {},
   "outputs": [],
   "source": [
    "number_of_weeks = None"
   ]
  },
  {
   "cell_type": "code",
   "execution_count": 6,
   "id": "3e77261c-54cf-4f5c-b80d-356c00ed5175",
   "metadata": {},
   "outputs": [],
   "source": [
    "number_of_weeks"
   ]
  },
  {
   "cell_type": "code",
   "execution_count": 7,
   "id": "7d5905b6-3dc8-45e7-8dd0-275a8442a146",
   "metadata": {},
   "outputs": [],
   "source": [
    "number_of_weeks = \"2\""
   ]
  },
  {
   "cell_type": "code",
   "execution_count": 8,
   "id": "79b4aa1c-3039-4a47-b6cb-83d2e79b3c83",
   "metadata": {},
   "outputs": [
    {
     "data": {
      "text/plain": [
       "'2'"
      ]
     },
     "execution_count": 8,
     "metadata": {},
     "output_type": "execute_result"
    }
   ],
   "source": [
    "number_of_weeks"
   ]
  },
  {
   "cell_type": "code",
   "execution_count": 9,
   "id": "05c5504b-f0fd-464f-914b-8ce70a33c936",
   "metadata": {},
   "outputs": [
    {
     "name": "stdout",
     "output_type": "stream",
     "text": [
      "i'll be out of the office for 2In December\n"
     ]
    }
   ],
   "source": [
    "print(\"i'll be out of the office for \" + str(number_of_weeks) + \"In \" + travel_month)"
   ]
  },
  {
   "cell_type": "code",
   "execution_count": 10,
   "id": "04938a7f-90c6-497c-aba4-466054497633",
   "metadata": {},
   "outputs": [
    {
     "name": "stdout",
     "output_type": "stream",
     "text": [
      "i'll be out of the office for DecemberIn 2\n"
     ]
    }
   ],
   "source": [
    "print(\"i'll be out of the office for \" + str(travel_month) + \"In \" + number_of_weeks)"
   ]
  },
  {
   "cell_type": "code",
   "execution_count": 11,
   "id": "15b42dce-809a-406a-a668-a4a5ea14bf33",
   "metadata": {},
   "outputs": [
    {
     "name": "stdout",
     "output_type": "stream",
     "text": [
      "i'll be out of the office for 2weeks December\n"
     ]
    }
   ],
   "source": [
    "print(\"i'll be out of the office for \" +str(number_of_weeks) + \"weeks \" + travel_month)"
   ]
  },
  {
   "cell_type": "code",
   "execution_count": 12,
   "id": "cbe7cc48-b6a5-4e31-8c5e-ab9104abe1a1",
   "metadata": {},
   "outputs": [
    {
     "name": "stdout",
     "output_type": "stream",
     "text": [
      "i'll be out of the office for 2weeks in December\n"
     ]
    }
   ],
   "source": [
    "print(\"i'll be out of the office for \" +str(number_of_weeks) + \"weeks \" + \"in \" + travel_month)"
   ]
  },
  {
   "cell_type": "code",
   "execution_count": 13,
   "id": "0508e2b1-77d5-467a-85e1-fc40aeadc57e",
   "metadata": {},
   "outputs": [
    {
     "name": "stdout",
     "output_type": "stream",
     "text": [
      "i'll be out of the office for 2 weeks in December\n"
     ]
    }
   ],
   "source": [
    "print(\"i'll be out of the office for \" +str(number_of_weeks) + \" weeks \" + \"in \" + travel_month)"
   ]
  },
  {
   "cell_type": "code",
   "execution_count": 14,
   "id": "080fc966-04bb-4534-bd02-321738764e02",
   "metadata": {},
   "outputs": [],
   "source": [
    "travel_year = \"2025\""
   ]
  },
  {
   "cell_type": "code",
   "execution_count": 15,
   "id": "4dd431c8-e157-4444-b42c-05823905ad1e",
   "metadata": {},
   "outputs": [
    {
     "data": {
      "text/plain": [
       "'2025'"
      ]
     },
     "execution_count": 15,
     "metadata": {},
     "output_type": "execute_result"
    }
   ],
   "source": [
    "travel_year"
   ]
  },
  {
   "cell_type": "code",
   "execution_count": 16,
   "id": "4e4a9538-bad1-4a76-889f-b657c166014a",
   "metadata": {},
   "outputs": [
    {
     "name": "stdout",
     "output_type": "stream",
     "text": [
      "i'll be out of the office for 2 weeks in December2025\n"
     ]
    }
   ],
   "source": [
    "print(\"i'll be out of the office for \" +str(number_of_weeks) + \" weeks \" + \"in \" + travel_month + travel_year)"
   ]
  },
  {
   "cell_type": "code",
   "execution_count": 17,
   "id": "2b6ccc13-43d4-4402-b4c6-0a3536c167c2",
   "metadata": {},
   "outputs": [
    {
     "name": "stdout",
     "output_type": "stream",
     "text": [
      "i'll be out of the office for 2 weeks in December\n"
     ]
    }
   ],
   "source": [
    "print(\"i'll be out of the office for {weeks} weeks in {month}\".format(weeks = str(number_of_weeks), month = travel_month))"
   ]
  },
  {
   "cell_type": "code",
   "execution_count": 18,
   "id": "7d7f959a-a054-4d9c-bd92-a03162624eea",
   "metadata": {},
   "outputs": [
    {
     "name": "stdout",
     "output_type": "stream",
     "text": [
      "i'll be out of the office for 2 weeks in December\n"
     ]
    }
   ],
   "source": [
    "print(f\"i'll be out of the office for {str(number_of_weeks)} weeks in {travel_month}\")"
   ]
  },
  {
   "cell_type": "code",
   "execution_count": 19,
   "id": "b47aed23-c9ff-4019-aceb-1e5a0fbc3de5",
   "metadata": {},
   "outputs": [
    {
     "name": "stdout",
     "output_type": "stream",
     "text": [
      "i'll be out of the office for 2 weeks in December\n"
     ]
    }
   ],
   "source": [
    "print(\"i'll be out of the office for {weeks} weeks in {month}\".format(weeks = str(number_of_weeks), month = travel_month, year = travel_year))"
   ]
  },
  {
   "cell_type": "markdown",
   "id": "d76f606f-de44-40ac-9cd3-124faaac6227",
   "metadata": {},
   "source": [
    "# control_flow_lab"
   ]
  },
  {
   "cell_type": "code",
   "execution_count": 20,
   "id": "bf3eef46-949b-4b76-8d9e-26e456475710",
   "metadata": {},
   "outputs": [],
   "source": [
    "number_50 = 500\n",
    "\n",
    "my_number = None\n",
    "\n",
    "if number_50 > 100:\n",
    "\n",
    "   # if number_50 is greater than 100, assign the `my_number` variable to the number 100\n",
    "    my_number = 100\n",
    "\n",
    "elif number_50 > 50:\n",
    "\n",
    "   # if number_50 is greater than 100, assign the `my_number` variable to the number 50\n",
    "    my_number = 50\n",
    "\n",
    "else:\n",
    "\n",
    "   # else assign the `my_number` variable to 0\n",
    "    my_number = 0"
   ]
  },
  {
   "cell_type": "code",
   "execution_count": 21,
   "id": "48b435f2-770b-4c6b-9574-7e4192faacd8",
   "metadata": {},
   "outputs": [
    {
     "data": {
      "text/plain": [
       "100"
      ]
     },
     "execution_count": 21,
     "metadata": {},
     "output_type": "execute_result"
    }
   ],
   "source": [
    "my_number"
   ]
  },
  {
   "cell_type": "markdown",
   "id": "da21ed66-fe43-4730-a884-479a9aec3c38",
   "metadata": {},
   "source": [
    "# list_of_coutries"
   ]
  },
  {
   "cell_type": "code",
   "execution_count": 22,
   "id": "5f20e6ae-0e1a-47c9-9a2d-1256c9368224",
   "metadata": {},
   "outputs": [],
   "source": [
    "countries = ['Croatia',\n",
    "\n",
    " 'USA',\n",
    "\n",
    " 'Argentina',\n",
    "\n",
    " 'Mexico',\n",
    "\n",
    " 'USA',\n",
    "\n",
    " 'Morocco',\n",
    "\n",
    " 'New Mexico',\n",
    "\n",
    " 'Finland',\n",
    "\n",
    " 'Argentina',\n",
    "\n",
    " 'Italy',\n",
    "\n",
    " 'Canada',\n",
    "\n",
    " 'South Korea']"
   ]
  },
  {
   "cell_type": "code",
   "execution_count": 23,
   "id": "e2a3ca1a-4e42-4197-8b14-530092846ef7",
   "metadata": {},
   "outputs": [
    {
     "data": {
      "text/plain": [
       "['Croatia',\n",
       " 'USA',\n",
       " 'Argentina',\n",
       " 'Mexico',\n",
       " 'USA',\n",
       " 'Morocco',\n",
       " 'New Mexico',\n",
       " 'Finland',\n",
       " 'Argentina',\n",
       " 'Italy',\n",
       " 'Canada',\n",
       " 'South Korea']"
      ]
     },
     "execution_count": 23,
     "metadata": {},
     "output_type": "execute_result"
    }
   ],
   "source": [
    "countries"
   ]
  },
  {
   "cell_type": "code",
   "execution_count": 24,
   "id": "491c0430-5ccc-420b-a4ca-f4c04de28164",
   "metadata": {},
   "outputs": [],
   "source": [
    "Italy = countries [-3]"
   ]
  },
  {
   "cell_type": "code",
   "execution_count": 25,
   "id": "bcab8a9f-0fef-43d1-afc5-596ec504ad09",
   "metadata": {},
   "outputs": [
    {
     "data": {
      "text/plain": [
       "'Italy'"
      ]
     },
     "execution_count": 25,
     "metadata": {},
     "output_type": "execute_result"
    }
   ],
   "source": [
    "Italy"
   ]
  },
  {
   "cell_type": "code",
   "execution_count": 26,
   "id": "c2f46f67-b466-42d8-8e14-93ce5b7ecbc9",
   "metadata": {},
   "outputs": [],
   "source": [
    "Mexico = countries [-9]"
   ]
  },
  {
   "cell_type": "code",
   "execution_count": 27,
   "id": "cb14771b-ffe2-40c8-9024-60b48868d79d",
   "metadata": {},
   "outputs": [
    {
     "data": {
      "text/plain": [
       "'Mexico'"
      ]
     },
     "execution_count": 27,
     "metadata": {},
     "output_type": "execute_result"
    }
   ],
   "source": [
    "Mexico"
   ]
  },
  {
   "cell_type": "code",
   "execution_count": 28,
   "id": "45a26645-fb25-476a-ae3e-c503381f0954",
   "metadata": {},
   "outputs": [],
   "source": [
    "Croatia = countries [0]"
   ]
  },
  {
   "cell_type": "code",
   "execution_count": 29,
   "id": "700112cb-428d-45d5-8dfa-ea59ef2a943c",
   "metadata": {},
   "outputs": [
    {
     "data": {
      "text/plain": [
       "'Croatia'"
      ]
     },
     "execution_count": 29,
     "metadata": {},
     "output_type": "execute_result"
    }
   ],
   "source": [
    "Croatia"
   ]
  },
  {
   "cell_type": "code",
   "execution_count": 30,
   "id": "038fc17a-aa87-4708-9463-68ec89ad5f38",
   "metadata": {},
   "outputs": [],
   "source": [
    "countries [-1] = \"Thailand\""
   ]
  },
  {
   "cell_type": "code",
   "execution_count": 31,
   "id": "c7499e95-6db2-427d-af6d-d5a42cb77d91",
   "metadata": {},
   "outputs": [
    {
     "data": {
      "text/plain": [
       "['Croatia',\n",
       " 'USA',\n",
       " 'Argentina',\n",
       " 'Mexico',\n",
       " 'USA',\n",
       " 'Morocco',\n",
       " 'New Mexico',\n",
       " 'Finland',\n",
       " 'Argentina',\n",
       " 'Italy',\n",
       " 'Canada',\n",
       " 'Thailand']"
      ]
     },
     "execution_count": 31,
     "metadata": {},
     "output_type": "execute_result"
    }
   ],
   "source": [
    "countries"
   ]
  },
  {
   "cell_type": "code",
   "execution_count": 32,
   "id": "d3f4bdc9-2225-4213-9b5a-2e491b4405df",
   "metadata": {},
   "outputs": [],
   "source": [
    "countries [-9] = \"Kenya\""
   ]
  },
  {
   "cell_type": "code",
   "execution_count": 33,
   "id": "82a1bde3-33ed-4350-9232-a94a7343c44b",
   "metadata": {},
   "outputs": [
    {
     "data": {
      "text/plain": [
       "['Croatia',\n",
       " 'USA',\n",
       " 'Argentina',\n",
       " 'Kenya',\n",
       " 'USA',\n",
       " 'Morocco',\n",
       " 'New Mexico',\n",
       " 'Finland',\n",
       " 'Argentina',\n",
       " 'Italy',\n",
       " 'Canada',\n",
       " 'Thailand']"
      ]
     },
     "execution_count": 33,
     "metadata": {},
     "output_type": "execute_result"
    }
   ],
   "source": [
    "countries"
   ]
  },
  {
   "cell_type": "code",
   "execution_count": 34,
   "id": "11175ec3-59c2-433e-a806-489b2d85fa04",
   "metadata": {},
   "outputs": [],
   "source": [
    "countries [+1] = \"South Korea\""
   ]
  },
  {
   "cell_type": "code",
   "execution_count": 35,
   "id": "cea3a6c6-4905-431c-a3da-f1bb651731a2",
   "metadata": {},
   "outputs": [
    {
     "data": {
      "text/plain": [
       "['Croatia',\n",
       " 'South Korea',\n",
       " 'Argentina',\n",
       " 'Kenya',\n",
       " 'USA',\n",
       " 'Morocco',\n",
       " 'New Mexico',\n",
       " 'Finland',\n",
       " 'Argentina',\n",
       " 'Italy',\n",
       " 'Canada',\n",
       " 'Thailand']"
      ]
     },
     "execution_count": 35,
     "metadata": {},
     "output_type": "execute_result"
    }
   ],
   "source": [
    "countries"
   ]
  },
  {
   "cell_type": "code",
   "execution_count": 36,
   "id": "3e00b441-b828-4083-8141-b09c2dea7770",
   "metadata": {},
   "outputs": [],
   "source": [
    "countries [+11] = \"South Korea\""
   ]
  },
  {
   "cell_type": "code",
   "execution_count": 37,
   "id": "9af51004-e58d-4b37-8256-38344aba86e3",
   "metadata": {},
   "outputs": [
    {
     "data": {
      "text/plain": [
       "['Croatia',\n",
       " 'South Korea',\n",
       " 'Argentina',\n",
       " 'Kenya',\n",
       " 'USA',\n",
       " 'Morocco',\n",
       " 'New Mexico',\n",
       " 'Finland',\n",
       " 'Argentina',\n",
       " 'Italy',\n",
       " 'Canada',\n",
       " 'South Korea']"
      ]
     },
     "execution_count": 37,
     "metadata": {},
     "output_type": "execute_result"
    }
   ],
   "source": [
    "countries"
   ]
  },
  {
   "cell_type": "code",
   "execution_count": 38,
   "id": "0da8935d-8fca-434c-83b7-c19600f59d5a",
   "metadata": {},
   "outputs": [],
   "source": [
    "countries.append(\"South Korea\")"
   ]
  },
  {
   "cell_type": "code",
   "execution_count": 39,
   "id": "98bf4db0-fd5c-4504-a7aa-8c6739876e25",
   "metadata": {},
   "outputs": [
    {
     "data": {
      "text/plain": [
       "['Croatia',\n",
       " 'South Korea',\n",
       " 'Argentina',\n",
       " 'Kenya',\n",
       " 'USA',\n",
       " 'Morocco',\n",
       " 'New Mexico',\n",
       " 'Finland',\n",
       " 'Argentina',\n",
       " 'Italy',\n",
       " 'Canada',\n",
       " 'South Korea',\n",
       " 'South Korea']"
      ]
     },
     "execution_count": 39,
     "metadata": {},
     "output_type": "execute_result"
    }
   ],
   "source": [
    "countries"
   ]
  },
  {
   "cell_type": "code",
   "execution_count": 40,
   "id": "320bd2c3-9c0a-46bb-955b-2a1434afc9ae",
   "metadata": {},
   "outputs": [],
   "source": [
    "unique_countries = set(countries)"
   ]
  },
  {
   "cell_type": "code",
   "execution_count": 41,
   "id": "3c913d97-f626-47c0-970d-7c0f8b0cfe9b",
   "metadata": {},
   "outputs": [
    {
     "data": {
      "text/plain": [
       "{'Argentina',\n",
       " 'Canada',\n",
       " 'Croatia',\n",
       " 'Finland',\n",
       " 'Italy',\n",
       " 'Kenya',\n",
       " 'Morocco',\n",
       " 'New Mexico',\n",
       " 'South Korea',\n",
       " 'USA'}"
      ]
     },
     "execution_count": 41,
     "metadata": {},
     "output_type": "execute_result"
    }
   ],
   "source": [
    "unique_countries"
   ]
  },
  {
   "cell_type": "markdown",
   "id": "576a796d-96a4-44fa-b56d-59b0c8a6c17b",
   "metadata": {},
   "source": [
    "# working_with_dictionaries"
   ]
  },
  {
   "cell_type": "code",
   "execution_count": 42,
   "id": "b6f3a5f5-bcdc-410c-baf5-bfc04c6182f3",
   "metadata": {},
   "outputs": [],
   "source": [
    "greenville = {'Area': 68, 'City': 'Greenville', 'Country': 'USA', 'Population': 84554}"
   ]
  },
  {
   "cell_type": "code",
   "execution_count": 43,
   "id": "f9b4772e-600a-4308-93c2-37e470e4b41c",
   "metadata": {},
   "outputs": [],
   "source": [
    "greenville_population = greenville [\"Population\"]"
   ]
  },
  {
   "cell_type": "code",
   "execution_count": 44,
   "id": "dd090511-9840-40ed-aa97-a93e72ea5df2",
   "metadata": {},
   "outputs": [
    {
     "data": {
      "text/plain": [
       "84554"
      ]
     },
     "execution_count": 44,
     "metadata": {},
     "output_type": "execute_result"
    }
   ],
   "source": [
    "greenville_population"
   ]
  },
  {
   "cell_type": "code",
   "execution_count": 45,
   "id": "6b4c699e-93f5-41a3-a7f4-9bbf12a62994",
   "metadata": {},
   "outputs": [],
   "source": [
    "greenville_area = greenville [\"Area\"]"
   ]
  },
  {
   "cell_type": "code",
   "execution_count": 46,
   "id": "7dd93cda-f00f-4285-8a6f-4d3302c51025",
   "metadata": {},
   "outputs": [
    {
     "data": {
      "text/plain": [
       "68"
      ]
     },
     "execution_count": 46,
     "metadata": {},
     "output_type": "execute_result"
    }
   ],
   "source": [
    "greenville_area"
   ]
  },
  {
   "cell_type": "code",
   "execution_count": 47,
   "id": "c4f6e57f-e2db-4a2d-917c-9bc341158e09",
   "metadata": {},
   "outputs": [],
   "source": [
    "greenville_country = greenville [\"Country\"]"
   ]
  },
  {
   "cell_type": "code",
   "execution_count": 48,
   "id": "0481ec70-7218-4a3a-8ce5-59aed2d5081e",
   "metadata": {},
   "outputs": [
    {
     "data": {
      "text/plain": [
       "'USA'"
      ]
     },
     "execution_count": 48,
     "metadata": {},
     "output_type": "execute_result"
    }
   ],
   "source": [
    "greenville_country"
   ]
  },
  {
   "cell_type": "code",
   "execution_count": 49,
   "id": "e9f93fc2-44c4-40d0-b2f5-a6d597bae5cb",
   "metadata": {},
   "outputs": [],
   "source": [
    "greenville_city = greenville [\"City\"]"
   ]
  },
  {
   "cell_type": "code",
   "execution_count": 50,
   "id": "a938a972-12ff-48b9-9335-d0c8f0688f58",
   "metadata": {},
   "outputs": [
    {
     "data": {
      "text/plain": [
       "'Greenville'"
      ]
     },
     "execution_count": 50,
     "metadata": {},
     "output_type": "execute_result"
    }
   ],
   "source": [
    "greenville_city"
   ]
  },
  {
   "cell_type": "code",
   "execution_count": 51,
   "id": "ad1723d0-7ca7-4426-9a66-6948ea85817d",
   "metadata": {},
   "outputs": [],
   "source": [
    "city_keys = list (greenville)"
   ]
  },
  {
   "cell_type": "code",
   "execution_count": 52,
   "id": "69f1d520-afbe-44e1-b8b9-455460c47af1",
   "metadata": {},
   "outputs": [
    {
     "data": {
      "text/plain": [
       "list"
      ]
     },
     "execution_count": 52,
     "metadata": {},
     "output_type": "execute_result"
    }
   ],
   "source": [
    "type (city_keys)"
   ]
  },
  {
   "cell_type": "code",
   "execution_count": 53,
   "id": "7df680ff-1fa0-41fc-99ae-4c5a1e123a2d",
   "metadata": {},
   "outputs": [
    {
     "data": {
      "text/plain": [
       "['Area', 'City', 'Country', 'Population']"
      ]
     },
     "execution_count": 53,
     "metadata": {},
     "output_type": "execute_result"
    }
   ],
   "source": [
    "city_keys"
   ]
  },
  {
   "cell_type": "code",
   "execution_count": 54,
   "id": "2cc47525-f0d4-4f47-a50a-ec4c468b5e4f",
   "metadata": {},
   "outputs": [],
   "source": [
    "city_values = greenville.keys()"
   ]
  },
  {
   "cell_type": "code",
   "execution_count": 55,
   "id": "6e9ee713-72b1-477a-895b-020920edadd7",
   "metadata": {},
   "outputs": [
    {
     "data": {
      "text/plain": [
       "dict_keys(['Area', 'City', 'Country', 'Population'])"
      ]
     },
     "execution_count": 55,
     "metadata": {},
     "output_type": "execute_result"
    }
   ],
   "source": [
    "city_values"
   ]
  },
  {
   "cell_type": "code",
   "execution_count": 56,
   "id": "d6fb9714-9dfd-468f-9891-a43e20534cbc",
   "metadata": {},
   "outputs": [],
   "source": [
    "import pandas as pd\n",
    "\n",
    "file_name = './cities.xlsx'\n",
    "\n",
    "travel_df = pd.read_excel(file_name)"
   ]
  },
  {
   "cell_type": "code",
   "execution_count": 57,
   "id": "54e11f1d-5dfc-400a-b30d-b5442ad85f89",
   "metadata": {},
   "outputs": [
    {
     "data": {
      "text/html": [
       "<div>\n",
       "<style scoped>\n",
       "    .dataframe tbody tr th:only-of-type {\n",
       "        vertical-align: middle;\n",
       "    }\n",
       "\n",
       "    .dataframe tbody tr th {\n",
       "        vertical-align: top;\n",
       "    }\n",
       "\n",
       "    .dataframe thead th {\n",
       "        text-align: right;\n",
       "    }\n",
       "</style>\n",
       "<table border=\"1\" class=\"dataframe\">\n",
       "  <thead>\n",
       "    <tr style=\"text-align: right;\">\n",
       "      <th></th>\n",
       "      <th>City</th>\n",
       "      <th>Country</th>\n",
       "      <th>Population</th>\n",
       "      <th>Area</th>\n",
       "    </tr>\n",
       "  </thead>\n",
       "  <tbody>\n",
       "    <tr>\n",
       "      <th>0</th>\n",
       "      <td>Solta</td>\n",
       "      <td>Croatia</td>\n",
       "      <td>1700</td>\n",
       "      <td>59</td>\n",
       "    </tr>\n",
       "    <tr>\n",
       "      <th>1</th>\n",
       "      <td>Greenville</td>\n",
       "      <td>USA</td>\n",
       "      <td>84554</td>\n",
       "      <td>68</td>\n",
       "    </tr>\n",
       "    <tr>\n",
       "      <th>2</th>\n",
       "      <td>Buenos Aires</td>\n",
       "      <td>Argentina</td>\n",
       "      <td>13591863</td>\n",
       "      <td>4758</td>\n",
       "    </tr>\n",
       "    <tr>\n",
       "      <th>3</th>\n",
       "      <td>Los Cabos</td>\n",
       "      <td>Mexico</td>\n",
       "      <td>287651</td>\n",
       "      <td>3750</td>\n",
       "    </tr>\n",
       "    <tr>\n",
       "      <th>4</th>\n",
       "      <td>Walla Walla Valley</td>\n",
       "      <td>USA</td>\n",
       "      <td>32237</td>\n",
       "      <td>33</td>\n",
       "    </tr>\n",
       "  </tbody>\n",
       "</table>\n",
       "</div>"
      ],
      "text/plain": [
       "                 City    Country  Population  Area\n",
       "0               Solta    Croatia        1700    59\n",
       "1          Greenville        USA       84554    68\n",
       "2        Buenos Aires  Argentina    13591863  4758\n",
       "3           Los Cabos     Mexico      287651  3750\n",
       "4  Walla Walla Valley        USA       32237    33"
      ]
     },
     "execution_count": 57,
     "metadata": {},
     "output_type": "execute_result"
    }
   ],
   "source": [
    "travel_df.head()"
   ]
  },
  {
   "cell_type": "code",
   "execution_count": 58,
   "id": "9e3dc71b-5f55-4419-beed-7de312da852a",
   "metadata": {},
   "outputs": [],
   "source": [
    "cities = travel_df.to_dict ('records')"
   ]
  },
  {
   "cell_type": "code",
   "execution_count": 59,
   "id": "89504fec-a92c-47cf-b4cc-60fb5bdaa98b",
   "metadata": {},
   "outputs": [
    {
     "data": {
      "text/plain": [
       "[{'City': 'Solta', 'Country': 'Croatia', 'Population': 1700, 'Area': 59},\n",
       " {'City': 'Greenville', 'Country': 'USA', 'Population': 84554, 'Area': 68},\n",
       " {'City': 'Buenos Aires',\n",
       "  'Country': 'Argentina',\n",
       "  'Population': 13591863,\n",
       "  'Area': 4758},\n",
       " {'City': 'Los Cabos',\n",
       "  'Country': 'Mexico',\n",
       "  'Population': 287651,\n",
       "  'Area': 3750},\n",
       " {'City': 'Walla Walla Valley',\n",
       "  'Country': 'USA',\n",
       "  'Population': 32237,\n",
       "  'Area': 33},\n",
       " {'City': 'Marakesh', 'Country': 'Morocco', 'Population': 928850, 'Area': 200},\n",
       " {'City': 'Albuquerque',\n",
       "  'Country': 'New Mexico',\n",
       "  'Population': 559277,\n",
       "  'Area': 491},\n",
       " {'City': 'Archipelago Sea',\n",
       "  'Country': 'Finland',\n",
       "  'Population': 60000,\n",
       "  'Area': 8300},\n",
       " {'City': 'Iguazu Falls',\n",
       "  'Country': 'Argentina',\n",
       "  'Population': 0,\n",
       "  'Area': 672},\n",
       " {'City': 'Salina Island', 'Country': 'Italy', 'Population': 4000, 'Area': 27},\n",
       " {'City': 'Toronto', 'Country': 'Canada', 'Population': 630, 'Area': 2731571},\n",
       " {'City': 'Pyeongchang',\n",
       "  'Country': 'South Korea',\n",
       "  'Population': 2581000,\n",
       "  'Area': 3194}]"
      ]
     },
     "execution_count": 59,
     "metadata": {},
     "output_type": "execute_result"
    }
   ],
   "source": [
    "cities"
   ]
  },
  {
   "cell_type": "code",
   "execution_count": 60,
   "id": "2f305404-f5e5-4895-abbf-b09d832d8dfd",
   "metadata": {},
   "outputs": [],
   "source": [
    "salina = cities [-3]"
   ]
  },
  {
   "cell_type": "code",
   "execution_count": 61,
   "id": "f60b27ed-abd7-4414-9e97-234a180ea3b9",
   "metadata": {},
   "outputs": [
    {
     "data": {
      "text/plain": [
       "{'City': 'Salina Island', 'Country': 'Italy', 'Population': 4000, 'Area': 27}"
      ]
     },
     "execution_count": 61,
     "metadata": {},
     "output_type": "execute_result"
    }
   ],
   "source": [
    "salina"
   ]
  },
  {
   "cell_type": "code",
   "execution_count": 62,
   "id": "443a36cb-b9bd-404c-9216-902b41a6560c",
   "metadata": {},
   "outputs": [],
   "source": [
    "toronto = cities [-2]"
   ]
  },
  {
   "cell_type": "code",
   "execution_count": 63,
   "id": "69d70049-056d-4ce7-bc9e-e4b8ec5b1223",
   "metadata": {},
   "outputs": [
    {
     "data": {
      "text/plain": [
       "{'City': 'Toronto', 'Country': 'Canada', 'Population': 630, 'Area': 2731571}"
      ]
     },
     "execution_count": 63,
     "metadata": {},
     "output_type": "execute_result"
    }
   ],
   "source": [
    "toronto"
   ]
  },
  {
   "cell_type": "code",
   "execution_count": 64,
   "id": "c74d1b25-e9e2-45da-994d-c1191143031b",
   "metadata": {},
   "outputs": [],
   "source": [
    "solta = cities [0]"
   ]
  },
  {
   "cell_type": "code",
   "execution_count": 65,
   "id": "9dcb9ae1-825a-4082-b314-52a3c932ef0e",
   "metadata": {},
   "outputs": [
    {
     "data": {
      "text/plain": [
       "{'City': 'Solta', 'Country': 'Croatia', 'Population': 1700, 'Area': 59}"
      ]
     },
     "execution_count": 65,
     "metadata": {},
     "output_type": "execute_result"
    }
   ],
   "source": [
    "solta"
   ]
  },
  {
   "cell_type": "code",
   "execution_count": 66,
   "id": "735540ef-ef2c-4ffc-bcc7-5f4fb48cb5b9",
   "metadata": {},
   "outputs": [],
   "source": [
    "los_cabos_pop = 10\n",
    "cities [3] [\"Population\"] = los_cabos_pop"
   ]
  },
  {
   "cell_type": "code",
   "execution_count": 67,
   "id": "804caee4-ba22-41a2-bef5-af67a3a0f431",
   "metadata": {},
   "outputs": [
    {
     "data": {
      "text/plain": [
       "[{'City': 'Solta', 'Country': 'Croatia', 'Population': 1700, 'Area': 59},\n",
       " {'City': 'Greenville', 'Country': 'USA', 'Population': 84554, 'Area': 68},\n",
       " {'City': 'Buenos Aires',\n",
       "  'Country': 'Argentina',\n",
       "  'Population': 13591863,\n",
       "  'Area': 4758},\n",
       " {'City': 'Los Cabos', 'Country': 'Mexico', 'Population': 10, 'Area': 3750},\n",
       " {'City': 'Walla Walla Valley',\n",
       "  'Country': 'USA',\n",
       "  'Population': 32237,\n",
       "  'Area': 33},\n",
       " {'City': 'Marakesh', 'Country': 'Morocco', 'Population': 928850, 'Area': 200},\n",
       " {'City': 'Albuquerque',\n",
       "  'Country': 'New Mexico',\n",
       "  'Population': 559277,\n",
       "  'Area': 491},\n",
       " {'City': 'Archipelago Sea',\n",
       "  'Country': 'Finland',\n",
       "  'Population': 60000,\n",
       "  'Area': 8300},\n",
       " {'City': 'Iguazu Falls',\n",
       "  'Country': 'Argentina',\n",
       "  'Population': 0,\n",
       "  'Area': 672},\n",
       " {'City': 'Salina Island', 'Country': 'Italy', 'Population': 4000, 'Area': 27},\n",
       " {'City': 'Toronto', 'Country': 'Canada', 'Population': 630, 'Area': 2731571},\n",
       " {'City': 'Pyeongchang',\n",
       "  'Country': 'South Korea',\n",
       "  'Population': 2581000,\n",
       "  'Area': 3194}]"
      ]
     },
     "execution_count": 67,
     "metadata": {},
     "output_type": "execute_result"
    }
   ],
   "source": [
    "cities"
   ]
  },
  {
   "cell_type": "code",
   "execution_count": 68,
   "id": "835909b0-3a87-43cc-8614-d6be56622001",
   "metadata": {},
   "outputs": [],
   "source": [
    "solta_area = 70\n",
    "cities [0] [\"Area\"] = solta_area"
   ]
  },
  {
   "cell_type": "code",
   "execution_count": 69,
   "id": "861b71e1-3f6e-431a-b802-6259b6f2fa64",
   "metadata": {
    "scrolled": true
   },
   "outputs": [
    {
     "data": {
      "text/plain": [
       "[{'City': 'Solta', 'Country': 'Croatia', 'Population': 1700, 'Area': 70},\n",
       " {'City': 'Greenville', 'Country': 'USA', 'Population': 84554, 'Area': 68},\n",
       " {'City': 'Buenos Aires',\n",
       "  'Country': 'Argentina',\n",
       "  'Population': 13591863,\n",
       "  'Area': 4758},\n",
       " {'City': 'Los Cabos', 'Country': 'Mexico', 'Population': 10, 'Area': 3750},\n",
       " {'City': 'Walla Walla Valley',\n",
       "  'Country': 'USA',\n",
       "  'Population': 32237,\n",
       "  'Area': 33},\n",
       " {'City': 'Marakesh', 'Country': 'Morocco', 'Population': 928850, 'Area': 200},\n",
       " {'City': 'Albuquerque',\n",
       "  'Country': 'New Mexico',\n",
       "  'Population': 559277,\n",
       "  'Area': 491},\n",
       " {'City': 'Archipelago Sea',\n",
       "  'Country': 'Finland',\n",
       "  'Population': 60000,\n",
       "  'Area': 8300},\n",
       " {'City': 'Iguazu Falls',\n",
       "  'Country': 'Argentina',\n",
       "  'Population': 0,\n",
       "  'Area': 672},\n",
       " {'City': 'Salina Island', 'Country': 'Italy', 'Population': 4000, 'Area': 27},\n",
       " {'City': 'Toronto', 'Country': 'Canada', 'Population': 630, 'Area': 2731571},\n",
       " {'City': 'Pyeongchang',\n",
       "  'Country': 'South Korea',\n",
       "  'Population': 2581000,\n",
       "  'Area': 3194}]"
      ]
     },
     "execution_count": 69,
     "metadata": {},
     "output_type": "execute_result"
    }
   ],
   "source": [
    "cities"
   ]
  },
  {
   "cell_type": "markdown",
   "id": "3c92bcb7-e7f7-4f81-a34f-5bd766c32948",
   "metadata": {},
   "source": [
    "# Loop_over_Collections"
   ]
  },
  {
   "cell_type": "code",
   "execution_count": 70,
   "id": "90cbdb84-4867-44d9-8fce-2a807fe57242",
   "metadata": {},
   "outputs": [],
   "source": [
    "city_1 = cities [0] [\"City\"]"
   ]
  },
  {
   "cell_type": "code",
   "execution_count": 71,
   "id": "9aac267d-43bb-49d7-97be-ca028e42a007",
   "metadata": {},
   "outputs": [
    {
     "data": {
      "text/plain": [
       "'Solta'"
      ]
     },
     "execution_count": 71,
     "metadata": {},
     "output_type": "execute_result"
    }
   ],
   "source": [
    "city_1"
   ]
  },
  {
   "cell_type": "code",
   "execution_count": 72,
   "id": "cc997781-2bbe-44b7-a1de-e1a83b4fb25a",
   "metadata": {},
   "outputs": [
    {
     "data": {
      "image/png": "[encoded data removed]",
      "text/plain": [
       "<Figure size 640x480 with 1 Axes>"
      ]
     },
     "metadata": {},
     "output_type": "display_data"
    }
   ],
   "source": [
    "import matplotlib.pyplot as plt\n",
    "\n",
    "x_values = [cities[0]['City'], cities[1]['City'], cities[2]['City']]\n",
    "\n",
    "y_values = [cities[0]['Population'], cities[1]['Population'], cities[2]['Population']]\n",
    "\n",
    "plt.bar(x_values, y_values)\n",
    "\n",
    "plt.ylabel('Population')\n",
    "\n",
    "plt.title('City Populations')\n",
    "\n",
    "plt.show()"
   ]
  },
  {
   "cell_type": "code",
   "execution_count": 73,
   "id": "491dc0c7-2bd8-49a6-98bb-111cb1798fcb",
   "metadata": {},
   "outputs": [],
   "source": [
    "buenos_aires = cities[2] [\"Area\"]\n",
    "    "
   ]
  },
  {
   "cell_type": "code",
   "execution_count": 74,
   "id": "22b7a099-15bb-4c4c-874a-1e94eb5b50a4",
   "metadata": {},
   "outputs": [
    {
     "data": {
      "text/plain": [
       "4758"
      ]
     },
     "execution_count": 74,
     "metadata": {},
     "output_type": "execute_result"
    }
   ],
   "source": [
    "buenos_aires"
   ]
  },
  {
   "cell_type": "code",
   "execution_count": 75,
   "id": "65cef49c-b851-4038-b35f-6087cfeba269",
   "metadata": {},
   "outputs": [],
   "source": [
    "city_indices = []\n",
    "\n",
    "for items in range(len(cities)):\n",
    "    city_indices.append(items)"
   ]
  },
  {
   "cell_type": "code",
   "execution_count": 76,
   "id": "35b2fe03-bee0-48b2-9c60-8ecb1ab2d80d",
   "metadata": {},
   "outputs": [
    {
     "data": {
      "text/plain": [
       "[0, 1, 2, 3, 4, 5, 6, 7, 8, 9, 10, 11]"
      ]
     },
     "execution_count": 76,
     "metadata": {},
     "output_type": "execute_result"
    }
   ],
   "source": [
    "city_indices"
   ]
  },
  {
   "cell_type": "code",
   "execution_count": 77,
   "id": "630a1fcd-ded7-4231-8cec-0bb0ae851b01",
   "metadata": {},
   "outputs": [],
   "source": [
    "city_names = []\n",
    "for index in city_indices:\n",
    "    city_names.append(cities[index][\"City\"])"
   ]
  },
  {
   "cell_type": "code",
   "execution_count": 78,
   "id": "b7bb3de6-8f7c-4a79-a4a6-350254697126",
   "metadata": {},
   "outputs": [
    {
     "data": {
      "text/plain": [
       "['Solta',\n",
       " 'Greenville',\n",
       " 'Buenos Aires',\n",
       " 'Los Cabos',\n",
       " 'Walla Walla Valley',\n",
       " 'Marakesh',\n",
       " 'Albuquerque',\n",
       " 'Archipelago Sea',\n",
       " 'Iguazu Falls',\n",
       " 'Salina Island',\n",
       " 'Toronto',\n",
       " 'Pyeongchang']"
      ]
     },
     "execution_count": 78,
     "metadata": {},
     "output_type": "execute_result"
    }
   ],
   "source": [
    "city_names"
   ]
  },
  {
   "cell_type": "code",
   "execution_count": 79,
   "id": "3634bf15-d020-432d-b71d-10480d2cbc78",
   "metadata": {},
   "outputs": [],
   "source": [
    "names_and_ranks = []\n",
    "\n",
    "for index in city_indices:\n",
    "    names_and_ranks.append(f\"{index+1}. {cities[index]['City']}\")\n"
   ]
  },
  {
   "cell_type": "code",
   "execution_count": 80,
   "id": "77ff59f7-d7aa-47a8-b966-8dea2318e3d0",
   "metadata": {},
   "outputs": [
    {
     "data": {
      "text/plain": [
       "['1. Solta',\n",
       " '2. Greenville',\n",
       " '3. Buenos Aires',\n",
       " '4. Los Cabos',\n",
       " '5. Walla Walla Valley',\n",
       " '6. Marakesh',\n",
       " '7. Albuquerque',\n",
       " '8. Archipelago Sea',\n",
       " '9. Iguazu Falls',\n",
       " '10. Salina Island',\n",
       " '11. Toronto',\n",
       " '12. Pyeongchang']"
      ]
     },
     "execution_count": 80,
     "metadata": {},
     "output_type": "execute_result"
    }
   ],
   "source": [
    "names_and_ranks"
   ]
  },
  {
   "cell_type": "code",
   "execution_count": 81,
   "id": "e3bfcec8-8094-4b91-b44d-c49d0c2094b3",
   "metadata": {},
   "outputs": [
    {
     "ename": "KeyError",
     "evalue": "''",
     "output_type": "error",
     "traceback": [
      "\u001b[1;31m---------------------------------------------------------------------------\u001b[0m",
      "\u001b[1;31mKeyError\u001b[0m                                  Traceback (most recent call last)",
      "Cell \u001b[1;32mIn[81], line 3\u001b[0m\n\u001b[0;32m      1\u001b[0m city_populations \u001b[38;5;241m=\u001b[39m []\n\u001b[0;32m      2\u001b[0m \u001b[38;5;28;01mfor\u001b[39;00m index \u001b[38;5;129;01min\u001b[39;00m city_indices:\n\u001b[1;32m----> 3\u001b[0m     city_populations\u001b[38;5;241m.\u001b[39mappend(cities[index][\u001b[38;5;124m\"\u001b[39m\u001b[38;5;124m\"\u001b[39m])\n",
      "\u001b[1;31mKeyError\u001b[0m: ''"
     ]
    }
   ],
   "source": [
    "city_populations = []\n",
    "for index in city_indices:\n",
    "    city_populations.append(cities[index][\"\"])"
   ]
  },
  {
   "cell_type": "code",
   "execution_count": 82,
   "id": "a0f19124-e2f7-4faa-ab30-aa8aea9e01bc",
   "metadata": {},
   "outputs": [
    {
     "data": {
      "text/plain": [
       "[]"
      ]
     },
     "execution_count": 82,
     "metadata": {},
     "output_type": "execute_result"
    }
   ],
   "source": [
    "city_populations"
   ]
  },
  {
   "cell_type": "code",
   "execution_count": 83,
   "id": "5f0f0af9-4541-48e8-b422-aa8fdb0b1407",
   "metadata": {},
   "outputs": [
    {
     "data": {
      "image/png": "[encoded data removed]",
      "text/plain": [
       "<Figure size 640x480 with 1 Axes>"
      ]
     },
     "metadata": {},
     "output_type": "display_data"
    }
   ],
   "source": [
    "import matplotlib.pyplot as plt\n",
    "\n",
    "x_values = [cities[0]['City'], cities[1]['City'], cities[2]['City']]\n",
    "\n",
    "y_values = [cities[0]['Population'], cities[1]['Population'], cities[2]['Population']]\n",
    "\n",
    "plt.bar(x_values, y_values)\n",
    "\n",
    "plt.ylabel('Population')\n",
    "\n",
    "plt.title('City Populations')\n",
    "\n",
    "plt.show()"
   ]
  },
  {
   "cell_type": "code",
   "execution_count": 84,
   "id": "9f4c2688-94d4-4e59-933f-4c4be1abdb3f",
   "metadata": {},
   "outputs": [
    {
     "ename": "ValueError",
     "evalue": "shape mismatch: objects cannot be broadcast to a single shape.  Mismatch is between arg 0 with shape (12,) and arg 1 with shape (0,).",
     "output_type": "error",
     "traceback": [
      "\u001b[1;31m---------------------------------------------------------------------------\u001b[0m",
      "\u001b[1;31mValueError\u001b[0m                                Traceback (most recent call last)",
      "Cell \u001b[1;32mIn[84], line 1\u001b[0m\n\u001b[1;32m----> 1\u001b[0m plt\u001b[38;5;241m.\u001b[39mbar(names_and_ranks, city_populations)\n\u001b[0;32m      3\u001b[0m plt\u001b[38;5;241m.\u001b[39mylabel(\u001b[38;5;124m'\u001b[39m\u001b[38;5;124mPopulation\u001b[39m\u001b[38;5;124m'\u001b[39m)\n\u001b[0;32m      5\u001b[0m plt\u001b[38;5;241m.\u001b[39mxlabel(\u001b[38;5;124m'\u001b[39m\u001b[38;5;124mCities\u001b[39m\u001b[38;5;124m'\u001b[39m)\n",
      "File \u001b[1;32m~\\AppData\\Local\\anaconda3\\Lib\\site-packages\\matplotlib\\pyplot.py:2742\u001b[0m, in \u001b[0;36mbar\u001b[1;34m(x, height, width, bottom, align, data, **kwargs)\u001b[0m\n\u001b[0;32m   2731\u001b[0m \u001b[38;5;129m@_copy_docstring_and_deprecators\u001b[39m(Axes\u001b[38;5;241m.\u001b[39mbar)\n\u001b[0;32m   2732\u001b[0m \u001b[38;5;28;01mdef\u001b[39;00m \u001b[38;5;21mbar\u001b[39m(\n\u001b[0;32m   2733\u001b[0m     x: \u001b[38;5;28mfloat\u001b[39m \u001b[38;5;241m|\u001b[39m ArrayLike,\n\u001b[1;32m   (...)\u001b[0m\n\u001b[0;32m   2740\u001b[0m     \u001b[38;5;241m*\u001b[39m\u001b[38;5;241m*\u001b[39mkwargs,\n\u001b[0;32m   2741\u001b[0m ) \u001b[38;5;241m-\u001b[39m\u001b[38;5;241m>\u001b[39m BarContainer:\n\u001b[1;32m-> 2742\u001b[0m     \u001b[38;5;28;01mreturn\u001b[39;00m gca()\u001b[38;5;241m.\u001b[39mbar(\n\u001b[0;32m   2743\u001b[0m         x,\n\u001b[0;32m   2744\u001b[0m         height,\n\u001b[0;32m   2745\u001b[0m         width\u001b[38;5;241m=\u001b[39mwidth,\n\u001b[0;32m   2746\u001b[0m         bottom\u001b[38;5;241m=\u001b[39mbottom,\n\u001b[0;32m   2747\u001b[0m         align\u001b[38;5;241m=\u001b[39malign,\n\u001b[0;32m   2748\u001b[0m         \u001b[38;5;241m*\u001b[39m\u001b[38;5;241m*\u001b[39m({\u001b[38;5;124m\"\u001b[39m\u001b[38;5;124mdata\u001b[39m\u001b[38;5;124m\"\u001b[39m: data} \u001b[38;5;28;01mif\u001b[39;00m data \u001b[38;5;129;01mis\u001b[39;00m \u001b[38;5;129;01mnot\u001b[39;00m \u001b[38;5;28;01mNone\u001b[39;00m \u001b[38;5;28;01melse\u001b[39;00m {}),\n\u001b[0;32m   2749\u001b[0m         \u001b[38;5;241m*\u001b[39m\u001b[38;5;241m*\u001b[39mkwargs,\n\u001b[0;32m   2750\u001b[0m     )\n",
      "File \u001b[1;32m~\\AppData\\Local\\anaconda3\\Lib\\site-packages\\matplotlib\\__init__.py:1465\u001b[0m, in \u001b[0;36m_preprocess_data.<locals>.inner\u001b[1;34m(ax, data, *args, **kwargs)\u001b[0m\n\u001b[0;32m   1462\u001b[0m \u001b[38;5;129m@functools\u001b[39m\u001b[38;5;241m.\u001b[39mwraps(func)\n\u001b[0;32m   1463\u001b[0m \u001b[38;5;28;01mdef\u001b[39;00m \u001b[38;5;21minner\u001b[39m(ax, \u001b[38;5;241m*\u001b[39margs, data\u001b[38;5;241m=\u001b[39m\u001b[38;5;28;01mNone\u001b[39;00m, \u001b[38;5;241m*\u001b[39m\u001b[38;5;241m*\u001b[39mkwargs):\n\u001b[0;32m   1464\u001b[0m     \u001b[38;5;28;01mif\u001b[39;00m data \u001b[38;5;129;01mis\u001b[39;00m \u001b[38;5;28;01mNone\u001b[39;00m:\n\u001b[1;32m-> 1465\u001b[0m         \u001b[38;5;28;01mreturn\u001b[39;00m func(ax, \u001b[38;5;241m*\u001b[39m\u001b[38;5;28mmap\u001b[39m(sanitize_sequence, args), \u001b[38;5;241m*\u001b[39m\u001b[38;5;241m*\u001b[39mkwargs)\n\u001b[0;32m   1467\u001b[0m     bound \u001b[38;5;241m=\u001b[39m new_sig\u001b[38;5;241m.\u001b[39mbind(ax, \u001b[38;5;241m*\u001b[39margs, \u001b[38;5;241m*\u001b[39m\u001b[38;5;241m*\u001b[39mkwargs)\n\u001b[0;32m   1468\u001b[0m     auto_label \u001b[38;5;241m=\u001b[39m (bound\u001b[38;5;241m.\u001b[39marguments\u001b[38;5;241m.\u001b[39mget(label_namer)\n\u001b[0;32m   1469\u001b[0m                   \u001b[38;5;129;01mor\u001b[39;00m bound\u001b[38;5;241m.\u001b[39mkwargs\u001b[38;5;241m.\u001b[39mget(label_namer))\n",
      "File \u001b[1;32m~\\AppData\\Local\\anaconda3\\Lib\\site-packages\\matplotlib\\axes\\_axes.py:2457\u001b[0m, in \u001b[0;36mAxes.bar\u001b[1;34m(self, x, height, width, bottom, align, **kwargs)\u001b[0m\n\u001b[0;32m   2454\u001b[0m     \u001b[38;5;28;01mif\u001b[39;00m yerr \u001b[38;5;129;01mis\u001b[39;00m \u001b[38;5;129;01mnot\u001b[39;00m \u001b[38;5;28;01mNone\u001b[39;00m:\n\u001b[0;32m   2455\u001b[0m         yerr \u001b[38;5;241m=\u001b[39m \u001b[38;5;28mself\u001b[39m\u001b[38;5;241m.\u001b[39m_convert_dx(yerr, y0, y, \u001b[38;5;28mself\u001b[39m\u001b[38;5;241m.\u001b[39mconvert_yunits)\n\u001b[1;32m-> 2457\u001b[0m x, height, width, y, linewidth, hatch \u001b[38;5;241m=\u001b[39m np\u001b[38;5;241m.\u001b[39mbroadcast_arrays(\n\u001b[0;32m   2458\u001b[0m     \u001b[38;5;66;03m# Make args iterable too.\u001b[39;00m\n\u001b[0;32m   2459\u001b[0m     np\u001b[38;5;241m.\u001b[39matleast_1d(x), height, width, y, linewidth, hatch)\n\u001b[0;32m   2461\u001b[0m \u001b[38;5;66;03m# Now that units have been converted, set the tick locations.\u001b[39;00m\n\u001b[0;32m   2462\u001b[0m \u001b[38;5;28;01mif\u001b[39;00m orientation \u001b[38;5;241m==\u001b[39m \u001b[38;5;124m'\u001b[39m\u001b[38;5;124mvertical\u001b[39m\u001b[38;5;124m'\u001b[39m:\n",
      "File \u001b[1;32m~\\AppData\\Local\\anaconda3\\Lib\\site-packages\\numpy\\lib\\stride_tricks.py:540\u001b[0m, in \u001b[0;36mbroadcast_arrays\u001b[1;34m(subok, *args)\u001b[0m\n\u001b[0;32m    533\u001b[0m \u001b[38;5;66;03m# nditer is not used here to avoid the limit of 32 arrays.\u001b[39;00m\n\u001b[0;32m    534\u001b[0m \u001b[38;5;66;03m# Otherwise, something like the following one-liner would suffice:\u001b[39;00m\n\u001b[0;32m    535\u001b[0m \u001b[38;5;66;03m# return np.nditer(args, flags=['multi_index', 'zerosize_ok'],\u001b[39;00m\n\u001b[0;32m    536\u001b[0m \u001b[38;5;66;03m#                  order='C').itviews\u001b[39;00m\n\u001b[0;32m    538\u001b[0m args \u001b[38;5;241m=\u001b[39m [np\u001b[38;5;241m.\u001b[39marray(_m, copy\u001b[38;5;241m=\u001b[39m\u001b[38;5;28;01mFalse\u001b[39;00m, subok\u001b[38;5;241m=\u001b[39msubok) \u001b[38;5;28;01mfor\u001b[39;00m _m \u001b[38;5;129;01min\u001b[39;00m args]\n\u001b[1;32m--> 540\u001b[0m shape \u001b[38;5;241m=\u001b[39m _broadcast_shape(\u001b[38;5;241m*\u001b[39margs)\n\u001b[0;32m    542\u001b[0m \u001b[38;5;28;01mif\u001b[39;00m \u001b[38;5;28mall\u001b[39m(array\u001b[38;5;241m.\u001b[39mshape \u001b[38;5;241m==\u001b[39m shape \u001b[38;5;28;01mfor\u001b[39;00m array \u001b[38;5;129;01min\u001b[39;00m args):\n\u001b[0;32m    543\u001b[0m     \u001b[38;5;66;03m# Common case where nothing needs to be broadcasted.\u001b[39;00m\n\u001b[0;32m    544\u001b[0m     \u001b[38;5;28;01mreturn\u001b[39;00m args\n",
      "File \u001b[1;32m~\\AppData\\Local\\anaconda3\\Lib\\site-packages\\numpy\\lib\\stride_tricks.py:422\u001b[0m, in \u001b[0;36m_broadcast_shape\u001b[1;34m(*args)\u001b[0m\n\u001b[0;32m    417\u001b[0m \u001b[38;5;250m\u001b[39m\u001b[38;5;124;03m\"\"\"Returns the shape of the arrays that would result from broadcasting the\u001b[39;00m\n\u001b[0;32m    418\u001b[0m \u001b[38;5;124;03msupplied arrays against each other.\u001b[39;00m\n\u001b[0;32m    419\u001b[0m \u001b[38;5;124;03m\"\"\"\u001b[39;00m\n\u001b[0;32m    420\u001b[0m \u001b[38;5;66;03m# use the old-iterator because np.nditer does not handle size 0 arrays\u001b[39;00m\n\u001b[0;32m    421\u001b[0m \u001b[38;5;66;03m# consistently\u001b[39;00m\n\u001b[1;32m--> 422\u001b[0m b \u001b[38;5;241m=\u001b[39m np\u001b[38;5;241m.\u001b[39mbroadcast(\u001b[38;5;241m*\u001b[39margs[:\u001b[38;5;241m32\u001b[39m])\n\u001b[0;32m    423\u001b[0m \u001b[38;5;66;03m# unfortunately, it cannot handle 32 or more arguments directly\u001b[39;00m\n\u001b[0;32m    424\u001b[0m \u001b[38;5;28;01mfor\u001b[39;00m pos \u001b[38;5;129;01min\u001b[39;00m \u001b[38;5;28mrange\u001b[39m(\u001b[38;5;241m32\u001b[39m, \u001b[38;5;28mlen\u001b[39m(args), \u001b[38;5;241m31\u001b[39m):\n\u001b[0;32m    425\u001b[0m     \u001b[38;5;66;03m# ironically, np.broadcast does not properly handle np.broadcast\u001b[39;00m\n\u001b[0;32m    426\u001b[0m     \u001b[38;5;66;03m# objects (it treats them as scalars)\u001b[39;00m\n\u001b[0;32m    427\u001b[0m     \u001b[38;5;66;03m# use broadcasting to avoid allocating the full array\u001b[39;00m\n",
      "\u001b[1;31mValueError\u001b[0m: shape mismatch: objects cannot be broadcast to a single shape.  Mismatch is between arg 0 with shape (12,) and arg 1 with shape (0,)."
     ]
    },
    {
     "data": {
      "image/png": "[encoded data removed]",
      "text/plain": [
       "<Figure size 640x480 with 1 Axes>"
      ]
     },
     "metadata": {},
     "output_type": "display_data"
    }
   ],
   "source": [
    "plt.bar(names_and_ranks, city_populations)\n",
    "\n",
    "plt.ylabel('Population')\n",
    "\n",
    "plt.xlabel('Cities')\n",
    "\n",
    "plt.title('City Populations')\n",
    "\n",
    "plt.xticks(rotation='vertical')\n",
    "\n",
    "plt.show()"
   ]
  },
  {
   "cell_type": "code",
   "execution_count": null,
   "id": "153d2f87-4c6e-44d7-948c-812a7b5c12be",
   "metadata": {},
   "outputs": [],
   "source": [
    "city_areas = []\n",
    "for index in city_indices:\n",
    "    city_areas.append(cities[index][\"Area\"])"
   ]
  },
  {
   "cell_type": "code",
   "execution_count": null,
   "id": "99687eb4-7459-4fa3-8378-5c16940c0a2e",
   "metadata": {},
   "outputs": [],
   "source": [
    "city_areas"
   ]
  },
  {
   "cell_type": "code",
   "execution_count": null,
   "id": "9fe46e1f-8093-4a7b-a1df-d8ae4aa144b8",
   "metadata": {},
   "outputs": [],
   "source": [
    "plt.bar(names_and_ranks, city_areas)\n",
    "\n",
    "plt.ylabel('Area')\n",
    "\n",
    "plt.xlabel('Cities')\n",
    "\n",
    "plt.title('City Areas')\n",
    "\n",
    "plt.xticks(rotation='vertical')\n",
    "\n",
    "plt.show()"
   ]
  },
  {
   "cell_type": "markdown",
   "id": "30940b29-6817-4761-81ac-b442658d4378",
   "metadata": {},
   "source": [
    "# While_Loops"
   ]
  },
  {
   "cell_type": "code",
   "execution_count": null,
   "id": "6754beb7-be88-43b7-9d2b-dd6ae141c0f6",
   "metadata": {},
   "outputs": [],
   "source": [
    "numbers = list(range(30))\n",
    "\n",
    "for num in numbers:\n",
    "    if num > 30:\n",
    "        break\n",
    "    elif num % 2 != 0:\n",
    "        continue\n",
    "    print(num)"
   ]
  },
  {
   "cell_type": "code",
   "execution_count": null,
   "id": "8c381a19-7475-4cb9-b447-dd4f8736a2e9",
   "metadata": {},
   "outputs": [],
   "source": [
    "numbers = list(range(40))\n",
    "\n",
    "for num in numbers:\n",
    "    if num > 40:\n",
    "        break\n",
    "    elif num % 2 != 0:\n",
    "        continue\n",
    "    print(num)"
   ]
  },
  {
   "cell_type": "code",
   "execution_count": null,
   "id": "325be9a1-e3ca-4d1b-9c0a-08b7568b0c55",
   "metadata": {},
   "outputs": [],
   "source": [
    "numbers = list(range(50))\n",
    "\n",
    "for num in numbers:\n",
    "    if num > 30:\n",
    "        break\n",
    "    elif num % 4 != 2:\n",
    "        continue\n",
    "    print(num)"
   ]
  },
  {
   "cell_type": "code",
   "execution_count": null,
   "id": "62133414-f5bc-4465-8e7b-8a004ff69724",
   "metadata": {},
   "outputs": [],
   "source": [
    "numbers = list(range(50))\n",
    "\n",
    "for num in numbers:\n",
    "    if num > 50:\n",
    "        break\n",
    "    elif num % 4 != 2:\n",
    "        continue\n",
    "    print(num)"
   ]
  },
  {
   "cell_type": "markdown",
   "id": "59c68af7-31a9-49ed-8c06-453d98f8bd26",
   "metadata": {},
   "source": [
    "# While Loops, Breaks and Continue"
   ]
  },
  {
   "cell_type": "code",
   "execution_count": null,
   "id": "a3a6f1df-56b7-41c2-9c42-5f18110ad462",
   "metadata": {},
   "outputs": [],
   "source": [
    "slices_of_pizza = 6\n",
    "\n",
    "slices_eaten = 0\n",
    "\n",
    "while slices_eaten < 6:\n",
    "    print('Another slice eaten!')\n",
    "\n",
    "    slices_eaten += 1\n",
    "\n",
    "    print('Now eaten {} slices!'.format(slices_eaten))"
   ]
  },
  {
   "cell_type": "code",
   "execution_count": null,
   "id": "f1e798b5-e030-4d61-879f-5eb9435f0889",
   "metadata": {},
   "outputs": [],
   "source": [
    "time_for_breakfast = 1468\n",
    "\n",
    "number_of_cooked_pancakes = 0\n",
    "\n",
    "while number_of_cooked_pancakes < 6:\n",
    "    time_for_breakfast -= 69\n",
    "    number_of_cooked_pancakes +=1\n",
    "print(f\"Time left after pancakes {round(time_for_breakfast/60,2)} minutes!\")\n",
    "    "
   ]
  },
  {
   "cell_type": "code",
   "execution_count": 85,
   "id": "0d089bcc-e1fc-4fd8-a2da-3e82f0bc61a2",
   "metadata": {},
   "outputs": [
    {
     "data": {
      "text/plain": [
       "17.567"
      ]
     },
     "execution_count": 85,
     "metadata": {},
     "output_type": "execute_result"
    }
   ],
   "source": [
    "round(17.566666666666666,3)"
   ]
  },
  {
   "cell_type": "code",
   "execution_count": 86,
   "id": "1aa8b8c8-d8e9-4332-b3d4-02f24f8a12ff",
   "metadata": {},
   "outputs": [
    {
     "name": "stdout",
     "output_type": "stream",
     "text": [
      "fed_patrons: [0, 2, 4, 6, 8, 10, 12, 14, 16, 18, 20, 22, 24, 26, 28]\n",
      "hungry_patrons:[1, 3, 5, 7, 9, 11, 13, 15, 17, 19, 21, 23, 25, 27, 29]\n"
     ]
    }
   ],
   "source": [
    "line_of_hungry_patrons = list(range(0,30))\n",
    "\n",
    "fed_patrons = []\n",
    "hungry_patrons = []\n",
    "\n",
    "for num in line_of_hungry_patrons:    \n",
    "    \n",
    "    if num % 2 != 0:\n",
    "        hungry_patrons.append(num)\n",
    "    else:\n",
    "        fed_patrons.append(num)\n",
    "    \n",
    "print(f\"fed_patrons: {fed_patrons}\")\n",
    "\n",
    "print(f\"hungry_patrons:{hungry_patrons}\")"
   ]
  },
  {
   "cell_type": "code",
   "execution_count": 87,
   "id": "33306d9b-9586-4bb8-8b93-790f55cffba2",
   "metadata": {},
   "outputs": [],
   "source": [
    "people = [\n",
    "\n",
    "   {'name': \"Daniel\", 'age': 29, 'job': \"Engineer\", 'pet': \"Cat\", 'pet_name': \"Gato\"},\n",
    "\n",
    "   {'name': \"Katie\", 'age': 30, 'job': \"Teacher\", 'pet': \"Cat\", 'pet_name': \"Frank\"},\n",
    "\n",
    "   {'name': \"Owen\", 'age': 26, 'job': \"Sales person\", 'pet': \"Cat\", 'pet_name': \"Cosmo\"},\n",
    "\n",
    "   {'name': \"Josh\", 'age': 22, 'job': \"Student\", 'pet': \"Cat\", 'pet_name': \"Chat\"},\n",
    "\n",
    "   {'name': \"Estelle\", 'age': 35, 'job': \"French Diplomat\", 'pet': \"Dog\", 'pet_name': \"Gabby\"},\n",
    "\n",
    "   {'name': \"Gustav\", 'age': 24, 'job': \"Brewer\", 'pet': \"Dog\", 'pet_name': \"Helen\"}\n",
    "\n",
    "]"
   ]
  },
  {
   "cell_type": "code",
   "execution_count": 88,
   "id": "33f941b6-b5bb-4447-980f-5ce612b4e2bd",
   "metadata": {},
   "outputs": [
    {
     "name": "stdout",
     "output_type": "stream",
     "text": [
      "Estelle has a dog! had to check 4 of records to find a dog owner.\n"
     ]
    }
   ],
   "source": [
    "first_dog_person = None\n",
    "\n",
    "iteration_count = 0\n",
    "for person in people:\n",
    "    if person ['pet'] !='Dog':\n",
    "        iteration_count += 1\n",
    "        continue\n",
    "    else:\n",
    "        first_dog_person = person ['name']\n",
    "        break\n",
    "\n",
    "print(f\"{first_dog_person} has a dog! had to check {iteration_count} of records to find a dog owner.\")\n",
    "        "
   ]
  },
  {
   "cell_type": "code",
   "execution_count": 90,
   "id": "297093b6-362f-4645-a628-669e8fb7d7f3",
   "metadata": {},
   "outputs": [],
   "source": [
    "first_dog_person = None\n",
    "iteration_count = 0\n",
    "for value in people:\n",
    "    iteration_count +=1\n",
    "\n",
    "    if iteration_count == 3:\n",
    "        break\n",
    "        \n",
    "    if value['pet'] == 'Dog':\n",
    "        first_dog_person = value         "
   ]
  },
  {
   "cell_type": "code",
   "execution_count": 91,
   "id": "5517e8cc-6959-454c-8f7c-430ff92d7f47",
   "metadata": {},
   "outputs": [],
   "source": [
    "first_dog_person"
   ]
  },
  {
   "cell_type": "markdown",
   "id": "6c1e0e54-4987-49db-9b53-da8a08f1109d",
   "metadata": {},
   "source": [
    "# Nested_Loops"
   ]
  },
  {
   "cell_type": "code",
   "execution_count": 93,
   "id": "ad1890ed-fd1b-4c6e-81d7-c97cd5aaa058",
   "metadata": {},
   "outputs": [],
   "source": [
    "# Run this cell without changes\n",
    "\n",
    "soccer_match = [\n",
    "\n",
    " { \"home_team\": True,\n",
    "\n",
    "   \"away_team\": False,\n",
    "\n",
    "   \"country\": \"France\",\n",
    "\n",
    "   \"num_passes\": 484,\n",
    "\n",
    "   \"passes_completed\": 423,\n",
    "\n",
    "   \"fouls_committed\": 16,\n",
    "\n",
    "   \"colors\": [\"blue\", \"white\", \"red\"],\n",
    "\n",
    "   \"players\": [\n",
    "\n",
    "     {\n",
    "\n",
    "       \"name\": \"Hugo LLORIS\",\n",
    "\n",
    "       \"captain\": True,\n",
    "\n",
    "       \"shirt_number\": 1,\n",
    "\n",
    "       \"position\": \"Goalie\"\n",
    "\n",
    "     },\n",
    "\n",
    "     {\n",
    "\n",
    "       \"name\": \"Benjamin PAVARD\",\n",
    "\n",
    "       \"captain\": False,\n",
    "\n",
    "       \"shirt_number\": 2,\n",
    "\n",
    "       \"position\": \"Defender\"\n",
    "\n",
    "     },\n",
    "\n",
    "     {\n",
    "\n",
    "       \"name\": \"Raphael VARANE\",\n",
    "\n",
    "       \"captain\": False,\n",
    "\n",
    "       \"shirt_number\": 4,\n",
    "\n",
    "       \"position\": \"Defender\"\n",
    "\n",
    "     },\n",
    "\n",
    "     {\n",
    "\n",
    "       \"name\": \"Samuel UMTITI\",\n",
    "\n",
    "       \"captain\": False,\n",
    "\n",
    "       \"shirt_number\": 5,\n",
    "\n",
    "       \"position\": \"Defender\"\n",
    "\n",
    "     },\n",
    "\n",
    "     {\n",
    "\n",
    "       \"name\": \"Paul POGBA\",\n",
    "\n",
    "       \"captain\": False,\n",
    "\n",
    "       \"shirt_number\": 6,\n",
    "\n",
    "       \"position\": \"Midfield\"\n",
    "\n",
    "     },\n",
    "\n",
    "     {\n",
    "\n",
    "       \"name\": \"Antoine GRIEZMANN\",\n",
    "\n",
    "       \"captain\": False,\n",
    "\n",
    "       \"shirt_number\": 7,\n",
    "\n",
    "       \"position\": \"Forward\"\n",
    "\n",
    "     },\n",
    "\n",
    "     {\n",
    "\n",
    "       \"name\": \"Kylian MBAPPE\",\n",
    "\n",
    "       \"captain\": False,\n",
    "\n",
    "       \"shirt_number\": 10,\n",
    "\n",
    "       \"position\": \"Forward\"\n",
    "\n",
    "     },\n",
    "\n",
    "     {\n",
    "\n",
    "       \"name\": \"Ousmane DEMBELE\",\n",
    "\n",
    "       \"captain\": False,\n",
    "\n",
    "       \"shirt_number\": 11,\n",
    "\n",
    "       \"position\": \"Forward\"\n",
    "\n",
    "     },\n",
    "\n",
    "     {\n",
    "\n",
    "       \"name\": \"Corentin TOLISSO\",\n",
    "\n",
    "       \"captain\": False,\n",
    "\n",
    "       \"shirt_number\": 12,\n",
    "\n",
    "       \"position\": \"Midfield\"\n",
    "\n",
    "     },\n",
    "\n",
    "     {\n",
    "\n",
    "       \"name\": \"Ngolo KANTE\",\n",
    "\n",
    "       \"captain\": False,\n",
    "\n",
    "       \"shirt_number\": 13,\n",
    "\n",
    "       \"position\": \"Midfield\"\n",
    "\n",
    "     },\n",
    "\n",
    "     {\n",
    "\n",
    "       \"name\": \"Lucas HERNANDEZ\",\n",
    "\n",
    "       \"captain\": False,\n",
    "\n",
    "       \"shirt_number\": 21,\n",
    "\n",
    "       \"position\": \"Defender\"\n",
    "\n",
    "     }\n",
    "\n",
    "   ],\n",
    "\n",
    " },\n",
    "\n",
    " { \"home_team\": False,\n",
    "\n",
    "   \"away_team\": True,\n",
    "\n",
    "   \"country\": \"Australia\",\n",
    "\n",
    "   \"num_passes\": 390,\n",
    "\n",
    "   \"passes_completed\": 332,\n",
    "\n",
    "   \"fouls_committed\": 19,\n",
    "\n",
    "   \"colors\": [\"green\", \"gold\"],\n",
    "\n",
    "   \"players\": [\n",
    "\n",
    "     {\n",
    "\n",
    "       \"name\": \"Mathew RYAN\",\n",
    "\n",
    "       \"captain\": False,\n",
    "\n",
    "       \"shirt_number\": 1,\n",
    "\n",
    "       \"position\": \"Goalie\"\n",
    "\n",
    "     },\n",
    "\n",
    "     {\n",
    "\n",
    "       \"name\": \"Mark MILLIGAN\",\n",
    "\n",
    "       \"captain\": False,\n",
    "\n",
    "       \"shirt_number\": 5,\n",
    "\n",
    "       \"position\": \"Defender\"\n",
    "\n",
    "     },\n",
    "\n",
    "     {\n",
    "\n",
    "       \"name\": \"Mathew LECKIE\",\n",
    "\n",
    "       \"captain\": False,\n",
    "\n",
    "       \"shirt_number\": 7,\n",
    "\n",
    "       \"position\": \"Forward\"\n",
    "\n",
    "     },\n",
    "\n",
    "     {\n",
    "\n",
    "       \"name\": \"Robbie KRUSE\",\n",
    "\n",
    "       \"captain\": False,\n",
    "\n",
    "       \"shirt_number\": 10,\n",
    "\n",
    "       \"position\": \"Forward\"\n",
    "\n",
    "     },\n",
    "\n",
    "     {\n",
    "\n",
    "       \"name\": \"Andrew NABBOUT\",\n",
    "\n",
    "       \"captain\": False,\n",
    "\n",
    "       \"shirt_number\": 11,\n",
    "\n",
    "       \"position\": \"Forward\"\n",
    "\n",
    "     },\n",
    "\n",
    "     {\n",
    "\n",
    "       \"name\": \"Aaron MOOY\",\n",
    "\n",
    "       \"captain\": False,\n",
    "\n",
    "       \"shirt_number\": 13,\n",
    "\n",
    "       \"position\": \"Midfield\"\n",
    "\n",
    "     },\n",
    "\n",
    "     {\n",
    "\n",
    "       \"name\": \"Mile JEDINAK\",\n",
    "\n",
    "       \"captain\": True,\n",
    "\n",
    "       \"shirt_number\": 15,\n",
    "\n",
    "       \"position\": \"Midfield\"\n",
    "\n",
    "     },\n",
    "\n",
    "     {\n",
    "\n",
    "       \"name\": \"Aziz BEHICH\",\n",
    "\n",
    "       \"captain\": False,\n",
    "\n",
    "       \"shirt_number\": 16,\n",
    "\n",
    "       \"position\": \"Defender\"\n",
    "\n",
    "     },\n",
    "\n",
    "     {\n",
    "\n",
    "       \"name\": \"Joshua RISDON\",\n",
    "\n",
    "       \"captain\": False,\n",
    "\n",
    "       \"shirt_number\": 19,\n",
    "\n",
    "       \"position\": \"Defender\"\n",
    "\n",
    "     },\n",
    "\n",
    "     {\n",
    "\n",
    "       \"name\": \"Trent SAINSBURY\",\n",
    "\n",
    "       \"captain\": False,\n",
    "\n",
    "       \"shirt_number\": 20,\n",
    "\n",
    "       \"position\": \"Defender\"\n",
    "\n",
    "     },\n",
    "\n",
    "     {\n",
    "\n",
    "       \"name\": \"Tom ROGIC\",\n",
    "\n",
    "       \"captain\": False,\n",
    "\n",
    "       \"shirt_number\": 23,\n",
    "\n",
    "       \"position\": \"Midfield\"\n",
    "\n",
    "     }\n",
    "\n",
    "   ]\n",
    "\n",
    " }\n",
    "\n",
    "]"
   ]
  },
  {
   "cell_type": "code",
   "execution_count": 94,
   "id": "a6175a18-40a8-4834-aac0-226c8aa8c488",
   "metadata": {},
   "outputs": [
    {
     "data": {
      "text/plain": [
       "[{'home_team': True,\n",
       "  'away_team': False,\n",
       "  'country': 'France',\n",
       "  'num_passes': 484,\n",
       "  'passes_completed': 423,\n",
       "  'fouls_committed': 16,\n",
       "  'colors': ['blue', 'white', 'red'],\n",
       "  'players': [{'name': 'Hugo LLORIS',\n",
       "    'captain': True,\n",
       "    'shirt_number': 1,\n",
       "    'position': 'Goalie'},\n",
       "   {'name': 'Benjamin PAVARD',\n",
       "    'captain': False,\n",
       "    'shirt_number': 2,\n",
       "    'position': 'Defender'},\n",
       "   {'name': 'Raphael VARANE',\n",
       "    'captain': False,\n",
       "    'shirt_number': 4,\n",
       "    'position': 'Defender'},\n",
       "   {'name': 'Samuel UMTITI',\n",
       "    'captain': False,\n",
       "    'shirt_number': 5,\n",
       "    'position': 'Defender'},\n",
       "   {'name': 'Paul POGBA',\n",
       "    'captain': False,\n",
       "    'shirt_number': 6,\n",
       "    'position': 'Midfield'},\n",
       "   {'name': 'Antoine GRIEZMANN',\n",
       "    'captain': False,\n",
       "    'shirt_number': 7,\n",
       "    'position': 'Forward'},\n",
       "   {'name': 'Kylian MBAPPE',\n",
       "    'captain': False,\n",
       "    'shirt_number': 10,\n",
       "    'position': 'Forward'},\n",
       "   {'name': 'Ousmane DEMBELE',\n",
       "    'captain': False,\n",
       "    'shirt_number': 11,\n",
       "    'position': 'Forward'},\n",
       "   {'name': 'Corentin TOLISSO',\n",
       "    'captain': False,\n",
       "    'shirt_number': 12,\n",
       "    'position': 'Midfield'},\n",
       "   {'name': 'Ngolo KANTE',\n",
       "    'captain': False,\n",
       "    'shirt_number': 13,\n",
       "    'position': 'Midfield'},\n",
       "   {'name': 'Lucas HERNANDEZ',\n",
       "    'captain': False,\n",
       "    'shirt_number': 21,\n",
       "    'position': 'Defender'}]},\n",
       " {'home_team': False,\n",
       "  'away_team': True,\n",
       "  'country': 'Australia',\n",
       "  'num_passes': 390,\n",
       "  'passes_completed': 332,\n",
       "  'fouls_committed': 19,\n",
       "  'colors': ['green', 'gold'],\n",
       "  'players': [{'name': 'Mathew RYAN',\n",
       "    'captain': False,\n",
       "    'shirt_number': 1,\n",
       "    'position': 'Goalie'},\n",
       "   {'name': 'Mark MILLIGAN',\n",
       "    'captain': False,\n",
       "    'shirt_number': 5,\n",
       "    'position': 'Defender'},\n",
       "   {'name': 'Mathew LECKIE',\n",
       "    'captain': False,\n",
       "    'shirt_number': 7,\n",
       "    'position': 'Forward'},\n",
       "   {'name': 'Robbie KRUSE',\n",
       "    'captain': False,\n",
       "    'shirt_number': 10,\n",
       "    'position': 'Forward'},\n",
       "   {'name': 'Andrew NABBOUT',\n",
       "    'captain': False,\n",
       "    'shirt_number': 11,\n",
       "    'position': 'Forward'},\n",
       "   {'name': 'Aaron MOOY',\n",
       "    'captain': False,\n",
       "    'shirt_number': 13,\n",
       "    'position': 'Midfield'},\n",
       "   {'name': 'Mile JEDINAK',\n",
       "    'captain': True,\n",
       "    'shirt_number': 15,\n",
       "    'position': 'Midfield'},\n",
       "   {'name': 'Aziz BEHICH',\n",
       "    'captain': False,\n",
       "    'shirt_number': 16,\n",
       "    'position': 'Defender'},\n",
       "   {'name': 'Joshua RISDON',\n",
       "    'captain': False,\n",
       "    'shirt_number': 19,\n",
       "    'position': 'Defender'},\n",
       "   {'name': 'Trent SAINSBURY',\n",
       "    'captain': False,\n",
       "    'shirt_number': 20,\n",
       "    'position': 'Defender'},\n",
       "   {'name': 'Tom ROGIC',\n",
       "    'captain': False,\n",
       "    'shirt_number': 23,\n",
       "    'position': 'Midfield'}]}]"
      ]
     },
     "execution_count": 94,
     "metadata": {},
     "output_type": "execute_result"
    }
   ],
   "source": [
    "soccer_match"
   ]
  },
  {
   "cell_type": "code",
   "execution_count": 98,
   "id": "5fb7c374-0350-4c7a-b3bc-304fd186dd0a",
   "metadata": {},
   "outputs": [
    {
     "name": "stdout",
     "output_type": "stream",
     "text": [
      "Information about soccer_match\n",
      "Type: <class 'list'>\n",
      "Length: 2\n",
      "\n",
      "Information about soccer_match[0]:\n",
      "Type: <class 'dict'>\n",
      "Length: 8\n",
      "Keys: dict_keys(['home_team', 'away_team', 'country', 'num_passes', 'passes_completed', 'fouls_committed', 'colors', 'players'])\n",
      "Values: dict_values([False, True, 'Australia', 390, 332, 19, ['green', 'gold'], [{'name': 'Mathew RYAN', 'captain': False, 'shirt_number': 1, 'position': 'Goalie'}, {'name': 'Mark MILLIGAN', 'captain': False, 'shirt_number': 5, 'position': 'Defender'}, {'name': 'Mathew LECKIE', 'captain': False, 'shirt_number': 7, 'position': 'Forward'}, {'name': 'Robbie KRUSE', 'captain': False, 'shirt_number': 10, 'position': 'Forward'}, {'name': 'Andrew NABBOUT', 'captain': False, 'shirt_number': 11, 'position': 'Forward'}, {'name': 'Aaron MOOY', 'captain': False, 'shirt_number': 13, 'position': 'Midfield'}, {'name': 'Mile JEDINAK', 'captain': True, 'shirt_number': 15, 'position': 'Midfield'}, {'name': 'Aziz BEHICH', 'captain': False, 'shirt_number': 16, 'position': 'Defender'}, {'name': 'Joshua RISDON', 'captain': False, 'shirt_number': 19, 'position': 'Defender'}, {'name': 'Trent SAINSBURY', 'captain': False, 'shirt_number': 20, 'position': 'Defender'}, {'name': 'Tom ROGIC', 'captain': False, 'shirt_number': 23, 'position': 'Midfield'}]])\n"
     ]
    }
   ],
   "source": [
    "# Run this cell without changes\n",
    "print(\"Information about soccer_match\")\n",
    "print(\"Type:\", type(soccer_match))\n",
    "print(\"Length:\", len(soccer_match))\n",
    "print()\n",
    "print(\"Information about soccer_match[0]:\")\n",
    "print(\"Type:\", type(soccer_match[0]))\n",
    "print(\"Length:\", len(soccer_match[0]))\n",
    "print(\"Keys:\", soccer_match[0].keys())\n",
    "print(\"Values:\", soccer_match[1].values())"
   ]
  },
  {
   "cell_type": "code",
   "execution_count": 105,
   "id": "801f99b6-564f-4ed4-9f49-ff7658abc30d",
   "metadata": {},
   "outputs": [
    {
     "data": {
      "text/plain": [
       "['France', 'Australia']"
      ]
     },
     "execution_count": 105,
     "metadata": {},
     "output_type": "execute_result"
    }
   ],
   "source": [
    "countries = []\n",
    "for i in range(len(soccer_match)):\n",
    "    countries.append(soccer_match[i]['country'])\n",
    "                     \n",
    "countries"
   ]
  },
  {
   "cell_type": "code",
   "execution_count": 112,
   "id": "e9669729-e3b0-45b3-807b-cc9c674a7957",
   "metadata": {},
   "outputs": [
    {
     "data": {
      "text/plain": [
       "['blue', 'white', 'red', 'green', 'gold']"
      ]
     },
     "execution_count": 112,
     "metadata": {},
     "output_type": "execute_result"
    }
   ],
   "source": [
    "colors = []\n",
    "for team in soccer_match:\n",
    "    colors.extend(team['colors'])\n",
    "colors"
   ]
  },
  {
   "cell_type": "code",
   "execution_count": 122,
   "id": "ad35183f-24e2-4d13-8d3e-7ee88976b810",
   "metadata": {},
   "outputs": [
    {
     "name": "stdout",
     "output_type": "stream",
     "text": [
      "[{'name': 'Hugo LLORIS', 'captain': True, 'shirt_number': 1, 'position': 'Goalie'}, {'name': 'Benjamin PAVARD', 'captain': False, 'shirt_number': 2, 'position': 'Defender'}, {'name': 'Raphael VARANE', 'captain': False, 'shirt_number': 4, 'position': 'Defender'}, {'name': 'Samuel UMTITI', 'captain': False, 'shirt_number': 5, 'position': 'Defender'}, {'name': 'Paul POGBA', 'captain': False, 'shirt_number': 6, 'position': 'Midfield'}, {'name': 'Antoine GRIEZMANN', 'captain': False, 'shirt_number': 7, 'position': 'Forward'}, {'name': 'Kylian MBAPPE', 'captain': False, 'shirt_number': 10, 'position': 'Forward'}, {'name': 'Ousmane DEMBELE', 'captain': False, 'shirt_number': 11, 'position': 'Forward'}, {'name': 'Corentin TOLISSO', 'captain': False, 'shirt_number': 12, 'position': 'Midfield'}, {'name': 'Ngolo KANTE', 'captain': False, 'shirt_number': 13, 'position': 'Midfield'}, {'name': 'Lucas HERNANDEZ', 'captain': False, 'shirt_number': 21, 'position': 'Defender'}, {'name': 'Hugo LLORIS', 'captain': True, 'shirt_number': 1, 'position': 'Goalie'}, {'name': 'Benjamin PAVARD', 'captain': False, 'shirt_number': 2, 'position': 'Defender'}, {'name': 'Raphael VARANE', 'captain': False, 'shirt_number': 4, 'position': 'Defender'}, {'name': 'Samuel UMTITI', 'captain': False, 'shirt_number': 5, 'position': 'Defender'}, {'name': 'Paul POGBA', 'captain': False, 'shirt_number': 6, 'position': 'Midfield'}, {'name': 'Antoine GRIEZMANN', 'captain': False, 'shirt_number': 7, 'position': 'Forward'}, {'name': 'Kylian MBAPPE', 'captain': False, 'shirt_number': 10, 'position': 'Forward'}, {'name': 'Ousmane DEMBELE', 'captain': False, 'shirt_number': 11, 'position': 'Forward'}, {'name': 'Corentin TOLISSO', 'captain': False, 'shirt_number': 12, 'position': 'Midfield'}, {'name': 'Ngolo KANTE', 'captain': False, 'shirt_number': 13, 'position': 'Midfield'}, {'name': 'Lucas HERNANDEZ', 'captain': False, 'shirt_number': 21, 'position': 'Defender'}, {'name': 'Hugo LLORIS', 'captain': True, 'shirt_number': 1, 'position': 'Goalie'}, {'name': 'Benjamin PAVARD', 'captain': False, 'shirt_number': 2, 'position': 'Defender'}, {'name': 'Raphael VARANE', 'captain': False, 'shirt_number': 4, 'position': 'Defender'}, {'name': 'Samuel UMTITI', 'captain': False, 'shirt_number': 5, 'position': 'Defender'}, {'name': 'Paul POGBA', 'captain': False, 'shirt_number': 6, 'position': 'Midfield'}, {'name': 'Antoine GRIEZMANN', 'captain': False, 'shirt_number': 7, 'position': 'Forward'}, {'name': 'Kylian MBAPPE', 'captain': False, 'shirt_number': 10, 'position': 'Forward'}, {'name': 'Ousmane DEMBELE', 'captain': False, 'shirt_number': 11, 'position': 'Forward'}, {'name': 'Corentin TOLISSO', 'captain': False, 'shirt_number': 12, 'position': 'Midfield'}, {'name': 'Ngolo KANTE', 'captain': False, 'shirt_number': 13, 'position': 'Midfield'}, {'name': 'Lucas HERNANDEZ', 'captain': False, 'shirt_number': 21, 'position': 'Defender'}, {'name': 'Hugo LLORIS', 'captain': True, 'shirt_number': 1, 'position': 'Goalie'}, {'name': 'Benjamin PAVARD', 'captain': False, 'shirt_number': 2, 'position': 'Defender'}, {'name': 'Raphael VARANE', 'captain': False, 'shirt_number': 4, 'position': 'Defender'}, {'name': 'Samuel UMTITI', 'captain': False, 'shirt_number': 5, 'position': 'Defender'}, {'name': 'Paul POGBA', 'captain': False, 'shirt_number': 6, 'position': 'Midfield'}, {'name': 'Antoine GRIEZMANN', 'captain': False, 'shirt_number': 7, 'position': 'Forward'}, {'name': 'Kylian MBAPPE', 'captain': False, 'shirt_number': 10, 'position': 'Forward'}, {'name': 'Ousmane DEMBELE', 'captain': False, 'shirt_number': 11, 'position': 'Forward'}, {'name': 'Corentin TOLISSO', 'captain': False, 'shirt_number': 12, 'position': 'Midfield'}, {'name': 'Ngolo KANTE', 'captain': False, 'shirt_number': 13, 'position': 'Midfield'}, {'name': 'Lucas HERNANDEZ', 'captain': False, 'shirt_number': 21, 'position': 'Defender'}, {'name': 'Hugo LLORIS', 'captain': True, 'shirt_number': 1, 'position': 'Goalie'}, {'name': 'Benjamin PAVARD', 'captain': False, 'shirt_number': 2, 'position': 'Defender'}, {'name': 'Raphael VARANE', 'captain': False, 'shirt_number': 4, 'position': 'Defender'}, {'name': 'Samuel UMTITI', 'captain': False, 'shirt_number': 5, 'position': 'Defender'}, {'name': 'Paul POGBA', 'captain': False, 'shirt_number': 6, 'position': 'Midfield'}, {'name': 'Antoine GRIEZMANN', 'captain': False, 'shirt_number': 7, 'position': 'Forward'}, {'name': 'Kylian MBAPPE', 'captain': False, 'shirt_number': 10, 'position': 'Forward'}, {'name': 'Ousmane DEMBELE', 'captain': False, 'shirt_number': 11, 'position': 'Forward'}, {'name': 'Corentin TOLISSO', 'captain': False, 'shirt_number': 12, 'position': 'Midfield'}, {'name': 'Ngolo KANTE', 'captain': False, 'shirt_number': 13, 'position': 'Midfield'}, {'name': 'Lucas HERNANDEZ', 'captain': False, 'shirt_number': 21, 'position': 'Defender'}, {'name': 'Hugo LLORIS', 'captain': True, 'shirt_number': 1, 'position': 'Goalie'}, {'name': 'Benjamin PAVARD', 'captain': False, 'shirt_number': 2, 'position': 'Defender'}, {'name': 'Raphael VARANE', 'captain': False, 'shirt_number': 4, 'position': 'Defender'}, {'name': 'Samuel UMTITI', 'captain': False, 'shirt_number': 5, 'position': 'Defender'}, {'name': 'Paul POGBA', 'captain': False, 'shirt_number': 6, 'position': 'Midfield'}, {'name': 'Antoine GRIEZMANN', 'captain': False, 'shirt_number': 7, 'position': 'Forward'}, {'name': 'Kylian MBAPPE', 'captain': False, 'shirt_number': 10, 'position': 'Forward'}, {'name': 'Ousmane DEMBELE', 'captain': False, 'shirt_number': 11, 'position': 'Forward'}, {'name': 'Corentin TOLISSO', 'captain': False, 'shirt_number': 12, 'position': 'Midfield'}, {'name': 'Ngolo KANTE', 'captain': False, 'shirt_number': 13, 'position': 'Midfield'}, {'name': 'Lucas HERNANDEZ', 'captain': False, 'shirt_number': 21, 'position': 'Defender'}, {'name': 'Hugo LLORIS', 'captain': True, 'shirt_number': 1, 'position': 'Goalie'}, {'name': 'Benjamin PAVARD', 'captain': False, 'shirt_number': 2, 'position': 'Defender'}, {'name': 'Raphael VARANE', 'captain': False, 'shirt_number': 4, 'position': 'Defender'}, {'name': 'Samuel UMTITI', 'captain': False, 'shirt_number': 5, 'position': 'Defender'}, {'name': 'Paul POGBA', 'captain': False, 'shirt_number': 6, 'position': 'Midfield'}, {'name': 'Antoine GRIEZMANN', 'captain': False, 'shirt_number': 7, 'position': 'Forward'}, {'name': 'Kylian MBAPPE', 'captain': False, 'shirt_number': 10, 'position': 'Forward'}, {'name': 'Ousmane DEMBELE', 'captain': False, 'shirt_number': 11, 'position': 'Forward'}, {'name': 'Corentin TOLISSO', 'captain': False, 'shirt_number': 12, 'position': 'Midfield'}, {'name': 'Ngolo KANTE', 'captain': False, 'shirt_number': 13, 'position': 'Midfield'}, {'name': 'Lucas HERNANDEZ', 'captain': False, 'shirt_number': 21, 'position': 'Defender'}, {'name': 'Hugo LLORIS', 'captain': True, 'shirt_number': 1, 'position': 'Goalie'}, {'name': 'Benjamin PAVARD', 'captain': False, 'shirt_number': 2, 'position': 'Defender'}, {'name': 'Raphael VARANE', 'captain': False, 'shirt_number': 4, 'position': 'Defender'}, {'name': 'Samuel UMTITI', 'captain': False, 'shirt_number': 5, 'position': 'Defender'}, {'name': 'Paul POGBA', 'captain': False, 'shirt_number': 6, 'position': 'Midfield'}, {'name': 'Antoine GRIEZMANN', 'captain': False, 'shirt_number': 7, 'position': 'Forward'}, {'name': 'Kylian MBAPPE', 'captain': False, 'shirt_number': 10, 'position': 'Forward'}, {'name': 'Ousmane DEMBELE', 'captain': False, 'shirt_number': 11, 'position': 'Forward'}, {'name': 'Corentin TOLISSO', 'captain': False, 'shirt_number': 12, 'position': 'Midfield'}, {'name': 'Ngolo KANTE', 'captain': False, 'shirt_number': 13, 'position': 'Midfield'}, {'name': 'Lucas HERNANDEZ', 'captain': False, 'shirt_number': 21, 'position': 'Defender'}, {'name': 'Mathew RYAN', 'captain': False, 'shirt_number': 1, 'position': 'Goalie'}, {'name': 'Mark MILLIGAN', 'captain': False, 'shirt_number': 5, 'position': 'Defender'}, {'name': 'Mathew LECKIE', 'captain': False, 'shirt_number': 7, 'position': 'Forward'}, {'name': 'Robbie KRUSE', 'captain': False, 'shirt_number': 10, 'position': 'Forward'}, {'name': 'Andrew NABBOUT', 'captain': False, 'shirt_number': 11, 'position': 'Forward'}, {'name': 'Aaron MOOY', 'captain': False, 'shirt_number': 13, 'position': 'Midfield'}, {'name': 'Mile JEDINAK', 'captain': True, 'shirt_number': 15, 'position': 'Midfield'}, {'name': 'Aziz BEHICH', 'captain': False, 'shirt_number': 16, 'position': 'Defender'}, {'name': 'Joshua RISDON', 'captain': False, 'shirt_number': 19, 'position': 'Defender'}, {'name': 'Trent SAINSBURY', 'captain': False, 'shirt_number': 20, 'position': 'Defender'}, {'name': 'Tom ROGIC', 'captain': False, 'shirt_number': 23, 'position': 'Midfield'}, {'name': 'Mathew RYAN', 'captain': False, 'shirt_number': 1, 'position': 'Goalie'}, {'name': 'Mark MILLIGAN', 'captain': False, 'shirt_number': 5, 'position': 'Defender'}, {'name': 'Mathew LECKIE', 'captain': False, 'shirt_number': 7, 'position': 'Forward'}, {'name': 'Robbie KRUSE', 'captain': False, 'shirt_number': 10, 'position': 'Forward'}, {'name': 'Andrew NABBOUT', 'captain': False, 'shirt_number': 11, 'position': 'Forward'}, {'name': 'Aaron MOOY', 'captain': False, 'shirt_number': 13, 'position': 'Midfield'}, {'name': 'Mile JEDINAK', 'captain': True, 'shirt_number': 15, 'position': 'Midfield'}, {'name': 'Aziz BEHICH', 'captain': False, 'shirt_number': 16, 'position': 'Defender'}, {'name': 'Joshua RISDON', 'captain': False, 'shirt_number': 19, 'position': 'Defender'}, {'name': 'Trent SAINSBURY', 'captain': False, 'shirt_number': 20, 'position': 'Defender'}, {'name': 'Tom ROGIC', 'captain': False, 'shirt_number': 23, 'position': 'Midfield'}, {'name': 'Mathew RYAN', 'captain': False, 'shirt_number': 1, 'position': 'Goalie'}, {'name': 'Mark MILLIGAN', 'captain': False, 'shirt_number': 5, 'position': 'Defender'}, {'name': 'Mathew LECKIE', 'captain': False, 'shirt_number': 7, 'position': 'Forward'}, {'name': 'Robbie KRUSE', 'captain': False, 'shirt_number': 10, 'position': 'Forward'}, {'name': 'Andrew NABBOUT', 'captain': False, 'shirt_number': 11, 'position': 'Forward'}, {'name': 'Aaron MOOY', 'captain': False, 'shirt_number': 13, 'position': 'Midfield'}, {'name': 'Mile JEDINAK', 'captain': True, 'shirt_number': 15, 'position': 'Midfield'}, {'name': 'Aziz BEHICH', 'captain': False, 'shirt_number': 16, 'position': 'Defender'}, {'name': 'Joshua RISDON', 'captain': False, 'shirt_number': 19, 'position': 'Defender'}, {'name': 'Trent SAINSBURY', 'captain': False, 'shirt_number': 20, 'position': 'Defender'}, {'name': 'Tom ROGIC', 'captain': False, 'shirt_number': 23, 'position': 'Midfield'}, {'name': 'Mathew RYAN', 'captain': False, 'shirt_number': 1, 'position': 'Goalie'}, {'name': 'Mark MILLIGAN', 'captain': False, 'shirt_number': 5, 'position': 'Defender'}, {'name': 'Mathew LECKIE', 'captain': False, 'shirt_number': 7, 'position': 'Forward'}, {'name': 'Robbie KRUSE', 'captain': False, 'shirt_number': 10, 'position': 'Forward'}, {'name': 'Andrew NABBOUT', 'captain': False, 'shirt_number': 11, 'position': 'Forward'}, {'name': 'Aaron MOOY', 'captain': False, 'shirt_number': 13, 'position': 'Midfield'}, {'name': 'Mile JEDINAK', 'captain': True, 'shirt_number': 15, 'position': 'Midfield'}, {'name': 'Aziz BEHICH', 'captain': False, 'shirt_number': 16, 'position': 'Defender'}, {'name': 'Joshua RISDON', 'captain': False, 'shirt_number': 19, 'position': 'Defender'}, {'name': 'Trent SAINSBURY', 'captain': False, 'shirt_number': 20, 'position': 'Defender'}, {'name': 'Tom ROGIC', 'captain': False, 'shirt_number': 23, 'position': 'Midfield'}, {'name': 'Mathew RYAN', 'captain': False, 'shirt_number': 1, 'position': 'Goalie'}, {'name': 'Mark MILLIGAN', 'captain': False, 'shirt_number': 5, 'position': 'Defender'}, {'name': 'Mathew LECKIE', 'captain': False, 'shirt_number': 7, 'position': 'Forward'}, {'name': 'Robbie KRUSE', 'captain': False, 'shirt_number': 10, 'position': 'Forward'}, {'name': 'Andrew NABBOUT', 'captain': False, 'shirt_number': 11, 'position': 'Forward'}, {'name': 'Aaron MOOY', 'captain': False, 'shirt_number': 13, 'position': 'Midfield'}, {'name': 'Mile JEDINAK', 'captain': True, 'shirt_number': 15, 'position': 'Midfield'}, {'name': 'Aziz BEHICH', 'captain': False, 'shirt_number': 16, 'position': 'Defender'}, {'name': 'Joshua RISDON', 'captain': False, 'shirt_number': 19, 'position': 'Defender'}, {'name': 'Trent SAINSBURY', 'captain': False, 'shirt_number': 20, 'position': 'Defender'}, {'name': 'Tom ROGIC', 'captain': False, 'shirt_number': 23, 'position': 'Midfield'}, {'name': 'Mathew RYAN', 'captain': False, 'shirt_number': 1, 'position': 'Goalie'}, {'name': 'Mark MILLIGAN', 'captain': False, 'shirt_number': 5, 'position': 'Defender'}, {'name': 'Mathew LECKIE', 'captain': False, 'shirt_number': 7, 'position': 'Forward'}, {'name': 'Robbie KRUSE', 'captain': False, 'shirt_number': 10, 'position': 'Forward'}, {'name': 'Andrew NABBOUT', 'captain': False, 'shirt_number': 11, 'position': 'Forward'}, {'name': 'Aaron MOOY', 'captain': False, 'shirt_number': 13, 'position': 'Midfield'}, {'name': 'Mile JEDINAK', 'captain': True, 'shirt_number': 15, 'position': 'Midfield'}, {'name': 'Aziz BEHICH', 'captain': False, 'shirt_number': 16, 'position': 'Defender'}, {'name': 'Joshua RISDON', 'captain': False, 'shirt_number': 19, 'position': 'Defender'}, {'name': 'Trent SAINSBURY', 'captain': False, 'shirt_number': 20, 'position': 'Defender'}, {'name': 'Tom ROGIC', 'captain': False, 'shirt_number': 23, 'position': 'Midfield'}, {'name': 'Mathew RYAN', 'captain': False, 'shirt_number': 1, 'position': 'Goalie'}, {'name': 'Mark MILLIGAN', 'captain': False, 'shirt_number': 5, 'position': 'Defender'}, {'name': 'Mathew LECKIE', 'captain': False, 'shirt_number': 7, 'position': 'Forward'}, {'name': 'Robbie KRUSE', 'captain': False, 'shirt_number': 10, 'position': 'Forward'}, {'name': 'Andrew NABBOUT', 'captain': False, 'shirt_number': 11, 'position': 'Forward'}, {'name': 'Aaron MOOY', 'captain': False, 'shirt_number': 13, 'position': 'Midfield'}, {'name': 'Mile JEDINAK', 'captain': True, 'shirt_number': 15, 'position': 'Midfield'}, {'name': 'Aziz BEHICH', 'captain': False, 'shirt_number': 16, 'position': 'Defender'}, {'name': 'Joshua RISDON', 'captain': False, 'shirt_number': 19, 'position': 'Defender'}, {'name': 'Trent SAINSBURY', 'captain': False, 'shirt_number': 20, 'position': 'Defender'}, {'name': 'Tom ROGIC', 'captain': False, 'shirt_number': 23, 'position': 'Midfield'}, {'name': 'Mathew RYAN', 'captain': False, 'shirt_number': 1, 'position': 'Goalie'}, {'name': 'Mark MILLIGAN', 'captain': False, 'shirt_number': 5, 'position': 'Defender'}, {'name': 'Mathew LECKIE', 'captain': False, 'shirt_number': 7, 'position': 'Forward'}, {'name': 'Robbie KRUSE', 'captain': False, 'shirt_number': 10, 'position': 'Forward'}, {'name': 'Andrew NABBOUT', 'captain': False, 'shirt_number': 11, 'position': 'Forward'}, {'name': 'Aaron MOOY', 'captain': False, 'shirt_number': 13, 'position': 'Midfield'}, {'name': 'Mile JEDINAK', 'captain': True, 'shirt_number': 15, 'position': 'Midfield'}, {'name': 'Aziz BEHICH', 'captain': False, 'shirt_number': 16, 'position': 'Defender'}, {'name': 'Joshua RISDON', 'captain': False, 'shirt_number': 19, 'position': 'Defender'}, {'name': 'Trent SAINSBURY', 'captain': False, 'shirt_number': 20, 'position': 'Defender'}, {'name': 'Tom ROGIC', 'captain': False, 'shirt_number': 23, 'position': 'Midfield'}]\n"
     ]
    }
   ],
   "source": [
    "players = []\n",
    "for team in soccer_match:\n",
    "    for player in team:\n",
    "        players.extend(team['players'])\n",
    "print(players)"
   ]
  },
  {
   "cell_type": "code",
   "execution_count": 123,
   "id": "1fc2e720-5d22-4fff-880d-7b691defbac2",
   "metadata": {},
   "outputs": [
    {
     "data": {
      "text/plain": [
       "'HELLO'"
      ]
     },
     "execution_count": 123,
     "metadata": {},
     "output_type": "execute_result"
    }
   ],
   "source": [
    "\"hello\".upper()"
   ]
  },
  {
   "cell_type": "markdown",
   "id": "f0924497-a02e-4c59-af52-1cf186ae89d4",
   "metadata": {},
   "source": [
    "# Built in Python Operators_Functions and Methods"
   ]
  },
  {
   "cell_type": "code",
   "execution_count": 125,
   "id": "95157a88-9090-4dc4-91c1-0ce4d33343f4",
   "metadata": {},
   "outputs": [
    {
     "data": {
      "text/plain": [
       "'hello, there'"
      ]
     },
     "execution_count": 125,
     "metadata": {},
     "output_type": "execute_result"
    }
   ],
   "source": [
    "yell_hello = \"hello, there\"\n",
    "\n",
    "yell_hello"
   ]
  },
  {
   "cell_type": "code",
   "execution_count": 127,
   "id": "d6ee0237-945c-44c1-a522-96482f953c6e",
   "metadata": {},
   "outputs": [
    {
     "data": {
      "text/plain": [
       "'HELLO, THERE'"
      ]
     },
     "execution_count": 127,
     "metadata": {},
     "output_type": "execute_result"
    }
   ],
   "source": [
    "yell_hello = \"hello, there\".upper()\n",
    "\n",
    "yell_hello"
   ]
  },
  {
   "cell_type": "code",
   "execution_count": 129,
   "id": "20208b3b-6aa1-49f2-9e6e-ac51d573d1b0",
   "metadata": {},
   "outputs": [
    {
     "data": {
      "text/plain": [
       "'PSSSST, HEY'"
      ]
     },
     "execution_count": 129,
     "metadata": {},
     "output_type": "execute_result"
    }
   ],
   "source": [
    "whisper_hey = \"psssst, hey\".upper()\n",
    "\n",
    "whisper_hey"
   ]
  },
  {
   "cell_type": "code",
   "execution_count": 130,
   "id": "3110a866-08dc-4306-ae8e-acfa9422c74e",
   "metadata": {},
   "outputs": [
    {
     "data": {
      "text/plain": [
       "'LEARN. LOVE. CODE.'"
      ]
     },
     "execution_count": 130,
     "metadata": {},
     "output_type": "execute_result"
    }
   ],
   "source": [
    "flatiron_mantra = \"LEARN. LOVE. CODE.\"\n",
    "\n",
    "flatiron_mantra"
   ]
  },
  {
   "cell_type": "code",
   "execution_count": 131,
   "id": "acd8afc9-b900-486b-9eef-6cf6dea9a35b",
   "metadata": {},
   "outputs": [
    {
     "data": {
      "text/plain": [
       "'Learn. Love. Code.'"
      ]
     },
     "execution_count": 131,
     "metadata": {},
     "output_type": "execute_result"
    }
   ],
   "source": [
    "flatiron_mantra = \"LEARN. LOVE. CODE.\".title()\n",
    "\n",
    "flatiron_mantra"
   ]
  },
  {
   "cell_type": "code",
   "execution_count": 132,
   "id": "24328d81-538b-4141-b31e-4c1e797a7581",
   "metadata": {},
   "outputs": [],
   "source": [
    "boolean_compare = False or True"
   ]
  },
  {
   "cell_type": "code",
   "execution_count": 133,
   "id": "c6072d46-c2f9-4d2f-98f7-13e9db235b42",
   "metadata": {},
   "outputs": [
    {
     "data": {
      "text/plain": [
       "True"
      ]
     },
     "execution_count": 133,
     "metadata": {},
     "output_type": "execute_result"
    }
   ],
   "source": [
    "boolean_compare"
   ]
  },
  {
   "cell_type": "code",
   "execution_count": 134,
   "id": "b83b7f95-93f6-410c-ab8f-505c72e3d4f7",
   "metadata": {},
   "outputs": [],
   "source": [
    "boolean_compare = False and True"
   ]
  },
  {
   "cell_type": "code",
   "execution_count": 135,
   "id": "a83cfb27-2183-482a-8bc3-305882e4ecb7",
   "metadata": {},
   "outputs": [
    {
     "data": {
      "text/plain": [
       "False"
      ]
     },
     "execution_count": 135,
     "metadata": {},
     "output_type": "execute_result"
    }
   ],
   "source": [
    "boolean_compare"
   ]
  },
  {
   "cell_type": "code",
   "execution_count": 138,
   "id": "9b9cd8ca-e0ca-484d-9b88-e4f8cdd2ef4d",
   "metadata": {},
   "outputs": [],
   "source": [
    "boolean_compare = not True"
   ]
  },
  {
   "cell_type": "code",
   "execution_count": 139,
   "id": "9baa3dee-506f-4c02-903c-ab340209b38f",
   "metadata": {},
   "outputs": [
    {
     "data": {
      "text/plain": [
       "False"
      ]
     },
     "execution_count": 139,
     "metadata": {},
     "output_type": "execute_result"
    }
   ],
   "source": [
    "boolean_compare"
   ]
  },
  {
   "cell_type": "code",
   "execution_count": 140,
   "id": "2f3ec134-4191-4560-86f3-6c86e5c420e4",
   "metadata": {},
   "outputs": [],
   "source": [
    "boolean_compare = not False"
   ]
  },
  {
   "cell_type": "code",
   "execution_count": 141,
   "id": "7c248cef-1b55-464d-81f8-7381ce27549d",
   "metadata": {},
   "outputs": [
    {
     "data": {
      "text/plain": [
       "True"
      ]
     },
     "execution_count": 141,
     "metadata": {},
     "output_type": "execute_result"
    }
   ],
   "source": [
    "boolean_compare"
   ]
  },
  {
   "cell_type": "code",
   "execution_count": 142,
   "id": "9bc359f2-0d6e-45e9-96db-0d0cf5bed949",
   "metadata": {},
   "outputs": [],
   "source": [
    "boolean_compare = False and False"
   ]
  },
  {
   "cell_type": "code",
   "execution_count": 143,
   "id": "1714e6ba-d87e-4ed6-ab50-d7102405f58a",
   "metadata": {},
   "outputs": [
    {
     "data": {
      "text/plain": [
       "False"
      ]
     },
     "execution_count": 143,
     "metadata": {},
     "output_type": "execute_result"
    }
   ],
   "source": [
    "boolean_compare "
   ]
  },
  {
   "cell_type": "code",
   "execution_count": 144,
   "id": "dd9a66fc-4ebc-4f2a-8c83-9da221439308",
   "metadata": {},
   "outputs": [],
   "source": [
    "boolean_compare = False or False"
   ]
  },
  {
   "cell_type": "code",
   "execution_count": 145,
   "id": "e4467346-4eb3-47c6-9106-9eaa213f4960",
   "metadata": {},
   "outputs": [
    {
     "data": {
      "text/plain": [
       "False"
      ]
     },
     "execution_count": 145,
     "metadata": {},
     "output_type": "execute_result"
    }
   ],
   "source": [
    "boolean_compare"
   ]
  },
  {
   "cell_type": "code",
   "execution_count": 152,
   "id": "9ec9812f-5cda-4617-8afc-17ce749c832e",
   "metadata": {},
   "outputs": [],
   "source": [
    "boolean_compare = True != True"
   ]
  },
  {
   "cell_type": "code",
   "execution_count": 153,
   "id": "5fe710d8-65b1-4cab-8ed1-c8dab5166d4c",
   "metadata": {},
   "outputs": [
    {
     "data": {
      "text/plain": [
       "False"
      ]
     },
     "execution_count": 153,
     "metadata": {},
     "output_type": "execute_result"
    }
   ],
   "source": [
    "boolean_compare"
   ]
  },
  {
   "cell_type": "code",
   "execution_count": 156,
   "id": "f8e052ec-f6a6-415c-bd28-6da0af0b0384",
   "metadata": {},
   "outputs": [],
   "source": [
    "number_compare = 10 <= 10 # True"
   ]
  },
  {
   "cell_type": "code",
   "execution_count": 157,
   "id": "4389635b-9720-442c-adb4-aa9d55bca801",
   "metadata": {},
   "outputs": [
    {
     "data": {
      "text/plain": [
       "True"
      ]
     },
     "execution_count": 157,
     "metadata": {},
     "output_type": "execute_result"
    }
   ],
   "source": [
    "number_compare"
   ]
  },
  {
   "cell_type": "code",
   "execution_count": 158,
   "id": "9b665715-82bc-43e6-9b10-64f70d92ad26",
   "metadata": {},
   "outputs": [],
   "source": [
    "number_compare2 = -20 >= 30 # True"
   ]
  },
  {
   "cell_type": "code",
   "execution_count": 159,
   "id": "bc459946-f24e-41cf-8f28-210519f85a0d",
   "metadata": {},
   "outputs": [
    {
     "data": {
      "text/plain": [
       "False"
      ]
     },
     "execution_count": 159,
     "metadata": {},
     "output_type": "execute_result"
    }
   ],
   "source": [
    "number_compare2"
   ]
  },
  {
   "cell_type": "code",
   "execution_count": 160,
   "id": "da0b8717-4522-4faa-9896-acede58e9cd8",
   "metadata": {},
   "outputs": [],
   "source": [
    "number_compare3 = 4 >= 5 # False"
   ]
  },
  {
   "cell_type": "code",
   "execution_count": 161,
   "id": "fda8228e-f275-4a72-b803-51d66d3f0949",
   "metadata": {},
   "outputs": [
    {
     "data": {
      "text/plain": [
       "False"
      ]
     },
     "execution_count": 161,
     "metadata": {},
     "output_type": "execute_result"
    }
   ],
   "source": [
    "number_compare3"
   ]
  },
  {
   "cell_type": "code",
   "execution_count": 162,
   "id": "dc324e21-54a5-44f6-b897-9c87e3e85fbb",
   "metadata": {},
   "outputs": [
    {
     "name": "stdout",
     "output_type": "stream",
     "text": [
      "True False False\n"
     ]
    }
   ],
   "source": [
    "print(number_compare, number_compare2, number_compare3)"
   ]
  },
  {
   "cell_type": "code",
   "execution_count": 164,
   "id": "e6b36a48-7c9c-4082-91db-009a8673d28b",
   "metadata": {},
   "outputs": [],
   "source": [
    "logical_compare = 2 != [] # []"
   ]
  },
  {
   "cell_type": "code",
   "execution_count": 165,
   "id": "af0c0540-f88e-4a92-8733-e4020a218453",
   "metadata": {},
   "outputs": [
    {
     "data": {
      "text/plain": [
       "True"
      ]
     },
     "execution_count": 165,
     "metadata": {},
     "output_type": "execute_result"
    }
   ],
   "source": [
    "logical_compare"
   ]
  },
  {
   "cell_type": "code",
   "execution_count": 168,
   "id": "9469a9c7-2b38-4869-a994-328417febcd7",
   "metadata": {},
   "outputs": [],
   "source": [
    "logical_compare = 2 != [] # []"
   ]
  },
  {
   "cell_type": "code",
   "execution_count": 169,
   "id": "4afaac05-2b6b-45a2-b795-3d848f13a45f",
   "metadata": {},
   "outputs": [],
   "source": [
    "logical_compare = 2 or [] # []"
   ]
  },
  {
   "cell_type": "code",
   "execution_count": 170,
   "id": "58b9138a-9c18-45ba-bc32-ee113c181708",
   "metadata": {},
   "outputs": [
    {
     "data": {
      "text/plain": [
       "2"
      ]
     },
     "execution_count": 170,
     "metadata": {},
     "output_type": "execute_result"
    }
   ],
   "source": [
    "logical_compare"
   ]
  },
  {
   "cell_type": "code",
   "execution_count": 171,
   "id": "73b33012-9b93-4d8e-afe6-2264b929dee0",
   "metadata": {},
   "outputs": [],
   "source": [
    "logical_compare = 2 and [] # []"
   ]
  },
  {
   "cell_type": "code",
   "execution_count": 172,
   "id": "eeec59d8-209f-49d9-a354-0af5667b705c",
   "metadata": {},
   "outputs": [
    {
     "data": {
      "text/plain": [
       "[]"
      ]
     },
     "execution_count": 172,
     "metadata": {},
     "output_type": "execute_result"
    }
   ],
   "source": [
    "logical_compare"
   ]
  },
  {
   "cell_type": "code",
   "execution_count": 176,
   "id": "a9bed89e-6c5d-4958-9648-c15ec0702f8b",
   "metadata": {},
   "outputs": [],
   "source": [
    "logical_compare2 = 5 != [] # True"
   ]
  },
  {
   "cell_type": "code",
   "execution_count": 177,
   "id": "219157a2-32a4-4dd0-a44e-17d4094aa6b4",
   "metadata": {},
   "outputs": [
    {
     "data": {
      "text/plain": [
       "True"
      ]
     },
     "execution_count": 177,
     "metadata": {},
     "output_type": "execute_result"
    }
   ],
   "source": [
    "logical_compare2"
   ]
  },
  {
   "cell_type": "code",
   "execution_count": 178,
   "id": "ba2557ba-f4ea-410e-8801-c80093537555",
   "metadata": {},
   "outputs": [],
   "source": [
    "logical_compare2 = not [] # True"
   ]
  },
  {
   "cell_type": "code",
   "execution_count": 179,
   "id": "547b43b9-f8b6-47b3-823d-e32a42ffbf86",
   "metadata": {},
   "outputs": [
    {
     "data": {
      "text/plain": [
       "True"
      ]
     },
     "execution_count": 179,
     "metadata": {},
     "output_type": "execute_result"
    }
   ],
   "source": [
    "logical_compare2"
   ]
  },
  {
   "cell_type": "code",
   "execution_count": 186,
   "id": "b41f5d1a-16fe-4fee-9e98-21b50d651193",
   "metadata": {},
   "outputs": [],
   "source": [
    "logical_compare3 = 0 and [] # 0"
   ]
  },
  {
   "cell_type": "code",
   "execution_count": 187,
   "id": "6e4433fd-837c-4e47-b375-aa8bbd56e954",
   "metadata": {},
   "outputs": [
    {
     "data": {
      "text/plain": [
       "0"
      ]
     },
     "execution_count": 187,
     "metadata": {},
     "output_type": "execute_result"
    }
   ],
   "source": [
    "logical_compare3"
   ]
  },
  {
   "cell_type": "code",
   "execution_count": 192,
   "id": "efec485d-4bef-4517-94a6-f9f85216e5be",
   "metadata": {},
   "outputs": [],
   "source": [
    "logical_compare4 = True and 2 # 2"
   ]
  },
  {
   "cell_type": "code",
   "execution_count": 193,
   "id": "0643aa1a-7099-44a2-b265-63f461527764",
   "metadata": {},
   "outputs": [
    {
     "data": {
      "text/plain": [
       "2"
      ]
     },
     "execution_count": 193,
     "metadata": {},
     "output_type": "execute_result"
    }
   ],
   "source": [
    "logical_compare4"
   ]
  },
  {
   "cell_type": "code",
   "execution_count": 196,
   "id": "a6737935-d207-4e55-961d-e417a63cf69f",
   "metadata": {},
   "outputs": [],
   "source": [
    "logical_compare5 = 2 or 3 # 2"
   ]
  },
  {
   "cell_type": "code",
   "execution_count": 197,
   "id": "ffa34ee0-a279-47d2-9202-c1da3fb12076",
   "metadata": {},
   "outputs": [
    {
     "data": {
      "text/plain": [
       "2"
      ]
     },
     "execution_count": 197,
     "metadata": {},
     "output_type": "execute_result"
    }
   ],
   "source": [
    "logical_compare5"
   ]
  },
  {
   "cell_type": "code",
   "execution_count": 198,
   "id": "2d6a8970-db68-43fa-9eef-674e1c0047b2",
   "metadata": {},
   "outputs": [],
   "source": [
    "logical_compare6 = not True # False"
   ]
  },
  {
   "cell_type": "code",
   "execution_count": 199,
   "id": "612efef3-53c0-41eb-9d95-1b48f9eeaf84",
   "metadata": {},
   "outputs": [
    {
     "data": {
      "text/plain": [
       "False"
      ]
     },
     "execution_count": 199,
     "metadata": {},
     "output_type": "execute_result"
    }
   ],
   "source": [
    "logical_compare6"
   ]
  },
  {
   "cell_type": "code",
   "execution_count": 200,
   "id": "d0552c58-1c50-4283-a6fb-868c17746c51",
   "metadata": {},
   "outputs": [],
   "source": [
    "logical_compare7 = False and 2 # False"
   ]
  },
  {
   "cell_type": "code",
   "execution_count": 201,
   "id": "a669e8d1-fc96-4e80-ac3c-b45ace8dbcf8",
   "metadata": {},
   "outputs": [
    {
     "data": {
      "text/plain": [
       "False"
      ]
     },
     "execution_count": 201,
     "metadata": {},
     "output_type": "execute_result"
    }
   ],
   "source": [
    "logical_compare7"
   ]
  },
  {
   "cell_type": "code",
   "execution_count": 204,
   "id": "a87d965c-6296-4308-9d9f-794567c818e7",
   "metadata": {},
   "outputs": [
    {
     "name": "stdout",
     "output_type": "stream",
     "text": [
      "[] True 0 2 2 False False\n"
     ]
    }
   ],
   "source": [
    "print(logical_compare, logical_compare2, logical_compare3, logical_compare4, logical_compare5, logical_compare6, logical_compare7)"
   ]
  },
  {
   "cell_type": "markdown",
   "id": "b65744fd-bd14-4b41-a6d1-8252f11cb472",
   "metadata": {},
   "source": [
    "# Creating_Functions"
   ]
  },
  {
   "cell_type": "code",
   "execution_count": 1,
   "id": "fd7d3a48-6c5a-44ed-8bc4-a7368937f32e",
   "metadata": {},
   "outputs": [],
   "source": [
    "travel_destinations = ['argentina', 'mexico', 'italy', 'finland', 'canada', 'croatia']\n",
    "def number_of_destinations():\n",
    "    counter=0\n",
    "    for country in travel_destinations:\n",
    "        counter += 1\n",
    "    return counter"
   ]
  },
  {
   "cell_type": "code",
   "execution_count": 2,
   "id": "251575fb-1fcf-4fe7-a9c4-a66bb18446bd",
   "metadata": {},
   "outputs": [
    {
     "data": {
      "text/plain": [
       "6"
      ]
     },
     "execution_count": 2,
     "metadata": {},
     "output_type": "execute_result"
    }
   ],
   "source": [
    "number_of_destinations()"
   ]
  },
  {
   "cell_type": "code",
   "execution_count": 3,
   "id": "b464dc0d-ab32-4b99-b566-9169c53e4f3d",
   "metadata": {},
   "outputs": [],
   "source": [
    "def next_up():\n",
    "    return travel_destinations[0]"
   ]
  },
  {
   "cell_type": "code",
   "execution_count": 4,
   "id": "cfc54953-8cb6-4c39-ad54-86f52a5e9d5d",
   "metadata": {},
   "outputs": [
    {
     "data": {
      "text/plain": [
       "'argentina'"
      ]
     },
     "execution_count": 4,
     "metadata": {},
     "output_type": "execute_result"
    }
   ],
   "source": [
    "next_up()"
   ]
  },
  {
   "cell_type": "code",
   "execution_count": 5,
   "id": "38429952-4c54-4dc3-a95b-6e4ca2d3654b",
   "metadata": {},
   "outputs": [],
   "source": [
    "def favorite_destination():\n",
    "    return travel_destinations[-1]"
   ]
  },
  {
   "cell_type": "code",
   "execution_count": 6,
   "id": "53c20602-455a-4f23-99ee-b988d18d76d7",
   "metadata": {},
   "outputs": [
    {
     "data": {
      "text/plain": [
       "'croatia'"
      ]
     },
     "execution_count": 6,
     "metadata": {},
     "output_type": "execute_result"
    }
   ],
   "source": [
    "favorite_destination()"
   ]
  },
  {
   "cell_type": "code",
   "execution_count": 7,
   "id": "b1c77ed4-1613-4299-b18c-6d672583b57e",
   "metadata": {},
   "outputs": [],
   "source": [
    "def add_favorite_destination():\n",
    "    travel_destinations.append('madagascar')"
   ]
  },
  {
   "cell_type": "code",
   "execution_count": 9,
   "id": "3f502262-86cc-407f-82dd-68a0c9ed066d",
   "metadata": {},
   "outputs": [],
   "source": [
    "add_favorite_destination()"
   ]
  },
  {
   "cell_type": "code",
   "execution_count": 10,
   "id": "913be8d5-bca9-4ad0-8b39-016a24edc729",
   "metadata": {},
   "outputs": [
    {
     "data": {
      "text/plain": [
       "['argentina', 'mexico', 'italy', 'finland', 'canada', 'croatia', 'madagascar']"
      ]
     },
     "execution_count": 10,
     "metadata": {},
     "output_type": "execute_result"
    }
   ],
   "source": [
    "travel_destinations"
   ]
  },
  {
   "cell_type": "code",
   "execution_count": 37,
   "id": "2b610d4b-ab9a-49d5-845d-4133ef23836f",
   "metadata": {},
   "outputs": [],
   "source": [
    "capitalized_destinations = ['argentina', 'mexico', 'italy', 'finland', 'canada', 'croatia', 'madagascar']\n",
    "\n",
    "def capitalize_countries():\n",
    "    for i in range(len(capitalized_destinations)):\n",
    "        capitalized_destinations[i] = capitalized_destinations[i].title()"
   ]
  },
  {
   "cell_type": "code",
   "execution_count": 38,
   "id": "854603db-6236-4517-b4ff-9ae86e4d939d",
   "metadata": {},
   "outputs": [],
   "source": [
    "capitalize_countries()"
   ]
  },
  {
   "cell_type": "code",
   "execution_count": 39,
   "id": "f9ed8a20-1085-499a-90a6-f32a831dda36",
   "metadata": {},
   "outputs": [
    {
     "data": {
      "text/plain": [
       "['Argentina', 'Mexico', 'Italy', 'Finland', 'Canada', 'Croatia', 'Madagascar']"
      ]
     },
     "execution_count": 39,
     "metadata": {},
     "output_type": "execute_result"
    }
   ],
   "source": [
    "capitalized_destinations"
   ]
  },
  {
   "cell_type": "markdown",
   "id": "8a7d8cca-32cf-444b-9648-6c11d5c824d3",
   "metadata": {},
   "source": [
    "# Functions_with_Arguments"
   ]
  },
  {
   "cell_type": "code",
   "execution_count": 1,
   "id": "c06e3eb4-a12c-4467-b9e3-b6d3369c565b",
   "metadata": {},
   "outputs": [],
   "source": [
    "# Run this cell without changes\n",
    "\n",
    "fork_fig = {'categories': [{'alias': 'burgers', 'title': 'Burgers'},\n",
    "\n",
    " {'alias': 'sandwiches', 'title': 'Sandwiches'},\n",
    "\n",
    " {'alias': 'salad', 'title': 'Salad'}],\n",
    "\n",
    "'coordinates': {'latitude': 35.10871, 'longitude': -106.56739},\n",
    "\n",
    "'display_phone': '(505) 881-5293',\n",
    "\n",
    "'distance': 3571.724649307866,\n",
    "\n",
    "'id': 'fork-and-fig-albuquerque',\n",
    "\n",
    "'image_url': 'https://s3-media1.fl.yelpcdn.com/bphoto/_-DpXKfS3jv6DyA47g6Fxg/o.jpg',\n",
    "\n",
    "'is_closed': False,\n",
    "\n",
    "'location': {'address1': '6904 Menaul Blvd NE',\n",
    "\n",
    " 'address2': 'Ste C',\n",
    "\n",
    " 'address3': '',\n",
    "\n",
    " 'city': 'Albuquerque',\n",
    "\n",
    " 'country': 'US',\n",
    "\n",
    " 'display_address': ['6904 Menaul Blvd NE', 'Ste C', 'Albuquerque, NM 87110'],\n",
    "\n",
    " 'state': 'NM',\n",
    "\n",
    " 'zip_code': '87110'},\n",
    "\n",
    "'name': 'Fork & Fig',\n",
    "\n",
    "'phone': '+15058815293',\n",
    "\n",
    "'price': '$$',\n",
    "\n",
    "'rating': 4.5,\n",
    "\n",
    "'review_count': 604,\n",
    "\n",
    "'transactions': [],\n",
    "\n",
    "'url': 'https://www.yelp.com/biz/fork-and-fig-albuquerque?adjust_creative=SYc8R4Gowqru5h4SBKZXsQ&utm_campaign=yelp_api_v3&utm_medium=api_v3_business_search&utm_source=SYc8R4Gowqru5h4SBKZXsQ'}"
   ]
  },
  {
   "cell_type": "code",
   "execution_count": 2,
   "id": "0ffe1ab9-0407-46a6-9c61-7344f0fb7033",
   "metadata": {},
   "outputs": [],
   "source": [
    "# Run this cell without changes\n",
    "\n",
    "frontier_restaurant = {'categories': [{'alias': 'mexican', 'title': 'Mexican'},\n",
    "\n",
    " {'alias': 'diners', 'title': 'Diners'},\n",
    "\n",
    " {'alias': 'tradamerican', 'title': 'American (Traditional)'}],\n",
    "\n",
    "'coordinates': {'latitude': 35.0808088832532, 'longitude': -106.619402244687},\n",
    "\n",
    "'display_phone': '(505) 266-0550',\n",
    "\n",
    "'distance': 4033.6583235266075,\n",
    "\n",
    "'id': 'frontier-restaurant-albuquerque-2',\n",
    "\n",
    "'image_url': 'https://s3-media4.fl.yelpcdn.com/bphoto/M9L2z6-G0NobuDJ6YTh6VA/o.jpg',\n",
    "\n",
    "'is_closed': False,\n",
    "\n",
    "'location': {'address1': '2400 Central Ave SE',\n",
    "\n",
    " 'address2': '',\n",
    "\n",
    " 'address3': '',\n",
    "\n",
    " 'city': 'Albuquerque',\n",
    "\n",
    " 'country': 'US',\n",
    "\n",
    " 'display_address': ['2400 Central Ave SE', 'Albuquerque, NM 87106'],\n",
    "\n",
    " 'state': 'NM',\n",
    "\n",
    " 'zip_code': '87106'},\n",
    "\n",
    "'name': 'Frontier Restaurant',\n",
    "\n",
    "'phone': '+15052660550',\n",
    "\n",
    "'price': '$',\n",
    "\n",
    "'rating': 4.0,\n",
    "\n",
    "'review_count': 1369,\n",
    "\n",
    "'transactions': [],\n",
    "\n",
    "'url': 'https://www.yelp.com/biz/frontier-restaurant-albuquerque-2?adjust_creative=SYc8R4Gowqru5h4SBKZXsQ&utm_campaign=yelp_api_v3&utm_medium=api_v3_business_search&utm_source=SYc8R4Gowqru5h4SBKZXsQ'}"
   ]
  },
  {
   "cell_type": "code",
   "execution_count": 3,
   "id": "b775be37-c976-4ec1-bc7a-ff72a252f851",
   "metadata": {},
   "outputs": [
    {
     "data": {
      "text/plain": [
       "dict_keys(['categories', 'coordinates', 'display_phone', 'distance', 'id', 'image_url', 'is_closed', 'location', 'name', 'phone', 'price', 'rating', 'review_count', 'transactions', 'url'])"
      ]
     },
     "execution_count": 3,
     "metadata": {},
     "output_type": "execute_result"
    }
   ],
   "source": [
    "# Run this cell without changes\n",
    "\n",
    "fork_fig.keys()"
   ]
  },
  {
   "cell_type": "code",
   "execution_count": 4,
   "id": "26915d95-4089-4403-89df-a1b8ca30e063",
   "metadata": {},
   "outputs": [
    {
     "data": {
      "text/plain": [
       "dict_keys(['categories', 'coordinates', 'display_phone', 'distance', 'id', 'image_url', 'is_closed', 'location', 'name', 'phone', 'price', 'rating', 'review_count', 'transactions', 'url'])"
      ]
     },
     "execution_count": 4,
     "metadata": {},
     "output_type": "execute_result"
    }
   ],
   "source": [
    "# Run this cell without changes\n",
    "\n",
    "frontier_restaurant.keys()"
   ]
  },
  {
   "cell_type": "code",
   "execution_count": 5,
   "id": "175fb289-b609-4914-a7ce-c19853d3f66b",
   "metadata": {},
   "outputs": [
    {
     "data": {
      "text/plain": [
       "True"
      ]
     },
     "execution_count": 5,
     "metadata": {},
     "output_type": "execute_result"
    }
   ],
   "source": [
    "# Run this cell without changes\n",
    "\n",
    "fork_fig.keys() == frontier_restaurant.keys()"
   ]
  },
  {
   "cell_type": "code",
   "execution_count": 13,
   "id": "85a4da21-17f8-4a3e-a8ec-5bf0e28ba60a",
   "metadata": {},
   "outputs": [],
   "source": [
    "def restaurant_name(restaurant):\n",
    "    print (restaurant['name'])"
   ]
  },
  {
   "cell_type": "code",
   "execution_count": 17,
   "id": "aa4e78c1-9ff4-4f3d-a974-83ef1576c8cf",
   "metadata": {},
   "outputs": [
    {
     "name": "stdout",
     "output_type": "stream",
     "text": [
      "Fork & Fig\n"
     ]
    }
   ],
   "source": [
    "restaurant_name(fork_fig)"
   ]
  },
  {
   "cell_type": "code",
   "execution_count": 18,
   "id": "293ff25d-808c-473b-8a93-29693690a4a6",
   "metadata": {},
   "outputs": [],
   "source": [
    "def is_better(restaurant, alternative):\n",
    "    return True if restaurant > alternative else False"
   ]
  },
  {
   "cell_type": "code",
   "execution_count": 22,
   "id": "f6471483-8e7f-4b17-833f-757ae59c2507",
   "metadata": {},
   "outputs": [
    {
     "data": {
      "text/plain": [
       "False"
      ]
     },
     "execution_count": 22,
     "metadata": {},
     "output_type": "execute_result"
    }
   ],
   "source": [
    "is_better(frontier_restaurant['rating'], fork_fig['rating'])"
   ]
  },
  {
   "cell_type": "code",
   "execution_count": 23,
   "id": "783cb302-b11a-4987-97b3-6606886f88f7",
   "metadata": {},
   "outputs": [
    {
     "data": {
      "text/plain": [
       "True"
      ]
     },
     "execution_count": 23,
     "metadata": {},
     "output_type": "execute_result"
    }
   ],
   "source": [
    "is_better(fork_fig['rating'],frontier_restaurant['rating'])"
   ]
  },
  {
   "cell_type": "code",
   "execution_count": 24,
   "id": "675f06b7-b026-4f13-a9e6-7fd71f306d3a",
   "metadata": {},
   "outputs": [
    {
     "data": {
      "text/plain": [
       "False"
      ]
     },
     "execution_count": 24,
     "metadata": {},
     "output_type": "execute_result"
    }
   ],
   "source": [
    "is_better(1.0, 1.0)"
   ]
  },
  {
   "cell_type": "code",
   "execution_count": 38,
   "id": "5557504c-3173-4fba-b312-d9143121663b",
   "metadata": {},
   "outputs": [],
   "source": [
    "dennys = {'categories': [{'alias': 'breakfast', 'title': 'Breakfast'},\n",
    "{'alias': 'diners', 'title': 'Diners'},\n",
    "{'alias': 'tradamerican', 'title': 'American (Traditional)'}],\n",
    "'is_closed': False,\n",
    "'name': \"Denny's\",\n",
    "'price': '$',\n",
    "'rating': 3.0,\n",
    "'review_count': 1200}\n",
    "\n",
    "ihop = {'categories': [{'alias': 'breakfast', 'title': 'Breakfast'},\n",
    "{'alias': 'diners', 'title': 'Diners'},\n",
    "{'alias': 'tradamerican', 'title': 'American (Traditional)'}],\n",
    "'is_closed': False,\n",
    "'name': \"IHOP: International House of Pancakes\",\n",
    "'price': '$',\n",
    "'rating': 3.45,\n",
    "'review_count': 1588}\n",
    "\n",
    "mcdonalds = {'categories': [{'alias': 'breakfast', 'title': 'Breakfast'},\n",
    "{'alias': 'burgers', 'title': 'Burgers'},\n",
    "{'alias': 'fast food', 'title': 'Good Food Fast'}],\n",
    "'is_closed': False,\n",
    "'name': \"McDonalds\",\n",
    "'price': '$',\n",
    "'rating': 3.45,\n",
    "'review_count': 2455}\n",
    "\n",
    "pearl_street_oyster_bar = {'categories': [{'alias': 'seafood', 'title': 'Seafood'},\n",
    "{'alias': 'gourmet', 'title': 'Gourmet'},\n",
    "{'alias': 'Shellfish', 'title': 'Shellfish'}],\n",
    "'is_closed': False,\n",
    "'name': \"Pear Street Oyster Bar\",\n",
    "'price': '$$$',\n",
    "'rating': 4.75,\n",
    "'review_count': 350}"
   ]
  },
  {
   "cell_type": "code",
   "execution_count": 39,
   "id": "9e1e929d-9dd6-43e6-8d67-952a1058946f",
   "metadata": {},
   "outputs": [],
   "source": [
    "# Run this cell without changes\n",
    "\n",
    "restaurant_list = [pearl_street_oyster_bar, mcdonalds, ihop, dennys, fork_fig, frontier_restaurant]"
   ]
  },
  {
   "cell_type": "code",
   "execution_count": 40,
   "id": "534a8cf9-449a-4e20-94a4-1142ddbd823b",
   "metadata": {},
   "outputs": [],
   "source": [
    "def mean_review_count(list_of_restaurants):\n",
    "    counter=0\n",
    "    for restaurant in list_of_restaurants:\n",
    "        counter = counter + restaurant['review_count']\n",
    "    return counter/len(list_of_restaurants)"
   ]
  },
  {
   "cell_type": "code",
   "execution_count": 42,
   "id": "3cf02562-872b-4ab7-81ad-6dd6a6bdec91",
   "metadata": {},
   "outputs": [
    {
     "data": {
      "text/plain": [
       "1261.0"
      ]
     },
     "execution_count": 42,
     "metadata": {},
     "output_type": "execute_result"
    }
   ],
   "source": [
    "mean_review_count(restaurant_list)"
   ]
  },
  {
   "cell_type": "markdown",
   "id": "cebd7f2c-b346-4bb1-88b6-923672d04988",
   "metadata": {},
   "source": [
    "# Input and Output"
   ]
  },
  {
   "cell_type": "code",
   "execution_count": 46,
   "id": "45c63797-d04c-4bdb-81a9-b4f3b7a29653",
   "metadata": {},
   "outputs": [
    {
     "name": "stdin",
     "output_type": "stream",
     "text": [
      "Give me your name:  Warui\n"
     ]
    }
   ],
   "source": [
    "name = input(\"Give me your name: \")"
   ]
  },
  {
   "cell_type": "code",
   "execution_count": 47,
   "id": "cf350c3e-9a94-4763-8e3e-58e835b568f3",
   "metadata": {},
   "outputs": [
    {
     "name": "stdout",
     "output_type": "stream",
     "text": [
      "You name is Warui\n"
     ]
    }
   ],
   "source": [
    "print(\"You name is \" + name) "
   ]
  },
  {
   "cell_type": "code",
   "execution_count": 48,
   "id": "02f76f1b-d82e-48f2-9a5c-f3148caebad4",
   "metadata": {},
   "outputs": [
    {
     "name": "stdin",
     "output_type": "stream",
     "text": [
      "Enter your age:  42\n"
     ]
    }
   ],
   "source": [
    "age = input(\"Enter your age: \")"
   ]
  },
  {
   "cell_type": "code",
   "execution_count": 49,
   "id": "2d0d9a01-e401-4418-a7e1-a12dfd2852ab",
   "metadata": {},
   "outputs": [],
   "source": [
    "age = int(age)"
   ]
  },
  {
   "cell_type": "code",
   "execution_count": 50,
   "id": "d48812ce-cdc4-4862-8036-a71537ad6c7b",
   "metadata": {},
   "outputs": [
    {
     "name": "stdout",
     "output_type": "stream",
     "text": [
      "You are 42 years old\n"
     ]
    }
   ],
   "source": [
    "print (\"You are\", age , \"years old\" )"
   ]
  },
  {
   "cell_type": "code",
   "execution_count": 51,
   "id": "88fd4b2b-4fa4-4b4f-bc54-fcf27af27d6d",
   "metadata": {},
   "outputs": [
    {
     "name": "stdout",
     "output_type": "stream",
     "text": [
      "You are 42 years old\n"
     ]
    }
   ],
   "source": [
    "print (\"You are \" + str(age) + \" years old\")"
   ]
  },
  {
   "cell_type": "code",
   "execution_count": 52,
   "id": "022edfa1-15de-4f87-9bab-95a454f19283",
   "metadata": {},
   "outputs": [
    {
     "name": "stdin",
     "output_type": "stream",
     "text": [
      "What is your name:  Warui\n",
      "How old are you:  42\n",
      "What is the current year:  2024\n"
     ]
    },
    {
     "name": "stdout",
     "output_type": "stream",
     "text": [
      "Warui will be 100 years old in the year 2082\n"
     ]
    }
   ],
   "source": [
    "name = input(\"What is your name: \")\n",
    "\n",
    "age = int(input(\"How old are you: \"))\n",
    "\n",
    "current_year = int(input(\"What is the current year: \"))\n",
    "\n",
    "year = str((current_year - age)+100)\n",
    "\n",
    "print(name + \" will be 100 years old in the year \" + year)"
   ]
  },
  {
   "cell_type": "markdown",
   "id": "ecb060de-5b72-4317-9eb7-d2d9c90eaad6",
   "metadata": {},
   "source": [
    "# Introduction to Numpy"
   ]
  },
  {
   "cell_type": "code",
   "execution_count": 4,
   "id": "c56cf422-4211-427e-9bcb-17ad1309c3d4",
   "metadata": {},
   "outputs": [],
   "source": [
    "import numpy as np"
   ]
  },
  {
   "cell_type": "code",
   "execution_count": 14,
   "id": "ba3bb4a8-009b-47b9-9eae-99daebef996c",
   "metadata": {},
   "outputs": [],
   "source": [
    "py_range=np.full(5,range(5))"
   ]
  },
  {
   "cell_type": "code",
   "execution_count": 15,
   "id": "df8d39d8-5bcf-4914-ab14-97235f638f30",
   "metadata": {},
   "outputs": [],
   "source": [
    "array_from_range = np.array(py_range)"
   ]
  },
  {
   "cell_type": "code",
   "execution_count": 16,
   "id": "cc2e8247-8806-4d78-854c-11a28b6bfdad",
   "metadata": {},
   "outputs": [
    {
     "data": {
      "text/plain": [
       "array([0, 1, 2, 3, 4])"
      ]
     },
     "execution_count": 16,
     "metadata": {},
     "output_type": "execute_result"
    }
   ],
   "source": [
    "array_from_range"
   ]
  },
  {
   "cell_type": "code",
   "execution_count": 17,
   "id": "5b06b424-7ab1-4d4e-8007-a358b2554fb8",
   "metadata": {},
   "outputs": [],
   "source": [
    "py_list = [0,1,2,3,4]"
   ]
  },
  {
   "cell_type": "code",
   "execution_count": 18,
   "id": "f07f2a6c-60d4-45e7-a154-dcdfce3ee1fd",
   "metadata": {},
   "outputs": [],
   "source": [
    "array_from_list = np.array(py_list)"
   ]
  },
  {
   "cell_type": "code",
   "execution_count": 19,
   "id": "a82697cd-5159-4a38-a0cd-e576e7745000",
   "metadata": {},
   "outputs": [
    {
     "data": {
      "text/plain": [
       "array([0, 1, 2, 3, 4])"
      ]
     },
     "execution_count": 19,
     "metadata": {},
     "output_type": "execute_result"
    }
   ],
   "source": [
    "array_from_list"
   ]
  },
  {
   "cell_type": "code",
   "execution_count": 24,
   "id": "370bd4d7-7ad2-47d8-8e02-de8fbd7b2e7a",
   "metadata": {},
   "outputs": [],
   "source": [
    "# Use the conversion rate for turning height in inches to meters\n",
    "\n",
    "list_height_inches = [65, 68, 73, 75, 78]\n",
    "\n",
    "# Your code here\n",
    "\n",
    "array_height_inches = np.array(list_height_inches)\n",
    "\n",
    "array_height_meters = np.multiply(np.array(list_height_inches),0.0254)"
   ]
  },
  {
   "cell_type": "code",
   "execution_count": 21,
   "id": "4339e9ca-65bb-4423-9284-5f66ad1a7f08",
   "metadata": {},
   "outputs": [
    {
     "data": {
      "text/plain": [
       "array([1.651 , 1.7272, 1.8542, 1.905 , 1.9812])"
      ]
     },
     "execution_count": 21,
     "metadata": {},
     "output_type": "execute_result"
    }
   ],
   "source": [
    "array_height_meters"
   ]
  },
  {
   "cell_type": "code",
   "execution_count": 22,
   "id": "7699d389-ce63-4ddb-8182-0bf27bc853de",
   "metadata": {},
   "outputs": [
    {
     "data": {
      "text/plain": [
       "array([65, 68, 73, 75, 78])"
      ]
     },
     "execution_count": 22,
     "metadata": {},
     "output_type": "execute_result"
    }
   ],
   "source": [
    "array_height_inches"
   ]
  },
  {
   "cell_type": "code",
   "execution_count": 25,
   "id": "0a7bdfc8-f9b7-4d4f-8749-f817d30696b1",
   "metadata": {},
   "outputs": [],
   "source": [
    "# Use the conversion rate for turning height in inches to meters\n",
    "\n",
    "list_weight_pounds = [150, 140, 220, 205, 265]\n",
    "\n",
    "# Your code here\n",
    "\n",
    "array_weight_pounds = np.array(list_weight_pounds)\n",
    "\n",
    "array_weight_kgs = np.divide(np.array(list_weight_pounds),2.2046)"
   ]
  },
  {
   "cell_type": "code",
   "execution_count": 26,
   "id": "3806e79c-28ab-4a29-82d1-824940729858",
   "metadata": {},
   "outputs": [
    {
     "data": {
      "text/plain": [
       "array([ 68.03955366,  63.50358342,  99.79134537,  92.98739   ,\n",
       "       120.20321147])"
      ]
     },
     "execution_count": 26,
     "metadata": {},
     "output_type": "execute_result"
    }
   ],
   "source": [
    "array_weight_kgs"
   ]
  },
  {
   "cell_type": "code",
   "execution_count": 27,
   "id": "4a44442e-e0f0-46f2-ba47-acedb0609aa3",
   "metadata": {},
   "outputs": [],
   "source": [
    "# BMI = weight (kg) ÷ height^2 (m^2)\n",
    "BMI=array_weight_kgs/(array_height_meters)**2"
   ]
  },
  {
   "cell_type": "code",
   "execution_count": 28,
   "id": "af6a5c6a-3437-48cd-aac8-1c3e481ecaae",
   "metadata": {},
   "outputs": [
    {
     "data": {
      "text/plain": [
       "array([24.9613063 , 21.28692715, 29.02550097, 25.62324316, 30.62382485])"
      ]
     },
     "execution_count": 28,
     "metadata": {},
     "output_type": "execute_result"
    }
   ],
   "source": [
    "BMI"
   ]
  },
  {
   "cell_type": "code",
   "execution_count": 31,
   "id": "fff6bdaf-bac9-45d9-be6a-9ee43c537b88",
   "metadata": {},
   "outputs": [],
   "source": [
    "BMI_array = array_weight_kgs/ np.power(array_height_meters,2)"
   ]
  },
  {
   "cell_type": "code",
   "execution_count": 32,
   "id": "24b15378-f8db-4f5f-aa37-6a71bc018e20",
   "metadata": {},
   "outputs": [
    {
     "data": {
      "text/plain": [
       "array([24.9613063 , 21.28692715, 29.02550097, 25.62324316, 30.62382485])"
      ]
     },
     "execution_count": 32,
     "metadata": {},
     "output_type": "execute_result"
    }
   ],
   "source": [
    "BMI_array"
   ]
  },
  {
   "cell_type": "code",
   "execution_count": 33,
   "id": "0f7d51d4-af47-4332-ad74-476040d932b7",
   "metadata": {},
   "outputs": [
    {
     "data": {
      "text/plain": [
       "array([24.96, 21.29, 29.03, 25.62, 30.62])"
      ]
     },
     "execution_count": 33,
     "metadata": {},
     "output_type": "execute_result"
    }
   ],
   "source": [
    "np.around(BMI_array,2)"
   ]
  },
  {
   "cell_type": "code",
   "execution_count": 34,
   "id": "f443eb72-d7ae-4218-91b6-00f5459428fd",
   "metadata": {},
   "outputs": [],
   "source": [
    "# Your code here\n",
    "\n",
    "identity = np.ones(BMI_array.shape)"
   ]
  },
  {
   "cell_type": "code",
   "execution_count": 35,
   "id": "ae6ef50e-9059-411f-9790-5f1290b26c01",
   "metadata": {},
   "outputs": [
    {
     "data": {
      "text/plain": [
       "array([1., 1., 1., 1., 1.])"
      ]
     },
     "execution_count": 35,
     "metadata": {},
     "output_type": "execute_result"
    }
   ],
   "source": [
    "identity"
   ]
  },
  {
   "cell_type": "code",
   "execution_count": 36,
   "id": "5e022a7e-773c-4ac3-b368-4ae1619c5306",
   "metadata": {},
   "outputs": [],
   "source": [
    "BMI_array=BMI_array*identity"
   ]
  },
  {
   "cell_type": "code",
   "execution_count": 37,
   "id": "0b96c2ea-8e3b-4148-98df-2c16de672e54",
   "metadata": {},
   "outputs": [
    {
     "data": {
      "text/plain": [
       "array([24.9613063 , 21.28692715, 29.02550097, 25.62324316, 30.62382485])"
      ]
     },
     "execution_count": 37,
     "metadata": {},
     "output_type": "execute_result"
    }
   ],
   "source": [
    "BMI_array"
   ]
  },
  {
   "cell_type": "markdown",
   "id": "3458efdf-4fca-4952-b648-0e2927261208",
   "metadata": {},
   "source": [
    "# Measures of Central Tendency"
   ]
  },
  {
   "cell_type": "markdown",
   "id": "9e44b826-d02f-4623-9531-827e937c694e",
   "metadata": {},
   "source": [
    "# Implemenenting Statistics Function Lab"
   ]
  },
  {
   "cell_type": "code",
   "execution_count": 3,
   "id": "54afc833-049f-40db-bd99-f016bac60c53",
   "metadata": {},
   "outputs": [],
   "source": [
    "import pandas as pd\n",
    "\n",
    "df = pd.read_csv('nhis.csv')\n",
    "\n",
    "height = list(df['height'])"
   ]
  },
  {
   "cell_type": "code",
   "execution_count": 4,
   "id": "62be2212-33a3-469d-8f24-048aa07c9acb",
   "metadata": {},
   "outputs": [
    {
     "data": {
      "text/plain": [
       "[74,\n",
       " 70,\n",
       " 61,\n",
       " 68,\n",
       " 66,\n",
       " 98,\n",
       " 99,\n",
       " 70,\n",
       " 65,\n",
       " 64,\n",
       " 65,\n",
       " 66,\n",
       " 99,\n",
       " 61,\n",
       " 61,\n",
       " 65,\n",
       " 68,\n",
       " 64,\n",
       " 64,\n",
       " 66,\n",
       " 67,\n",
       " 72,\n",
       " 61,\n",
       " 96,\n",
       " 65,\n",
       " 61,\n",
       " 66,\n",
       " 64,\n",
       " 72,\n",
       " 64,\n",
       " 64,\n",
       " 71,\n",
       " 64,\n",
       " 72,\n",
       " 70,\n",
       " 66,\n",
       " 74,\n",
       " 76,\n",
       " 68,\n",
       " 66,\n",
       " 66,\n",
       " 69,\n",
       " 61,\n",
       " 64,\n",
       " 66,\n",
       " 69,\n",
       " 66,\n",
       " 71,\n",
       " 71,\n",
       " 63,\n",
       " 68,\n",
       " 75,\n",
       " 64,\n",
       " 62,\n",
       " 96,\n",
       " 65,\n",
       " 64,\n",
       " 60,\n",
       " 62,\n",
       " 61,\n",
       " 63,\n",
       " 72,\n",
       " 72,\n",
       " 63,\n",
       " 67,\n",
       " 65,\n",
       " 64,\n",
       " 61,\n",
       " 66,\n",
       " 65,\n",
       " 68,\n",
       " 64,\n",
       " 71,\n",
       " 65,\n",
       " 63,\n",
       " 64,\n",
       " 72,\n",
       " 65,\n",
       " 71,\n",
       " 72,\n",
       " 64,\n",
       " 65,\n",
       " 72,\n",
       " 69,\n",
       " 66,\n",
       " 64,\n",
       " 96,\n",
       " 66,\n",
       " 96,\n",
       " 69,\n",
       " 67,\n",
       " 66,\n",
       " 59,\n",
       " 60,\n",
       " 62,\n",
       " 70,\n",
       " 61,\n",
       " 66,\n",
       " 97,\n",
       " 96,\n",
       " 62,\n",
       " 67,\n",
       " 59,\n",
       " 70,\n",
       " 66,\n",
       " 60,\n",
       " 68,\n",
       " 67,\n",
       " 65,\n",
       " 71,\n",
       " 63,\n",
       " 63,\n",
       " 71,\n",
       " 67,\n",
       " 65,\n",
       " 66,\n",
       " 66,\n",
       " 70,\n",
       " 68,\n",
       " 64,\n",
       " 62,\n",
       " 60,\n",
       " 73,\n",
       " 68,\n",
       " 62,\n",
       " 61,\n",
       " 65,\n",
       " 66,\n",
       " 64,\n",
       " 60,\n",
       " 59,\n",
       " 61,\n",
       " 63,\n",
       " 98,\n",
       " 60,\n",
       " 62,\n",
       " 63,\n",
       " 65,\n",
       " 68,\n",
       " 72,\n",
       " 67,\n",
       " 72,\n",
       " 66,\n",
       " 61,\n",
       " 96,\n",
       " 64,\n",
       " 96,\n",
       " 64,\n",
       " 71,\n",
       " 72,\n",
       " 65,\n",
       " 67,\n",
       " 63,\n",
       " 68,\n",
       " 65,\n",
       " 96,\n",
       " 71,\n",
       " 62,\n",
       " 69,\n",
       " 64,\n",
       " 66,\n",
       " 63,\n",
       " 67,\n",
       " 69,\n",
       " 66,\n",
       " 61,\n",
       " 68,\n",
       " 60,\n",
       " 72,\n",
       " 70,\n",
       " 65,\n",
       " 67,\n",
       " 63,\n",
       " 69,\n",
       " 64,\n",
       " 96,\n",
       " 67,\n",
       " 74,\n",
       " 62,\n",
       " 69,\n",
       " 60,\n",
       " 73,\n",
       " 96,\n",
       " 67,\n",
       " 98,\n",
       " 62,\n",
       " 69,\n",
       " 64,\n",
       " 68,\n",
       " 72,\n",
       " 74,\n",
       " 72,\n",
       " 64,\n",
       " 66,\n",
       " 68,\n",
       " 65,\n",
       " 61,\n",
       " 69,\n",
       " 71,\n",
       " 66,\n",
       " 65,\n",
       " 68,\n",
       " 65,\n",
       " 68,\n",
       " 68,\n",
       " 72,\n",
       " 62,\n",
       " 60,\n",
       " 72,\n",
       " 71,\n",
       " 65,\n",
       " 62,\n",
       " 74,\n",
       " 71,\n",
       " 67,\n",
       " 67,\n",
       " 66,\n",
       " 69,\n",
       " 67,\n",
       " 66,\n",
       " 96,\n",
       " 72,\n",
       " 65,\n",
       " 61,\n",
       " 68,\n",
       " 98,\n",
       " 68,\n",
       " 70,\n",
       " 68,\n",
       " 70,\n",
       " 71,\n",
       " 65,\n",
       " 69,\n",
       " 98,\n",
       " 68,\n",
       " 70,\n",
       " 67,\n",
       " 60,\n",
       " 65,\n",
       " 63,\n",
       " 74,\n",
       " 67,\n",
       " 67,\n",
       " 63,\n",
       " 67,\n",
       " 69,\n",
       " 96,\n",
       " 67,\n",
       " 65,\n",
       " 64,\n",
       " 72,\n",
       " 72,\n",
       " 67,\n",
       " 63,\n",
       " 64,\n",
       " 65,\n",
       " 68,\n",
       " 65,\n",
       " 64,\n",
       " 99,\n",
       " 64,\n",
       " 61,\n",
       " 60,\n",
       " 63,\n",
       " 69,\n",
       " 96,\n",
       " 96,\n",
       " 64,\n",
       " 70,\n",
       " 73,\n",
       " 65,\n",
       " 68,\n",
       " 98,\n",
       " 70,\n",
       " 60,\n",
       " 67,\n",
       " 70,\n",
       " 66,\n",
       " 67,\n",
       " 66,\n",
       " 72,\n",
       " 73,\n",
       " 69,\n",
       " 67,\n",
       " 63,\n",
       " 70,\n",
       " 69,\n",
       " 63,\n",
       " 60,\n",
       " 70,\n",
       " 66,\n",
       " 70,\n",
       " 67,\n",
       " 66,\n",
       " 60,\n",
       " 96,\n",
       " 69,\n",
       " 62,\n",
       " 67,\n",
       " 64,\n",
       " 72,\n",
       " 70,\n",
       " 67,\n",
       " 68,\n",
       " 72,\n",
       " 61,\n",
       " 65,\n",
       " 69,\n",
       " 65,\n",
       " 66,\n",
       " 69,\n",
       " 66,\n",
       " 63,\n",
       " 64,\n",
       " 62,\n",
       " 72,\n",
       " 67,\n",
       " 72,\n",
       " 62,\n",
       " 67,\n",
       " 64,\n",
       " 67,\n",
       " 62,\n",
       " 64,\n",
       " 69,\n",
       " 64,\n",
       " 71,\n",
       " 60,\n",
       " 70,\n",
       " 69,\n",
       " 66,\n",
       " 69,\n",
       " 96,\n",
       " 96,\n",
       " 66,\n",
       " 70,\n",
       " 75,\n",
       " 69,\n",
       " 73,\n",
       " 71,\n",
       " 69,\n",
       " 66,\n",
       " 67,\n",
       " 72,\n",
       " 62,\n",
       " 96,\n",
       " 64,\n",
       " 65,\n",
       " 73,\n",
       " 70,\n",
       " 96,\n",
       " 70,\n",
       " 64,\n",
       " 73,\n",
       " 60,\n",
       " 96,\n",
       " 70,\n",
       " 70,\n",
       " 71,\n",
       " 73,\n",
       " 63,\n",
       " 68,\n",
       " 63,\n",
       " 67,\n",
       " 70,\n",
       " 64,\n",
       " 68,\n",
       " 62,\n",
       " 71,\n",
       " 72,\n",
       " 64,\n",
       " 69,\n",
       " 67,\n",
       " 69,\n",
       " 69,\n",
       " 70,\n",
       " 98,\n",
       " 62,\n",
       " 76,\n",
       " 96,\n",
       " 63,\n",
       " 65,\n",
       " 70,\n",
       " 75,\n",
       " 65,\n",
       " 70,\n",
       " 66,\n",
       " 68,\n",
       " 98,\n",
       " 65,\n",
       " 68,\n",
       " 64,\n",
       " 62,\n",
       " 62,\n",
       " 66,\n",
       " 64,\n",
       " 73,\n",
       " 66,\n",
       " 65,\n",
       " 64,\n",
       " 67,\n",
       " 67,\n",
       " 65,\n",
       " 99,\n",
       " 66,\n",
       " 67,\n",
       " 70,\n",
       " 72,\n",
       " 62,\n",
       " 67,\n",
       " 72,\n",
       " 68,\n",
       " 63,\n",
       " 70,\n",
       " 60,\n",
       " 65,\n",
       " 61,\n",
       " 65,\n",
       " 99,\n",
       " 65,\n",
       " 74,\n",
       " 72,\n",
       " 98,\n",
       " 70,\n",
       " 70,\n",
       " 65,\n",
       " 65,\n",
       " 68,\n",
       " 96,\n",
       " 66,\n",
       " 66,\n",
       " 73,\n",
       " 70,\n",
       " 74,\n",
       " 68,\n",
       " 67,\n",
       " 65,\n",
       " 96,\n",
       " 71,\n",
       " 68,\n",
       " 69,\n",
       " 68,\n",
       " 72,\n",
       " 63,\n",
       " 62,\n",
       " 66,\n",
       " 63,\n",
       " 96,\n",
       " 64,\n",
       " 70,\n",
       " 65,\n",
       " 67,\n",
       " 62,\n",
       " 73,\n",
       " 62,\n",
       " 66,\n",
       " 64,\n",
       " 64,\n",
       " 65,\n",
       " 96,\n",
       " 62,\n",
       " 68,\n",
       " 73,\n",
       " 63,\n",
       " 63,\n",
       " 66,\n",
       " 63,\n",
       " 64,\n",
       " 65,\n",
       " 73,\n",
       " 65,\n",
       " 66,\n",
       " 62,\n",
       " 72,\n",
       " 65,\n",
       " 61,\n",
       " 64,\n",
       " 67,\n",
       " 96,\n",
       " 62,\n",
       " 69,\n",
       " 75,\n",
       " 62,\n",
       " 65,\n",
       " 66,\n",
       " 63,\n",
       " 67,\n",
       " 66,\n",
       " 70,\n",
       " 61,\n",
       " 63,\n",
       " 62,\n",
       " 63,\n",
       " 65,\n",
       " 63,\n",
       " 69,\n",
       " 68,\n",
       " 64,\n",
       " 65,\n",
       " 63,\n",
       " 64,\n",
       " 72,\n",
       " 64,\n",
       " 63,\n",
       " 71,\n",
       " 62,\n",
       " 96,\n",
       " 69,\n",
       " 72,\n",
       " 68,\n",
       " 99,\n",
       " 67,\n",
       " 73,\n",
       " 73,\n",
       " 64,\n",
       " 66,\n",
       " 63,\n",
       " 66,\n",
       " 69,\n",
       " 71,\n",
       " 63,\n",
       " 74,\n",
       " 66,\n",
       " 96,\n",
       " 66,\n",
       " 66,\n",
       " 66,\n",
       " 62,\n",
       " 63,\n",
       " 64,\n",
       " 62,\n",
       " 96,\n",
       " 64,\n",
       " 71,\n",
       " 63,\n",
       " 74,\n",
       " 60,\n",
       " 73,\n",
       " 64,\n",
       " 66,\n",
       " 71,\n",
       " 65,\n",
       " 71,\n",
       " 66,\n",
       " 64,\n",
       " 71,\n",
       " 98,\n",
       " 60,\n",
       " 71,\n",
       " 99,\n",
       " 71,\n",
       " 72,\n",
       " 71,\n",
       " 72,\n",
       " 68,\n",
       " 60,\n",
       " 65,\n",
       " 64,\n",
       " 73,\n",
       " 70,\n",
       " 71,\n",
       " 72,\n",
       " 64,\n",
       " 76,\n",
       " 73,\n",
       " 60,\n",
       " 63,\n",
       " 63,\n",
       " 96,\n",
       " 63,\n",
       " 96,\n",
       " 60,\n",
       " 67,\n",
       " 71,\n",
       " 72,\n",
       " 64,\n",
       " 66,\n",
       " 67,\n",
       " 72,\n",
       " 65,\n",
       " 73,\n",
       " 65,\n",
       " 64,\n",
       " 66,\n",
       " 66,\n",
       " 71,\n",
       " 72,\n",
       " 62,\n",
       " 64,\n",
       " 70,\n",
       " 97,\n",
       " 69,\n",
       " 73,\n",
       " 74,\n",
       " 59,\n",
       " 67,\n",
       " 96,\n",
       " 67,\n",
       " 67,\n",
       " 68,\n",
       " 68,\n",
       " 68,\n",
       " 66,\n",
       " 64,\n",
       " 62,\n",
       " 65,\n",
       " 73,\n",
       " 96,\n",
       " 67,\n",
       " 72,\n",
       " 68,\n",
       " 66,\n",
       " 69,\n",
       " 63,\n",
       " 73,\n",
       " 62,\n",
       " 76,\n",
       " 64,\n",
       " 69,\n",
       " 73,\n",
       " 69,\n",
       " 68,\n",
       " 73,\n",
       " 68,\n",
       " 71,\n",
       " 65,\n",
       " 60,\n",
       " 68,\n",
       " 96,\n",
       " 66,\n",
       " 72,\n",
       " 74,\n",
       " 63,\n",
       " 64,\n",
       " 71,\n",
       " 96,\n",
       " 75,\n",
       " 96,\n",
       " 70,\n",
       " 68,\n",
       " 70,\n",
       " 65,\n",
       " 69,\n",
       " 62,\n",
       " 62,\n",
       " 76,\n",
       " 64,\n",
       " 62,\n",
       " 67,\n",
       " 74,\n",
       " 96,\n",
       " 70,\n",
       " 66,\n",
       " 98,\n",
       " 74,\n",
       " 62,\n",
       " 67,\n",
       " 74,\n",
       " 63,\n",
       " 96,\n",
       " 96,\n",
       " 69,\n",
       " 64,\n",
       " 69,\n",
       " 76,\n",
       " 64,\n",
       " 74,\n",
       " 72,\n",
       " 69,\n",
       " 68,\n",
       " 65,\n",
       " 60,\n",
       " 64,\n",
       " 62,\n",
       " 65,\n",
       " 67,\n",
       " 65,\n",
       " 62,\n",
       " 73,\n",
       " 73,\n",
       " 69,\n",
       " 66,\n",
       " 69,\n",
       " 64,\n",
       " 65,\n",
       " 70,\n",
       " 69,\n",
       " 63,\n",
       " 64,\n",
       " 97,\n",
       " 64,\n",
       " 70,\n",
       " 96,\n",
       " 67,\n",
       " 69,\n",
       " 69,\n",
       " 68,\n",
       " 68,\n",
       " 65,\n",
       " 71,\n",
       " 66,\n",
       " 65,\n",
       " 97,\n",
       " 62,\n",
       " 69,\n",
       " 75,\n",
       " 61,\n",
       " 98,\n",
       " 71,\n",
       " 70,\n",
       " 65,\n",
       " 69,\n",
       " 66,\n",
       " 67,\n",
       " 70,\n",
       " 73,\n",
       " 69,\n",
       " 74,\n",
       " 70,\n",
       " 64,\n",
       " 72,\n",
       " 97,\n",
       " 62,\n",
       " 67,\n",
       " 99,\n",
       " 70,\n",
       " 65,\n",
       " 63,\n",
       " 67,\n",
       " 67,\n",
       " 96,\n",
       " 72,\n",
       " 59,\n",
       " 72,\n",
       " 63,\n",
       " 59,\n",
       " 65,\n",
       " 72,\n",
       " 69,\n",
       " 72,\n",
       " 60,\n",
       " 66,\n",
       " 70,\n",
       " 60,\n",
       " 70,\n",
       " 64,\n",
       " 68,\n",
       " 71,\n",
       " 68,\n",
       " 64,\n",
       " 61,\n",
       " 70,\n",
       " 65,\n",
       " 61,\n",
       " 63,\n",
       " 68,\n",
       " 66,\n",
       " 76,\n",
       " 96,\n",
       " 68,\n",
       " 66,\n",
       " 70,\n",
       " 66,\n",
       " 64,\n",
       " 68,\n",
       " 65,\n",
       " 73,\n",
       " 66,\n",
       " 69,\n",
       " 63,\n",
       " 65,\n",
       " 71,\n",
       " 70,\n",
       " 70,\n",
       " 72,\n",
       " 65,\n",
       " 64,\n",
       " 62,\n",
       " 64,\n",
       " 96,\n",
       " 60,\n",
       " 68,\n",
       " 66,\n",
       " 66,\n",
       " 72,\n",
       " 67,\n",
       " 67,\n",
       " 69,\n",
       " 66,\n",
       " 96,\n",
       " 61,\n",
       " 68,\n",
       " 63,\n",
       " 62,\n",
       " 66,\n",
       " 62,\n",
       " 64,\n",
       " 66,\n",
       " 68,\n",
       " 65,\n",
       " 74,\n",
       " 70,\n",
       " 69,\n",
       " 67,\n",
       " 60,\n",
       " 96,\n",
       " 68,\n",
       " 66,\n",
       " 64,\n",
       " 69,\n",
       " 64,\n",
       " 63,\n",
       " 72,\n",
       " 64,\n",
       " 65,\n",
       " 68,\n",
       " 70,\n",
       " 67,\n",
       " 69,\n",
       " 66,\n",
       " 61,\n",
       " 66,\n",
       " 71,\n",
       " 96,\n",
       " 96,\n",
       " 66,\n",
       " 70,\n",
       " 63,\n",
       " 76,\n",
       " 64,\n",
       " 66,\n",
       " 70,\n",
       " 71,\n",
       " 71,\n",
       " 66,\n",
       " 64,\n",
       " 66,\n",
       " 96,\n",
       " 75,\n",
       " 67,\n",
       " 72,\n",
       " 98,\n",
       " 96,\n",
       " 71,\n",
       " 66,\n",
       " 67,\n",
       " 72,\n",
       " 74,\n",
       " 71,\n",
       " 64,\n",
       " 63,\n",
       " 65,\n",
       " 60,\n",
       " 66,\n",
       " 72,\n",
       " 62,\n",
       " 69,\n",
       " 70,\n",
       " 65,\n",
       " 70,\n",
       " 72,\n",
       " 63,\n",
       " 65,\n",
       " 75,\n",
       " 67,\n",
       " 62,\n",
       " 69,\n",
       " 67,\n",
       " 75,\n",
       " 66,\n",
       " 68,\n",
       " 67,\n",
       " 72,\n",
       " 67,\n",
       " 61,\n",
       " 60,\n",
       " 65,\n",
       " 66,\n",
       " 61,\n",
       " 65,\n",
       " 62,\n",
       " 72,\n",
       " 67,\n",
       " 62,\n",
       " 98,\n",
       " 71,\n",
       " 96,\n",
       " 66,\n",
       " 67,\n",
       " 65,\n",
       " 63,\n",
       " 70,\n",
       " 70,\n",
       " 71,\n",
       " 96,\n",
       " 63,\n",
       " 68,\n",
       " 66,\n",
       " 65,\n",
       " 63,\n",
       " 61,\n",
       " 62,\n",
       " 68,\n",
       " 63,\n",
       " 66,\n",
       " 67,\n",
       " 62,\n",
       " 63,\n",
       " 67,\n",
       " 68,\n",
       " 64,\n",
       " 98,\n",
       " 69,\n",
       " 66,\n",
       " 61,\n",
       " 63,\n",
       " 69,\n",
       " 64,\n",
       " 64,\n",
       " 72,\n",
       " 66,\n",
       " 60,\n",
       " 65,\n",
       " 74,\n",
       " 68,\n",
       " 71,\n",
       " 62,\n",
       " 65,\n",
       " 63,\n",
       " 65,\n",
       " 96,\n",
       " 65,\n",
       " 66,\n",
       " 72,\n",
       " 67,\n",
       " 63,\n",
       " 66,\n",
       " 69,\n",
       " 65,\n",
       " 65,\n",
       " 71,\n",
       " 73,\n",
       " 72,\n",
       " 68,\n",
       " 62,\n",
       " 64,\n",
       " 66,\n",
       " 63,\n",
       " 69,\n",
       " 63,\n",
       " 67,\n",
       " 59,\n",
       " 71,\n",
       " 64,\n",
       " 98,\n",
       " 71,\n",
       " 64,\n",
       " 65,\n",
       " 67,\n",
       " 65,\n",
       " 65,\n",
       " 71,\n",
       " 71,\n",
       " 59,\n",
       " 67,\n",
       " 68,\n",
       " 71,\n",
       " 98,\n",
       " 64,\n",
       " 67,\n",
       " 72,\n",
       " 76,\n",
       " 96,\n",
       " 98,\n",
       " 72,\n",
       " 68,\n",
       " 64,\n",
       " 69,\n",
       " 64,\n",
       " 62,\n",
       " 98,\n",
       " 71,\n",
       " 72,\n",
       " 62,\n",
       " 98,\n",
       " 71,\n",
       " 69,\n",
       " 65,\n",
       " 64,\n",
       " 60,\n",
       " 72,\n",
       " 96,\n",
       " 64,\n",
       " 72,\n",
       " 65,\n",
       " 70,\n",
       " 62,\n",
       " 62,\n",
       " 66,\n",
       " 72,\n",
       " ...]"
      ]
     },
     "execution_count": 4,
     "metadata": {},
     "output_type": "execute_result"
    }
   ],
   "source": [
    "height"
   ]
  },
  {
   "cell_type": "code",
   "execution_count": 6,
   "id": "5f41b05f-d65d-4493-a8dd-6cbee3891b82",
   "metadata": {},
   "outputs": [
    {
     "data": {
      "text/plain": [
       "4785"
      ]
     },
     "execution_count": 6,
     "metadata": {},
     "output_type": "execute_result"
    }
   ],
   "source": [
    "num_records = len(height)\n",
    "num_records"
   ]
  },
  {
   "cell_type": "code",
   "execution_count": 8,
   "id": "68e56a8d-cf43-4678-abb2-63955366b98c",
   "metadata": {},
   "outputs": [
    {
     "data": {
      "text/plain": [
       "[74, 70, 61, 68, 66, 98, 99, 70, 65, 64]"
      ]
     },
     "execution_count": 8,
     "metadata": {},
     "output_type": "execute_result"
    }
   ],
   "source": [
    "first_10 = height[:10]\n",
    "first_10"
   ]
  },
  {
   "cell_type": "code",
   "execution_count": 9,
   "id": "d71bc77e-21b1-4544-9b2e-d7d8660260f9",
   "metadata": {},
   "outputs": [],
   "source": [
    "import matplotlib.pyplot as plt\n",
    "%matplotlib inline "
   ]
  },
  {
   "cell_type": "code",
   "execution_count": 11,
   "id": "a32d03fd-8ed4-45ce-963d-3dd24efe1fb3",
   "metadata": {},
   "outputs": [
    {
     "data": {
      "image/png": "[encoded data removed]",
      "text/plain": [
       "<Figure size 640x480 with 1 Axes>"
      ]
     },
     "metadata": {},
     "output_type": "display_data"
    }
   ],
   "source": [
    "plt.hist(height, bins=10);"
   ]
  },
  {
   "cell_type": "code",
   "execution_count": 15,
   "id": "c18c9c8f-15f7-494c-9cc3-e84e1be43744",
   "metadata": {},
   "outputs": [
    {
     "name": "stdout",
     "output_type": "stream",
     "text": [
      "3.0\n",
      "2.5\n"
     ]
    }
   ],
   "source": [
    "def get_mean(data):\n",
    "\n",
    "   # Replace None with appropriate code\n",
    "\n",
    "   mean = sum(data)/len(data)\n",
    "\n",
    "   return round(mean,2)\n",
    "\n",
    "test1 = [5, 4, 1, 3, 2]\n",
    "\n",
    "test2 = [4, 2, 3, 1]\n",
    "\n",
    "print(get_mean(test1)) # 3.0\n",
    "\n",
    "print(get_mean(test2)) # 2.5"
   ]
  },
  {
   "cell_type": "code",
   "execution_count": 19,
   "id": "ac8dbef4-ff69-42da-bb81-337bd54a3ef7",
   "metadata": {},
   "outputs": [],
   "source": [
    "mean = get_mean(height)"
   ]
  },
  {
   "cell_type": "code",
   "execution_count": 20,
   "id": "224fdb46-be7d-4f50-9cfe-105029875e01",
   "metadata": {},
   "outputs": [
    {
     "data": {
      "text/plain": [
       "69.58"
      ]
     },
     "execution_count": 20,
     "metadata": {},
     "output_type": "execute_result"
    }
   ],
   "source": [
    "mean"
   ]
  },
  {
   "cell_type": "code",
   "execution_count": 24,
   "id": "d44439ee-8dab-41d6-bd96-c26cdb8342f5",
   "metadata": {},
   "outputs": [
    {
     "data": {
      "text/plain": [
       "[60, 70]"
      ]
     },
     "execution_count": 24,
     "metadata": {},
     "output_type": "execute_result"
    }
   ],
   "source": [
    "def filter_height_outliers(data):\n",
    "\n",
    "    filtered_data = []\n",
    "    for height in data:\n",
    "        if height <80:\n",
    "            filtered_data.append(height)\n",
    "\n",
    "    return filtered_data\n",
    "\n",
    "test = [60, 70, 80, 90]\n",
    "\n",
    "filter_height_outliers(test) # [60, 70]"
   ]
  },
  {
   "cell_type": "code",
   "execution_count": 25,
   "id": "1e3f2c3b-a101-4431-a713-ed83350e7aa3",
   "metadata": {},
   "outputs": [
    {
     "data": {
      "text/plain": [
       "4347"
      ]
     },
     "execution_count": 25,
     "metadata": {},
     "output_type": "execute_result"
    }
   ],
   "source": [
    "filtered_height = filter_height_outliers (height)\n",
    "len(filtered_height)"
   ]
  },
  {
   "cell_type": "code",
   "execution_count": 26,
   "id": "90e4026b-b15e-4e40-827a-2ed1398e93f2",
   "metadata": {},
   "outputs": [
    {
     "data": {
      "image/png": "[encoded data removed]",
      "text/plain": [
       "<Figure size 640x480 with 1 Axes>"
      ]
     },
     "metadata": {},
     "output_type": "display_data"
    }
   ],
   "source": [
    "plt.hist(filtered_height, bins=8);"
   ]
  },
  {
   "cell_type": "markdown",
   "id": "b51e62e8-1c82-4e35-9727-271733913e8f",
   "metadata": {},
   "source": [
    "# M&E To Do List Assignment"
   ]
  },
  {
   "cell_type": "code",
   "execution_count": null,
   "id": "7528f6b5-1dfc-4df8-90cf-bbab9e0aa41a",
   "metadata": {},
   "outputs": [
    {
     "name": "stdin",
     "output_type": "stream",
     "text": [
      "Enter a command (add, complete, list, remove, quit):  list\n"
     ]
    },
    {
     "name": "stdout",
     "output_type": "stream",
     "text": [
      "No tasks available\n"
     ]
    }
   ],
   "source": [
    "import sys\n",
    "# Task list to hold the tasks\n",
    "tasks = []\n",
    "\n",
    "def add_task(task):\n",
    "    tasks.append({'task': task, 'completed': False})\n",
    "    print(f\"Task added: {task}\")\n",
    "\n",
    "def complete_task(idx):\n",
    "    if 0 <= idx < len(tasks):\n",
    "        tasks[idx]['completed'] = True\n",
    "        print(f\"Task marked as completed: {tasks[idx]['task']}\")\n",
    "    else:\n",
    "        print(\"Invalid task index\")\n",
    "\n",
    "def list_tasks():\n",
    "    if tasks:\n",
    "        for i, task in enumerate(tasks):\n",
    "            status = \"Completed\" if task['completed'] else \"Pending\"\n",
    "            print(f\"{i}. {task['task']} - {status}\")\n",
    "    else:\n",
    "        print(\"No tasks available\")\n",
    "\n",
    "def remove_task(idx):\n",
    "    if 0 <= idx < len(tasks):\n",
    "        removed_task = tasks.pop(idx)\n",
    "        print(f\"Task removed: {removed_task['task']}\")\n",
    "    else:\n",
    "        print(\"Invalid task index\")\n",
    "\n",
    "def main():\n",
    "    while True:\n",
    "        command = input(\"Enter a command (add, complete, list, remove, quit): \").strip()\n",
    "        \n",
    "        if command == 'add':\n",
    "            task = input(\"Enter a task: \").strip()\n",
    "            add_task(task)\n",
    "        elif command == 'complete':\n",
    "            idx = int(input(\"Enter the task index to mark as completed: \").strip())\n",
    "            complete_task(idx)\n",
    "        elif command == 'list':\n",
    "            list_tasks()\n",
    "        elif command == 'remove':\n",
    "            idx = int(input(\"Enter the task index to remove: \").strip())\n",
    "            remove_task(idx)\n",
    "        elif command == 'quit':\n",
    "            print(\"Exiting To-Do List Manager.\")\n",
    "            sys.exit()\n",
    "        else:\n",
    "            print(\"Unknown command. Please try again.\")\n",
    "\n",
    "if __name__ == \"__main__\":\n",
    "    main()"
   ]
  },
  {
   "cell_type": "code",
   "execution_count": 31,
   "id": "23fac0a0-af68-49ec-9511-faa9972b40df",
   "metadata": {},
   "outputs": [],
   "source": [
    "exit"
   ]
  },
  {
   "cell_type": "markdown",
   "id": "f9fb4731-7e3e-4a19-9ce9-40d613e362bf",
   "metadata": {},
   "source": [
    "# Covariance and Correlation"
   ]
  },
  {
   "cell_type": "code",
   "execution_count": 2,
   "id": "62335c20-416a-4645-afc5-feacfcc51b0f",
   "metadata": {},
   "outputs": [],
   "source": [
    "# Run this cell without changes\n",
    "\n",
    "height = [68, 71, 61, 69, 71, 58, 72, 73, 58, 74,\n",
    "\n",
    "         61, 59, 69, 68, 64, 69, 72, 66, 65, 69]\n",
    "\n",
    "weight = [165, 201, 140, 170, 192, 125, 195, 205,\n",
    "\n",
    "         115, 210, 135, 125, 172, 175, 145, 170,\n",
    "\n",
    "         200, 155, 150, 171]"
   ]
  },
  {
   "cell_type": "code",
   "execution_count": 7,
   "id": "f25aca15-2b0e-4180-b1ae-f39b30b10378",
   "metadata": {},
   "outputs": [],
   "source": [
    "def mean_normalize(var):\n",
    "    mean=sum(var)/len(var)\n",
    "    list=[]\n",
    "    for y in var:\n",
    "        list.append(y - mean)\n",
    "    return (list)"
   ]
  },
  {
   "cell_type": "code",
   "execution_count": 8,
   "id": "043cc456-5ca7-45ef-9f1e-fd9938164eb7",
   "metadata": {},
   "outputs": [
    {
     "data": {
      "text/plain": [
       "[-2.0, -1.0, 0.0, 1.0, 2.0]"
      ]
     },
     "execution_count": 8,
     "metadata": {},
     "output_type": "execute_result"
    }
   ],
   "source": [
    "mean_normalize([1, 2, 3, 4, 5])"
   ]
  },
  {
   "cell_type": "code",
   "execution_count": 9,
   "id": "1aad8f06-0fa7-4574-a613-2200245ff43f",
   "metadata": {},
   "outputs": [
    {
     "data": {
      "text/plain": [
       "[-22.0, -11.0, 0.0, 11.0, 22.0]"
      ]
     },
     "execution_count": 9,
     "metadata": {},
     "output_type": "execute_result"
    }
   ],
   "source": [
    "mean_normalize([11, 22, 33, 44, 55])"
   ]
  },
  {
   "cell_type": "code",
   "execution_count": 10,
   "id": "0d9e0bca-db68-4949-ad69-c83bf9c14244",
   "metadata": {},
   "outputs": [
    {
     "data": {
      "text/plain": [
       "[1.1500000000000057,\n",
       " 4.150000000000006,\n",
       " -5.849999999999994,\n",
       " 2.1500000000000057,\n",
       " 4.150000000000006,\n",
       " -8.849999999999994,\n",
       " 5.150000000000006,\n",
       " 6.150000000000006,\n",
       " -8.849999999999994,\n",
       " 7.150000000000006,\n",
       " -5.849999999999994,\n",
       " -7.849999999999994,\n",
       " 2.1500000000000057,\n",
       " 1.1500000000000057,\n",
       " -2.8499999999999943,\n",
       " 2.1500000000000057,\n",
       " 5.150000000000006,\n",
       " -0.8499999999999943,\n",
       " -1.8499999999999943,\n",
       " 2.1500000000000057]"
      ]
     },
     "execution_count": 10,
     "metadata": {},
     "output_type": "execute_result"
    }
   ],
   "source": [
    "height_normalized = mean_normalize(height)\n",
    "\n",
    "height_normalized"
   ]
  },
  {
   "cell_type": "code",
   "execution_count": 11,
   "id": "e20e30f1-3762-43da-8e7c-2cba96bce9bf",
   "metadata": {},
   "outputs": [
    {
     "data": {
      "image/png": "[encoded data removed]",
      "text/plain": [
       "<Figure size 640x480 with 1 Axes>"
      ]
     },
     "metadata": {},
     "output_type": "display_data"
    }
   ],
   "source": [
    "# Run this cell without changes\n",
    "\n",
    "import matplotlib.pyplot as plt\n",
    "\n",
    "%matplotlib inline\n",
    "\n",
    "fig, ax = plt.subplots()\n",
    "\n",
    "ax.hist(height_normalized, label=\"normalized data\", bins=6)\n",
    "\n",
    "ax.hist(height, label=\"original data\", bins=6)\n",
    "\n",
    "ax.set_title(\"Distribution of Height Data Before and After Normalization\")\n",
    "\n",
    "ax.set_xlabel(\"Height\")\n",
    "\n",
    "ax.set_ylabel(\"Count\")\n",
    "\n",
    "ax.legend(loc=\"center\");"
   ]
  },
  {
   "cell_type": "code",
   "execution_count": 13,
   "id": "dfa0a2f7-1a6b-4226-96fe-6ffa64ccfa58",
   "metadata": {},
   "outputs": [],
   "source": [
    "import numpy as np\n",
    "def dot_product(x, y):\n",
    "    return(np.dot(x,y))"
   ]
  },
  {
   "cell_type": "code",
   "execution_count": 14,
   "id": "ecc88ac2-bded-4838-8757-de8c48214c88",
   "metadata": {},
   "outputs": [
    {
     "data": {
      "text/plain": [
       "32"
      ]
     },
     "execution_count": 14,
     "metadata": {},
     "output_type": "execute_result"
    }
   ],
   "source": [
    "a = [1, 2, 3]\n",
    "b = [4, 5, 6]\n",
    "dot_product(a,b)\n",
    "#  32, calculated as (1*4 + 2*5 + 3*6)"
   ]
  },
  {
   "cell_type": "code",
   "execution_count": 17,
   "id": "e0a1a019-aa74-40cc-bd9b-dee107299368",
   "metadata": {},
   "outputs": [],
   "source": [
    "def covariance(x, y):\n",
    "    x_norm=mean_normalize(x)\n",
    "    y_norm=mean_normalize(y)\n",
    "    numerator=dot_product(x,y)\n",
    "    return (dot_product(x_norm,y_norm)/(len(x)-1))"
   ]
  },
  {
   "cell_type": "code",
   "execution_count": 19,
   "id": "45a9a107-1c0c-4a3e-bd66-59968c0ada84",
   "metadata": {},
   "outputs": [
    {
     "data": {
      "text/plain": [
       "144.75789473684208"
      ]
     },
     "execution_count": 19,
     "metadata": {},
     "output_type": "execute_result"
    }
   ],
   "source": [
    "covariance(height,weight)"
   ]
  },
  {
   "cell_type": "code",
   "execution_count": 20,
   "id": "fef794d9-c8a2-4767-8430-570a01657783",
   "metadata": {},
   "outputs": [
    {
     "data": {
      "text/plain": [
       "5.112162998801562"
      ]
     },
     "execution_count": 20,
     "metadata": {},
     "output_type": "execute_result"
    }
   ],
   "source": [
    "from math import sqrt\n",
    "def stddev(var):\n",
    "   mean = sum(var)/len(var)\n",
    "   sum_of_squares = 0\n",
    "   for i in var:\n",
    "       sum_of_squares += (i - mean)**2\n",
    "   n = len(var)\n",
    "   variance = sum_of_squares / (n - 1)\n",
    "   return sqrt(variance)\n",
    "stddev(height)"
   ]
  },
  {
   "cell_type": "code",
   "execution_count": 21,
   "id": "8cca4715-8ce5-4e37-a92b-0268b8d8dacf",
   "metadata": {},
   "outputs": [
    {
     "data": {
      "text/plain": [
       "1515.308715830546"
      ]
     },
     "execution_count": 21,
     "metadata": {},
     "output_type": "execute_result"
    }
   ],
   "source": [
    "def correlation(x, y):\n",
    "   numerator = dot_product(mean_normalize(x)\n",
    "   s_x = stddev(x)\n",
    "   s_y = stddev(y)\n",
    "   return (numerator/(s_x*s_y))\n",
    "correlation(height, weight)\n",
    "\n",
    "# 0.9773995748246297"
   ]
  },
  {
   "cell_type": "markdown",
   "id": "5c2b6428-781b-4a31-9a0a-ed27426a45f3",
   "metadata": {},
   "source": [
    "# Accessing Data within Pandas"
   ]
  },
  {
   "cell_type": "code",
   "execution_count": 22,
   "id": "ab503d53-d237-4e7e-8c04-1cd5d3b3fd55",
   "metadata": {},
   "outputs": [
    {
     "data": {
      "text/html": [
       "<div>\n",
       "<style scoped>\n",
       "    .dataframe tbody tr th:only-of-type {\n",
       "        vertical-align: middle;\n",
       "    }\n",
       "\n",
       "    .dataframe tbody tr th {\n",
       "        vertical-align: top;\n",
       "    }\n",
       "\n",
       "    .dataframe thead th {\n",
       "        text-align: right;\n",
       "    }\n",
       "</style>\n",
       "<table border=\"1\" class=\"dataframe\">\n",
       "  <thead>\n",
       "    <tr style=\"text-align: right;\">\n",
       "      <th></th>\n",
       "      <th>Year</th>\n",
       "      <th>Datetime</th>\n",
       "      <th>Stage</th>\n",
       "      <th>Stadium</th>\n",
       "      <th>City</th>\n",
       "      <th>Home Team Name</th>\n",
       "      <th>Home Team Goals</th>\n",
       "      <th>Away Team Goals</th>\n",
       "      <th>Away Team Name</th>\n",
       "      <th>Win conditions</th>\n",
       "      <th>Attendance</th>\n",
       "      <th>Half-time Home Goals</th>\n",
       "      <th>Half-time Away Goals</th>\n",
       "      <th>Referee</th>\n",
       "      <th>Assistant 1</th>\n",
       "      <th>Assistant 2</th>\n",
       "      <th>RoundID</th>\n",
       "      <th>MatchID</th>\n",
       "      <th>Home Team Initials</th>\n",
       "      <th>Away Team Initials</th>\n",
       "    </tr>\n",
       "  </thead>\n",
       "  <tbody>\n",
       "    <tr>\n",
       "      <th>0</th>\n",
       "      <td>1930</td>\n",
       "      <td>13 Jul 1930 - 15:00</td>\n",
       "      <td>Group 1</td>\n",
       "      <td>Pocitos</td>\n",
       "      <td>Montevideo</td>\n",
       "      <td>France</td>\n",
       "      <td>4</td>\n",
       "      <td>1</td>\n",
       "      <td>Mexico</td>\n",
       "      <td></td>\n",
       "      <td>4444.0</td>\n",
       "      <td>3</td>\n",
       "      <td>0</td>\n",
       "      <td>LOMBARDI Domingo (URU)</td>\n",
       "      <td>CRISTOPHE Henry (BEL)</td>\n",
       "      <td>REGO Gilberto (BRA)</td>\n",
       "      <td>201</td>\n",
       "      <td>1096</td>\n",
       "      <td>FRA</td>\n",
       "      <td>MEX</td>\n",
       "    </tr>\n",
       "    <tr>\n",
       "      <th>1</th>\n",
       "      <td>1930</td>\n",
       "      <td>13 Jul 1930 - 15:00</td>\n",
       "      <td>Group 4</td>\n",
       "      <td>Parque Central</td>\n",
       "      <td>Montevideo</td>\n",
       "      <td>USA</td>\n",
       "      <td>3</td>\n",
       "      <td>0</td>\n",
       "      <td>Belgium</td>\n",
       "      <td></td>\n",
       "      <td>18346.0</td>\n",
       "      <td>2</td>\n",
       "      <td>0</td>\n",
       "      <td>MACIAS Jose (ARG)</td>\n",
       "      <td>MATEUCCI Francisco (URU)</td>\n",
       "      <td>WARNKEN Alberto (CHI)</td>\n",
       "      <td>201</td>\n",
       "      <td>1090</td>\n",
       "      <td>USA</td>\n",
       "      <td>BEL</td>\n",
       "    </tr>\n",
       "    <tr>\n",
       "      <th>2</th>\n",
       "      <td>1930</td>\n",
       "      <td>14 Jul 1930 - 12:45</td>\n",
       "      <td>Group 2</td>\n",
       "      <td>Parque Central</td>\n",
       "      <td>Montevideo</td>\n",
       "      <td>Yugoslavia</td>\n",
       "      <td>2</td>\n",
       "      <td>1</td>\n",
       "      <td>Brazil</td>\n",
       "      <td></td>\n",
       "      <td>24059.0</td>\n",
       "      <td>2</td>\n",
       "      <td>0</td>\n",
       "      <td>TEJADA Anibal (URU)</td>\n",
       "      <td>VALLARINO Ricardo (URU)</td>\n",
       "      <td>BALWAY Thomas (FRA)</td>\n",
       "      <td>201</td>\n",
       "      <td>1093</td>\n",
       "      <td>YUG</td>\n",
       "      <td>BRA</td>\n",
       "    </tr>\n",
       "    <tr>\n",
       "      <th>3</th>\n",
       "      <td>1930</td>\n",
       "      <td>14 Jul 1930 - 14:50</td>\n",
       "      <td>Group 3</td>\n",
       "      <td>Pocitos</td>\n",
       "      <td>Montevideo</td>\n",
       "      <td>Romania</td>\n",
       "      <td>3</td>\n",
       "      <td>1</td>\n",
       "      <td>Peru</td>\n",
       "      <td></td>\n",
       "      <td>2549.0</td>\n",
       "      <td>1</td>\n",
       "      <td>0</td>\n",
       "      <td>WARNKEN Alberto (CHI)</td>\n",
       "      <td>LANGENUS Jean (BEL)</td>\n",
       "      <td>MATEUCCI Francisco (URU)</td>\n",
       "      <td>201</td>\n",
       "      <td>1098</td>\n",
       "      <td>ROU</td>\n",
       "      <td>PER</td>\n",
       "    </tr>\n",
       "    <tr>\n",
       "      <th>4</th>\n",
       "      <td>1930</td>\n",
       "      <td>15 Jul 1930 - 16:00</td>\n",
       "      <td>Group 1</td>\n",
       "      <td>Parque Central</td>\n",
       "      <td>Montevideo</td>\n",
       "      <td>Argentina</td>\n",
       "      <td>1</td>\n",
       "      <td>0</td>\n",
       "      <td>France</td>\n",
       "      <td></td>\n",
       "      <td>23409.0</td>\n",
       "      <td>0</td>\n",
       "      <td>0</td>\n",
       "      <td>REGO Gilberto (BRA)</td>\n",
       "      <td>SAUCEDO Ulises (BOL)</td>\n",
       "      <td>RADULESCU Constantin (ROU)</td>\n",
       "      <td>201</td>\n",
       "      <td>1085</td>\n",
       "      <td>ARG</td>\n",
       "      <td>FRA</td>\n",
       "    </tr>\n",
       "    <tr>\n",
       "      <th>5</th>\n",
       "      <td>1930</td>\n",
       "      <td>16 Jul 1930 - 14:45</td>\n",
       "      <td>Group 1</td>\n",
       "      <td>Parque Central</td>\n",
       "      <td>Montevideo</td>\n",
       "      <td>Chile</td>\n",
       "      <td>3</td>\n",
       "      <td>0</td>\n",
       "      <td>Mexico</td>\n",
       "      <td></td>\n",
       "      <td>9249.0</td>\n",
       "      <td>1</td>\n",
       "      <td>0</td>\n",
       "      <td>CRISTOPHE Henry (BEL)</td>\n",
       "      <td>APHESTEGUY Martin (URU)</td>\n",
       "      <td>LANGENUS Jean (BEL)</td>\n",
       "      <td>201</td>\n",
       "      <td>1095</td>\n",
       "      <td>CHI</td>\n",
       "      <td>MEX</td>\n",
       "    </tr>\n",
       "    <tr>\n",
       "      <th>6</th>\n",
       "      <td>1930</td>\n",
       "      <td>17 Jul 1930 - 12:45</td>\n",
       "      <td>Group 2</td>\n",
       "      <td>Parque Central</td>\n",
       "      <td>Montevideo</td>\n",
       "      <td>Yugoslavia</td>\n",
       "      <td>4</td>\n",
       "      <td>0</td>\n",
       "      <td>Bolivia</td>\n",
       "      <td></td>\n",
       "      <td>18306.0</td>\n",
       "      <td>0</td>\n",
       "      <td>0</td>\n",
       "      <td>MATEUCCI Francisco (URU)</td>\n",
       "      <td>LOMBARDI Domingo (URU)</td>\n",
       "      <td>WARNKEN Alberto (CHI)</td>\n",
       "      <td>201</td>\n",
       "      <td>1092</td>\n",
       "      <td>YUG</td>\n",
       "      <td>BOL</td>\n",
       "    </tr>\n",
       "    <tr>\n",
       "      <th>7</th>\n",
       "      <td>1930</td>\n",
       "      <td>17 Jul 1930 - 14:45</td>\n",
       "      <td>Group 4</td>\n",
       "      <td>Parque Central</td>\n",
       "      <td>Montevideo</td>\n",
       "      <td>USA</td>\n",
       "      <td>3</td>\n",
       "      <td>0</td>\n",
       "      <td>Paraguay</td>\n",
       "      <td></td>\n",
       "      <td>18306.0</td>\n",
       "      <td>2</td>\n",
       "      <td>0</td>\n",
       "      <td>MACIAS Jose (ARG)</td>\n",
       "      <td>APHESTEGUY Martin (URU)</td>\n",
       "      <td>TEJADA Anibal (URU)</td>\n",
       "      <td>201</td>\n",
       "      <td>1097</td>\n",
       "      <td>USA</td>\n",
       "      <td>PAR</td>\n",
       "    </tr>\n",
       "    <tr>\n",
       "      <th>8</th>\n",
       "      <td>1930</td>\n",
       "      <td>18 Jul 1930 - 14:30</td>\n",
       "      <td>Group 3</td>\n",
       "      <td>Estadio Centenario</td>\n",
       "      <td>Montevideo</td>\n",
       "      <td>Uruguay</td>\n",
       "      <td>1</td>\n",
       "      <td>0</td>\n",
       "      <td>Peru</td>\n",
       "      <td></td>\n",
       "      <td>57735.0</td>\n",
       "      <td>0</td>\n",
       "      <td>0</td>\n",
       "      <td>LANGENUS Jean (BEL)</td>\n",
       "      <td>BALWAY Thomas (FRA)</td>\n",
       "      <td>CRISTOPHE Henry (BEL)</td>\n",
       "      <td>201</td>\n",
       "      <td>1099</td>\n",
       "      <td>URU</td>\n",
       "      <td>PER</td>\n",
       "    </tr>\n",
       "    <tr>\n",
       "      <th>9</th>\n",
       "      <td>1930</td>\n",
       "      <td>19 Jul 1930 - 12:50</td>\n",
       "      <td>Group 1</td>\n",
       "      <td>Estadio Centenario</td>\n",
       "      <td>Montevideo</td>\n",
       "      <td>Chile</td>\n",
       "      <td>1</td>\n",
       "      <td>0</td>\n",
       "      <td>France</td>\n",
       "      <td></td>\n",
       "      <td>2000.0</td>\n",
       "      <td>0</td>\n",
       "      <td>0</td>\n",
       "      <td>TEJADA Anibal (URU)</td>\n",
       "      <td>LOMBARDI Domingo (URU)</td>\n",
       "      <td>REGO Gilberto (BRA)</td>\n",
       "      <td>201</td>\n",
       "      <td>1094</td>\n",
       "      <td>CHI</td>\n",
       "      <td>FRA</td>\n",
       "    </tr>\n",
       "    <tr>\n",
       "      <th>10</th>\n",
       "      <td>1930</td>\n",
       "      <td>19 Jul 1930 - 15:00</td>\n",
       "      <td>Group 1</td>\n",
       "      <td>Estadio Centenario</td>\n",
       "      <td>Montevideo</td>\n",
       "      <td>Argentina</td>\n",
       "      <td>6</td>\n",
       "      <td>3</td>\n",
       "      <td>Mexico</td>\n",
       "      <td></td>\n",
       "      <td>42100.0</td>\n",
       "      <td>3</td>\n",
       "      <td>1</td>\n",
       "      <td>SAUCEDO Ulises (BOL)</td>\n",
       "      <td>ALONSO Gualberto (URU)</td>\n",
       "      <td>RADULESCU Constantin (ROU)</td>\n",
       "      <td>201</td>\n",
       "      <td>1086</td>\n",
       "      <td>ARG</td>\n",
       "      <td>MEX</td>\n",
       "    </tr>\n",
       "    <tr>\n",
       "      <th>11</th>\n",
       "      <td>1930</td>\n",
       "      <td>20 Jul 1930 - 13:00</td>\n",
       "      <td>Group 2</td>\n",
       "      <td>Estadio Centenario</td>\n",
       "      <td>Montevideo</td>\n",
       "      <td>Brazil</td>\n",
       "      <td>4</td>\n",
       "      <td>0</td>\n",
       "      <td>Bolivia</td>\n",
       "      <td></td>\n",
       "      <td>25466.0</td>\n",
       "      <td>1</td>\n",
       "      <td>0</td>\n",
       "      <td>BALWAY Thomas (FRA)</td>\n",
       "      <td>MATEUCCI Francisco (URU)</td>\n",
       "      <td>VALLEJO Gaspar (MEX)</td>\n",
       "      <td>201</td>\n",
       "      <td>1091</td>\n",
       "      <td>BRA</td>\n",
       "      <td>BOL</td>\n",
       "    </tr>\n",
       "    <tr>\n",
       "      <th>12</th>\n",
       "      <td>1930</td>\n",
       "      <td>20 Jul 1930 - 15:00</td>\n",
       "      <td>Group 4</td>\n",
       "      <td>Estadio Centenario</td>\n",
       "      <td>Montevideo</td>\n",
       "      <td>Paraguay</td>\n",
       "      <td>1</td>\n",
       "      <td>0</td>\n",
       "      <td>Belgium</td>\n",
       "      <td></td>\n",
       "      <td>12000.0</td>\n",
       "      <td>1</td>\n",
       "      <td>0</td>\n",
       "      <td>VALLARINO Ricardo (URU)</td>\n",
       "      <td>MACIAS Jose (ARG)</td>\n",
       "      <td>LOMBARDI Domingo (URU)</td>\n",
       "      <td>201</td>\n",
       "      <td>1089</td>\n",
       "      <td>PAR</td>\n",
       "      <td>BEL</td>\n",
       "    </tr>\n",
       "    <tr>\n",
       "      <th>13</th>\n",
       "      <td>1930</td>\n",
       "      <td>21 Jul 1930 - 14:50</td>\n",
       "      <td>Group 3</td>\n",
       "      <td>Estadio Centenario</td>\n",
       "      <td>Montevideo</td>\n",
       "      <td>Uruguay</td>\n",
       "      <td>4</td>\n",
       "      <td>0</td>\n",
       "      <td>Romania</td>\n",
       "      <td></td>\n",
       "      <td>70022.0</td>\n",
       "      <td>4</td>\n",
       "      <td>0</td>\n",
       "      <td>REGO Gilberto (BRA)</td>\n",
       "      <td>WARNKEN Alberto (CHI)</td>\n",
       "      <td>SAUCEDO Ulises (BOL)</td>\n",
       "      <td>201</td>\n",
       "      <td>1100</td>\n",
       "      <td>URU</td>\n",
       "      <td>ROU</td>\n",
       "    </tr>\n",
       "    <tr>\n",
       "      <th>14</th>\n",
       "      <td>1930</td>\n",
       "      <td>22 Jul 1930 - 14:45</td>\n",
       "      <td>Group 1</td>\n",
       "      <td>Estadio Centenario</td>\n",
       "      <td>Montevideo</td>\n",
       "      <td>Argentina</td>\n",
       "      <td>3</td>\n",
       "      <td>1</td>\n",
       "      <td>Chile</td>\n",
       "      <td></td>\n",
       "      <td>41459.0</td>\n",
       "      <td>2</td>\n",
       "      <td>1</td>\n",
       "      <td>LANGENUS Jean (BEL)</td>\n",
       "      <td>CRISTOPHE Henry (BEL)</td>\n",
       "      <td>SAUCEDO Ulises (BOL)</td>\n",
       "      <td>201</td>\n",
       "      <td>1084</td>\n",
       "      <td>ARG</td>\n",
       "      <td>CHI</td>\n",
       "    </tr>\n",
       "    <tr>\n",
       "      <th>15</th>\n",
       "      <td>1930</td>\n",
       "      <td>26 Jul 1930 - 14:45</td>\n",
       "      <td>Semi-finals</td>\n",
       "      <td>Estadio Centenario</td>\n",
       "      <td>Montevideo</td>\n",
       "      <td>Argentina</td>\n",
       "      <td>6</td>\n",
       "      <td>1</td>\n",
       "      <td>USA</td>\n",
       "      <td></td>\n",
       "      <td>72886.0</td>\n",
       "      <td>1</td>\n",
       "      <td>0</td>\n",
       "      <td>LANGENUS Jean (BEL)</td>\n",
       "      <td>VALLEJO Gaspar (MEX)</td>\n",
       "      <td>WARNKEN Alberto (CHI)</td>\n",
       "      <td>202</td>\n",
       "      <td>1088</td>\n",
       "      <td>ARG</td>\n",
       "      <td>USA</td>\n",
       "    </tr>\n",
       "    <tr>\n",
       "      <th>16</th>\n",
       "      <td>1930</td>\n",
       "      <td>27 Jul 1930 - 14:45</td>\n",
       "      <td>Semi-finals</td>\n",
       "      <td>Estadio Centenario</td>\n",
       "      <td>Montevideo</td>\n",
       "      <td>Uruguay</td>\n",
       "      <td>6</td>\n",
       "      <td>1</td>\n",
       "      <td>Yugoslavia</td>\n",
       "      <td></td>\n",
       "      <td>79867.0</td>\n",
       "      <td>3</td>\n",
       "      <td>1</td>\n",
       "      <td>REGO Gilberto (BRA)</td>\n",
       "      <td>SAUCEDO Ulises (BOL)</td>\n",
       "      <td>BALWAY Thomas (FRA)</td>\n",
       "      <td>202</td>\n",
       "      <td>1101</td>\n",
       "      <td>URU</td>\n",
       "      <td>YUG</td>\n",
       "    </tr>\n",
       "    <tr>\n",
       "      <th>17</th>\n",
       "      <td>1930</td>\n",
       "      <td>30 Jul 1930 - 14:15</td>\n",
       "      <td>Final</td>\n",
       "      <td>Estadio Centenario</td>\n",
       "      <td>Montevideo</td>\n",
       "      <td>Uruguay</td>\n",
       "      <td>4</td>\n",
       "      <td>2</td>\n",
       "      <td>Argentina</td>\n",
       "      <td></td>\n",
       "      <td>68346.0</td>\n",
       "      <td>1</td>\n",
       "      <td>2</td>\n",
       "      <td>LANGENUS Jean (BEL)</td>\n",
       "      <td>SAUCEDO Ulises (BOL)</td>\n",
       "      <td>CRISTOPHE Henry (BEL)</td>\n",
       "      <td>405</td>\n",
       "      <td>1087</td>\n",
       "      <td>URU</td>\n",
       "      <td>ARG</td>\n",
       "    </tr>\n",
       "    <tr>\n",
       "      <th>18</th>\n",
       "      <td>1934</td>\n",
       "      <td>27 May 1934 - 16:30</td>\n",
       "      <td>Preliminary round</td>\n",
       "      <td>Stadio Benito Mussolini</td>\n",
       "      <td>Turin</td>\n",
       "      <td>Austria</td>\n",
       "      <td>3</td>\n",
       "      <td>2</td>\n",
       "      <td>France</td>\n",
       "      <td>Austria win after extra time</td>\n",
       "      <td>16000.0</td>\n",
       "      <td>0</td>\n",
       "      <td>0</td>\n",
       "      <td>VAN MOORSEL Johannes (NED)</td>\n",
       "      <td>CAIRONI Camillo (ITA)</td>\n",
       "      <td>BAERT Louis (BEL)</td>\n",
       "      <td>204</td>\n",
       "      <td>1104</td>\n",
       "      <td>AUT</td>\n",
       "      <td>FRA</td>\n",
       "    </tr>\n",
       "    <tr>\n",
       "      <th>19</th>\n",
       "      <td>1934</td>\n",
       "      <td>27 May 1934 - 16:30</td>\n",
       "      <td>Preliminary round</td>\n",
       "      <td>Giorgio Ascarelli</td>\n",
       "      <td>Naples</td>\n",
       "      <td>Hungary</td>\n",
       "      <td>4</td>\n",
       "      <td>2</td>\n",
       "      <td>Egypt</td>\n",
       "      <td></td>\n",
       "      <td>9000.0</td>\n",
       "      <td>2</td>\n",
       "      <td>2</td>\n",
       "      <td>BARLASSINA Rinaldo (ITA)</td>\n",
       "      <td>DATTILO Generoso (ITA)</td>\n",
       "      <td>SASSI Otello (ITA)</td>\n",
       "      <td>204</td>\n",
       "      <td>1119</td>\n",
       "      <td>HUN</td>\n",
       "      <td>EGY</td>\n",
       "    </tr>\n",
       "  </tbody>\n",
       "</table>\n",
       "</div>"
      ],
      "text/plain": [
       "    Year              Datetime              Stage                  Stadium  \\\n",
       "0   1930  13 Jul 1930 - 15:00             Group 1                  Pocitos   \n",
       "1   1930  13 Jul 1930 - 15:00             Group 4           Parque Central   \n",
       "2   1930  14 Jul 1930 - 12:45             Group 2           Parque Central   \n",
       "3   1930  14 Jul 1930 - 14:50             Group 3                  Pocitos   \n",
       "4   1930  15 Jul 1930 - 16:00             Group 1           Parque Central   \n",
       "5   1930  16 Jul 1930 - 14:45             Group 1           Parque Central   \n",
       "6   1930  17 Jul 1930 - 12:45             Group 2           Parque Central   \n",
       "7   1930  17 Jul 1930 - 14:45             Group 4           Parque Central   \n",
       "8   1930  18 Jul 1930 - 14:30             Group 3       Estadio Centenario   \n",
       "9   1930  19 Jul 1930 - 12:50             Group 1       Estadio Centenario   \n",
       "10  1930  19 Jul 1930 - 15:00             Group 1       Estadio Centenario   \n",
       "11  1930  20 Jul 1930 - 13:00             Group 2       Estadio Centenario   \n",
       "12  1930  20 Jul 1930 - 15:00             Group 4       Estadio Centenario   \n",
       "13  1930  21 Jul 1930 - 14:50             Group 3       Estadio Centenario   \n",
       "14  1930  22 Jul 1930 - 14:45             Group 1       Estadio Centenario   \n",
       "15  1930  26 Jul 1930 - 14:45         Semi-finals       Estadio Centenario   \n",
       "16  1930  27 Jul 1930 - 14:45         Semi-finals       Estadio Centenario   \n",
       "17  1930  30 Jul 1930 - 14:15               Final       Estadio Centenario   \n",
       "18  1934  27 May 1934 - 16:30   Preliminary round  Stadio Benito Mussolini   \n",
       "19  1934  27 May 1934 - 16:30   Preliminary round        Giorgio Ascarelli   \n",
       "\n",
       "           City Home Team Name  Home Team Goals  Away Team Goals  \\\n",
       "0   Montevideo          France                4                1   \n",
       "1   Montevideo             USA                3                0   \n",
       "2   Montevideo      Yugoslavia                2                1   \n",
       "3   Montevideo         Romania                3                1   \n",
       "4   Montevideo       Argentina                1                0   \n",
       "5   Montevideo           Chile                3                0   \n",
       "6   Montevideo      Yugoslavia                4                0   \n",
       "7   Montevideo             USA                3                0   \n",
       "8   Montevideo         Uruguay                1                0   \n",
       "9   Montevideo           Chile                1                0   \n",
       "10  Montevideo       Argentina                6                3   \n",
       "11  Montevideo          Brazil                4                0   \n",
       "12  Montevideo        Paraguay                1                0   \n",
       "13  Montevideo         Uruguay                4                0   \n",
       "14  Montevideo       Argentina                3                1   \n",
       "15  Montevideo       Argentina                6                1   \n",
       "16  Montevideo         Uruguay                6                1   \n",
       "17  Montevideo         Uruguay                4                2   \n",
       "18       Turin         Austria                3                2   \n",
       "19      Naples         Hungary                4                2   \n",
       "\n",
       "   Away Team Name                 Win conditions  Attendance  \\\n",
       "0          Mexico                                     4444.0   \n",
       "1         Belgium                                    18346.0   \n",
       "2          Brazil                                    24059.0   \n",
       "3            Peru                                     2549.0   \n",
       "4          France                                    23409.0   \n",
       "5          Mexico                                     9249.0   \n",
       "6         Bolivia                                    18306.0   \n",
       "7        Paraguay                                    18306.0   \n",
       "8            Peru                                    57735.0   \n",
       "9          France                                     2000.0   \n",
       "10         Mexico                                    42100.0   \n",
       "11        Bolivia                                    25466.0   \n",
       "12        Belgium                                    12000.0   \n",
       "13        Romania                                    70022.0   \n",
       "14          Chile                                    41459.0   \n",
       "15            USA                                    72886.0   \n",
       "16     Yugoslavia                                    79867.0   \n",
       "17      Argentina                                    68346.0   \n",
       "18         France  Austria win after extra time      16000.0   \n",
       "19          Egypt                                     9000.0   \n",
       "\n",
       "    Half-time Home Goals  Half-time Away Goals                     Referee  \\\n",
       "0                      3                     0      LOMBARDI Domingo (URU)   \n",
       "1                      2                     0           MACIAS Jose (ARG)   \n",
       "2                      2                     0         TEJADA Anibal (URU)   \n",
       "3                      1                     0       WARNKEN Alberto (CHI)   \n",
       "4                      0                     0         REGO Gilberto (BRA)   \n",
       "5                      1                     0       CRISTOPHE Henry (BEL)   \n",
       "6                      0                     0    MATEUCCI Francisco (URU)   \n",
       "7                      2                     0           MACIAS Jose (ARG)   \n",
       "8                      0                     0         LANGENUS Jean (BEL)   \n",
       "9                      0                     0         TEJADA Anibal (URU)   \n",
       "10                     3                     1        SAUCEDO Ulises (BOL)   \n",
       "11                     1                     0         BALWAY Thomas (FRA)   \n",
       "12                     1                     0     VALLARINO Ricardo (URU)   \n",
       "13                     4                     0         REGO Gilberto (BRA)   \n",
       "14                     2                     1         LANGENUS Jean (BEL)   \n",
       "15                     1                     0         LANGENUS Jean (BEL)   \n",
       "16                     3                     1         REGO Gilberto (BRA)   \n",
       "17                     1                     2         LANGENUS Jean (BEL)   \n",
       "18                     0                     0  VAN MOORSEL Johannes (NED)   \n",
       "19                     2                     2    BARLASSINA Rinaldo (ITA)   \n",
       "\n",
       "                 Assistant 1                 Assistant 2  RoundID  MatchID  \\\n",
       "0      CRISTOPHE Henry (BEL)         REGO Gilberto (BRA)      201     1096   \n",
       "1   MATEUCCI Francisco (URU)       WARNKEN Alberto (CHI)      201     1090   \n",
       "2    VALLARINO Ricardo (URU)         BALWAY Thomas (FRA)      201     1093   \n",
       "3        LANGENUS Jean (BEL)    MATEUCCI Francisco (URU)      201     1098   \n",
       "4       SAUCEDO Ulises (BOL)  RADULESCU Constantin (ROU)      201     1085   \n",
       "5    APHESTEGUY Martin (URU)         LANGENUS Jean (BEL)      201     1095   \n",
       "6     LOMBARDI Domingo (URU)       WARNKEN Alberto (CHI)      201     1092   \n",
       "7    APHESTEGUY Martin (URU)         TEJADA Anibal (URU)      201     1097   \n",
       "8        BALWAY Thomas (FRA)       CRISTOPHE Henry (BEL)      201     1099   \n",
       "9     LOMBARDI Domingo (URU)         REGO Gilberto (BRA)      201     1094   \n",
       "10    ALONSO Gualberto (URU)  RADULESCU Constantin (ROU)      201     1086   \n",
       "11  MATEUCCI Francisco (URU)        VALLEJO Gaspar (MEX)      201     1091   \n",
       "12         MACIAS Jose (ARG)      LOMBARDI Domingo (URU)      201     1089   \n",
       "13     WARNKEN Alberto (CHI)        SAUCEDO Ulises (BOL)      201     1100   \n",
       "14     CRISTOPHE Henry (BEL)        SAUCEDO Ulises (BOL)      201     1084   \n",
       "15      VALLEJO Gaspar (MEX)       WARNKEN Alberto (CHI)      202     1088   \n",
       "16      SAUCEDO Ulises (BOL)         BALWAY Thomas (FRA)      202     1101   \n",
       "17      SAUCEDO Ulises (BOL)       CRISTOPHE Henry (BEL)      405     1087   \n",
       "18     CAIRONI Camillo (ITA)           BAERT Louis (BEL)      204     1104   \n",
       "19    DATTILO Generoso (ITA)          SASSI Otello (ITA)      204     1119   \n",
       "\n",
       "   Home Team Initials Away Team Initials  \n",
       "0                 FRA                MEX  \n",
       "1                 USA                BEL  \n",
       "2                 YUG                BRA  \n",
       "3                 ROU                PER  \n",
       "4                 ARG                FRA  \n",
       "5                 CHI                MEX  \n",
       "6                 YUG                BOL  \n",
       "7                 USA                PAR  \n",
       "8                 URU                PER  \n",
       "9                 CHI                FRA  \n",
       "10                ARG                MEX  \n",
       "11                BRA                BOL  \n",
       "12                PAR                BEL  \n",
       "13                URU                ROU  \n",
       "14                ARG                CHI  \n",
       "15                ARG                USA  \n",
       "16                URU                YUG  \n",
       "17                URU                ARG  \n",
       "18                AUT                FRA  \n",
       "19                HUN                EGY  "
      ]
     },
     "execution_count": 22,
     "metadata": {},
     "output_type": "execute_result"
    }
   ],
   "source": [
    "import pandas as pd\n",
    "df=pd.read_csv(\"WorldCupMatches.csv\")\n",
    "df.head(20)"
   ]
  },
  {
   "cell_type": "code",
   "execution_count": 6,
   "id": "eaa6bff2-e7a0-438c-9589-e742a5b65fff",
   "metadata": {},
   "outputs": [
    {
     "data": {
      "text/html": [
       "<div>\n",
       "<style scoped>\n",
       "    .dataframe tbody tr th:only-of-type {\n",
       "        vertical-align: middle;\n",
       "    }\n",
       "\n",
       "    .dataframe tbody tr th {\n",
       "        vertical-align: top;\n",
       "    }\n",
       "\n",
       "    .dataframe thead th {\n",
       "        text-align: right;\n",
       "    }\n",
       "</style>\n",
       "<table border=\"1\" class=\"dataframe\">\n",
       "  <thead>\n",
       "    <tr style=\"text-align: right;\">\n",
       "      <th></th>\n",
       "      <th>Year</th>\n",
       "      <th>Datetime</th>\n",
       "      <th>Stage</th>\n",
       "      <th>Stadium</th>\n",
       "      <th>City</th>\n",
       "      <th>Home Team Name</th>\n",
       "      <th>Home Team Goals</th>\n",
       "      <th>Away Team Goals</th>\n",
       "      <th>Away Team Name</th>\n",
       "      <th>Win conditions</th>\n",
       "      <th>Attendance</th>\n",
       "      <th>Half-time Home Goals</th>\n",
       "      <th>Half-time Away Goals</th>\n",
       "      <th>Referee</th>\n",
       "      <th>Assistant 1</th>\n",
       "      <th>Assistant 2</th>\n",
       "      <th>RoundID</th>\n",
       "      <th>MatchID</th>\n",
       "      <th>Home Team Initials</th>\n",
       "      <th>Away Team Initials</th>\n",
       "    </tr>\n",
       "  </thead>\n",
       "  <tbody>\n",
       "    <tr>\n",
       "      <th>849</th>\n",
       "      <td>2014</td>\n",
       "      <td>09 Jul 2014 - 17:00</td>\n",
       "      <td>Semi-finals</td>\n",
       "      <td>Arena de Sao Paulo</td>\n",
       "      <td>Sao Paulo</td>\n",
       "      <td>Netherlands</td>\n",
       "      <td>0</td>\n",
       "      <td>0</td>\n",
       "      <td>Argentina</td>\n",
       "      <td>Argentina win on penalties (2 - 4)</td>\n",
       "      <td>63267.0</td>\n",
       "      <td>0</td>\n",
       "      <td>0</td>\n",
       "      <td>C�neyt �AKIR (TUR)</td>\n",
       "      <td>DURAN Bahattin (TUR)</td>\n",
       "      <td>ONGUN Tarik (TUR)</td>\n",
       "      <td>255955</td>\n",
       "      <td>300186490</td>\n",
       "      <td>NED</td>\n",
       "      <td>ARG</td>\n",
       "    </tr>\n",
       "    <tr>\n",
       "      <th>850</th>\n",
       "      <td>2014</td>\n",
       "      <td>12 Jul 2014 - 17:00</td>\n",
       "      <td>Play-off for third place</td>\n",
       "      <td>Estadio Nacional</td>\n",
       "      <td>Brasilia</td>\n",
       "      <td>Brazil</td>\n",
       "      <td>0</td>\n",
       "      <td>3</td>\n",
       "      <td>Netherlands</td>\n",
       "      <td></td>\n",
       "      <td>68034.0</td>\n",
       "      <td>0</td>\n",
       "      <td>2</td>\n",
       "      <td>HAIMOUDI Djamel (ALG)</td>\n",
       "      <td>ACHIK Redouane (MAR)</td>\n",
       "      <td>ETCHIALI Abdelhak (ALG)</td>\n",
       "      <td>255957</td>\n",
       "      <td>300186502</td>\n",
       "      <td>BRA</td>\n",
       "      <td>NED</td>\n",
       "    </tr>\n",
       "    <tr>\n",
       "      <th>851</th>\n",
       "      <td>2014</td>\n",
       "      <td>13 Jul 2014 - 16:00</td>\n",
       "      <td>Final</td>\n",
       "      <td>Estadio do Maracana</td>\n",
       "      <td>Rio De Janeiro</td>\n",
       "      <td>Germany</td>\n",
       "      <td>1</td>\n",
       "      <td>0</td>\n",
       "      <td>Argentina</td>\n",
       "      <td>Germany win after extra time</td>\n",
       "      <td>74738.0</td>\n",
       "      <td>0</td>\n",
       "      <td>0</td>\n",
       "      <td>Nicola RIZZOLI (ITA)</td>\n",
       "      <td>Renato FAVERANI (ITA)</td>\n",
       "      <td>Andrea STEFANI (ITA)</td>\n",
       "      <td>255959</td>\n",
       "      <td>300186501</td>\n",
       "      <td>GER</td>\n",
       "      <td>ARG</td>\n",
       "    </tr>\n",
       "  </tbody>\n",
       "</table>\n",
       "</div>"
      ],
      "text/plain": [
       "     Year              Datetime                     Stage  \\\n",
       "849  2014  09 Jul 2014 - 17:00                Semi-finals   \n",
       "850  2014  12 Jul 2014 - 17:00   Play-off for third place   \n",
       "851  2014  13 Jul 2014 - 16:00                      Final   \n",
       "\n",
       "                 Stadium             City Home Team Name  Home Team Goals  \\\n",
       "849   Arena de Sao Paulo       Sao Paulo     Netherlands                0   \n",
       "850     Estadio Nacional        Brasilia          Brazil                0   \n",
       "851  Estadio do Maracana  Rio De Janeiro         Germany                1   \n",
       "\n",
       "     Away Team Goals Away Team Name                       Win conditions  \\\n",
       "849                0      Argentina  Argentina win on penalties (2 - 4)    \n",
       "850                3    Netherlands                                        \n",
       "851                0      Argentina        Germany win after extra time    \n",
       "\n",
       "     Attendance  Half-time Home Goals  Half-time Away Goals  \\\n",
       "849     63267.0                     0                     0   \n",
       "850     68034.0                     0                     2   \n",
       "851     74738.0                     0                     0   \n",
       "\n",
       "                   Referee            Assistant 1              Assistant 2  \\\n",
       "849     C�neyt �AKIR (TUR)   DURAN Bahattin (TUR)        ONGUN Tarik (TUR)   \n",
       "850  HAIMOUDI Djamel (ALG)   ACHIK Redouane (MAR)  ETCHIALI Abdelhak (ALG)   \n",
       "851   Nicola RIZZOLI (ITA)  Renato FAVERANI (ITA)     Andrea STEFANI (ITA)   \n",
       "\n",
       "     RoundID    MatchID Home Team Initials Away Team Initials  \n",
       "849   255955  300186490                NED                ARG  \n",
       "850   255957  300186502                BRA                NED  \n",
       "851   255959  300186501                GER                ARG  "
      ]
     },
     "execution_count": 6,
     "metadata": {},
     "output_type": "execute_result"
    }
   ],
   "source": [
    "import pandas as pd\n",
    "df=pd.read_csv(\"WorldCupMatches.csv\")\n",
    "df.tail(3)"
   ]
  },
  {
   "cell_type": "code",
   "execution_count": 7,
   "id": "65c52dc5-c394-4d57-91f9-ab7d20292868",
   "metadata": {},
   "outputs": [
    {
     "name": "stdout",
     "output_type": "stream",
     "text": [
      "<class 'pandas.core.frame.DataFrame'>\n",
      "RangeIndex: 852 entries, 0 to 851\n",
      "Data columns (total 20 columns):\n",
      " #   Column                Non-Null Count  Dtype  \n",
      "---  ------                --------------  -----  \n",
      " 0   Year                  852 non-null    int64  \n",
      " 1   Datetime              852 non-null    object \n",
      " 2   Stage                 852 non-null    object \n",
      " 3   Stadium               852 non-null    object \n",
      " 4   City                  852 non-null    object \n",
      " 5   Home Team Name        852 non-null    object \n",
      " 6   Home Team Goals       852 non-null    int64  \n",
      " 7   Away Team Goals       852 non-null    int64  \n",
      " 8   Away Team Name        852 non-null    object \n",
      " 9   Win conditions        852 non-null    object \n",
      " 10  Attendance            850 non-null    float64\n",
      " 11  Half-time Home Goals  852 non-null    int64  \n",
      " 12  Half-time Away Goals  852 non-null    int64  \n",
      " 13  Referee               852 non-null    object \n",
      " 14  Assistant 1           852 non-null    object \n",
      " 15  Assistant 2           852 non-null    object \n",
      " 16  RoundID               852 non-null    int64  \n",
      " 17  MatchID               852 non-null    int64  \n",
      " 18  Home Team Initials    852 non-null    object \n",
      " 19  Away Team Initials    852 non-null    object \n",
      "dtypes: float64(1), int64(7), object(12)\n",
      "memory usage: 133.3+ KB\n"
     ]
    }
   ],
   "source": [
    "df.info()"
   ]
  },
  {
   "cell_type": "code",
   "execution_count": 8,
   "id": "fa39cf4f-bd47-43b2-bbf2-99f609b625eb",
   "metadata": {},
   "outputs": [
    {
     "data": {
      "text/plain": [
       "Index(['Year', 'Datetime', 'Stage', 'Stadium', 'City', 'Home Team Name',\n",
       "       'Home Team Goals', 'Away Team Goals', 'Away Team Name',\n",
       "       'Win conditions', 'Attendance', 'Half-time Home Goals',\n",
       "       'Half-time Away Goals', 'Referee', 'Assistant 1', 'Assistant 2',\n",
       "       'RoundID', 'MatchID', 'Home Team Initials', 'Away Team Initials'],\n",
       "      dtype='object')"
      ]
     },
     "execution_count": 8,
     "metadata": {},
     "output_type": "execute_result"
    }
   ],
   "source": [
    "df.columns"
   ]
  },
  {
   "cell_type": "code",
   "execution_count": 9,
   "id": "13fc31ce-100d-44fc-b585-077bfa04322a",
   "metadata": {},
   "outputs": [
    {
     "data": {
      "text/plain": [
       "RangeIndex(start=0, stop=852, step=1)"
      ]
     },
     "execution_count": 9,
     "metadata": {},
     "output_type": "execute_result"
    }
   ],
   "source": [
    "df.index"
   ]
  },
  {
   "cell_type": "code",
   "execution_count": 10,
   "id": "111b90dd-ad95-4a00-8f89-bfaaa5ef58b8",
   "metadata": {},
   "outputs": [
    {
     "data": {
      "text/plain": [
       "Year                      int64\n",
       "Datetime                 object\n",
       "Stage                    object\n",
       "Stadium                  object\n",
       "City                     object\n",
       "Home Team Name           object\n",
       "Home Team Goals           int64\n",
       "Away Team Goals           int64\n",
       "Away Team Name           object\n",
       "Win conditions           object\n",
       "Attendance              float64\n",
       "Half-time Home Goals      int64\n",
       "Half-time Away Goals      int64\n",
       "Referee                  object\n",
       "Assistant 1              object\n",
       "Assistant 2              object\n",
       "RoundID                   int64\n",
       "MatchID                   int64\n",
       "Home Team Initials       object\n",
       "Away Team Initials       object\n",
       "dtype: object"
      ]
     },
     "execution_count": 10,
     "metadata": {},
     "output_type": "execute_result"
    }
   ],
   "source": [
    "df.dtypes"
   ]
  },
  {
   "cell_type": "code",
   "execution_count": 11,
   "id": "9555ebaa-8fb4-4874-ba66-1715040369be",
   "metadata": {},
   "outputs": [
    {
     "data": {
      "text/plain": [
       "(852, 20)"
      ]
     },
     "execution_count": 11,
     "metadata": {},
     "output_type": "execute_result"
    }
   ],
   "source": [
    "df.shape"
   ]
  },
  {
   "cell_type": "code",
   "execution_count": 12,
   "id": "803557d8-4ffc-4ab8-ac61-d89cecc33f93",
   "metadata": {},
   "outputs": [
    {
     "data": {
      "text/plain": [
       "Year                                        1930\n",
       "Datetime                    17 Jul 1930 - 12:45 \n",
       "Stage                                    Group 2\n",
       "Stadium                           Parque Central\n",
       "City                                 Montevideo \n",
       "Home Team Name                        Yugoslavia\n",
       "Home Team Goals                                4\n",
       "Away Team Goals                                0\n",
       "Away Team Name                           Bolivia\n",
       "Win conditions                                  \n",
       "Attendance                               18306.0\n",
       "Half-time Home Goals                           0\n",
       "Half-time Away Goals                           0\n",
       "Referee                 MATEUCCI Francisco (URU)\n",
       "Assistant 1               LOMBARDI Domingo (URU)\n",
       "Assistant 2                WARNKEN Alberto (CHI)\n",
       "RoundID                                      201\n",
       "MatchID                                     1092\n",
       "Home Team Initials                           YUG\n",
       "Away Team Initials                           BOL\n",
       "Name: 6, dtype: object"
      ]
     },
     "execution_count": 12,
     "metadata": {},
     "output_type": "execute_result"
    }
   ],
   "source": [
    "df.iloc[6]"
   ]
  },
  {
   "cell_type": "code",
   "execution_count": 17,
   "id": "1fccbac0-6b22-4b86-8398-76b97e849bf0",
   "metadata": {},
   "outputs": [
    {
     "data": {
      "text/html": [
       "<div>\n",
       "<style scoped>\n",
       "    .dataframe tbody tr th:only-of-type {\n",
       "        vertical-align: middle;\n",
       "    }\n",
       "\n",
       "    .dataframe tbody tr th {\n",
       "        vertical-align: top;\n",
       "    }\n",
       "\n",
       "    .dataframe thead th {\n",
       "        text-align: right;\n",
       "    }\n",
       "</style>\n",
       "<table border=\"1\" class=\"dataframe\">\n",
       "  <thead>\n",
       "    <tr style=\"text-align: right;\">\n",
       "      <th></th>\n",
       "      <th>Home Team Goals</th>\n",
       "      <th>Away Team Goals</th>\n",
       "      <th>Away Team Name</th>\n",
       "    </tr>\n",
       "  </thead>\n",
       "  <tbody>\n",
       "    <tr>\n",
       "      <th>0</th>\n",
       "      <td>4</td>\n",
       "      <td>1</td>\n",
       "      <td>Mexico</td>\n",
       "    </tr>\n",
       "    <tr>\n",
       "      <th>1</th>\n",
       "      <td>3</td>\n",
       "      <td>0</td>\n",
       "      <td>Belgium</td>\n",
       "    </tr>\n",
       "    <tr>\n",
       "      <th>2</th>\n",
       "      <td>2</td>\n",
       "      <td>1</td>\n",
       "      <td>Brazil</td>\n",
       "    </tr>\n",
       "    <tr>\n",
       "      <th>3</th>\n",
       "      <td>3</td>\n",
       "      <td>1</td>\n",
       "      <td>Peru</td>\n",
       "    </tr>\n",
       "    <tr>\n",
       "      <th>4</th>\n",
       "      <td>1</td>\n",
       "      <td>0</td>\n",
       "      <td>France</td>\n",
       "    </tr>\n",
       "    <tr>\n",
       "      <th>...</th>\n",
       "      <td>...</td>\n",
       "      <td>...</td>\n",
       "      <td>...</td>\n",
       "    </tr>\n",
       "    <tr>\n",
       "      <th>847</th>\n",
       "      <td>0</td>\n",
       "      <td>0</td>\n",
       "      <td>Costa Rica</td>\n",
       "    </tr>\n",
       "    <tr>\n",
       "      <th>848</th>\n",
       "      <td>1</td>\n",
       "      <td>7</td>\n",
       "      <td>Germany</td>\n",
       "    </tr>\n",
       "    <tr>\n",
       "      <th>849</th>\n",
       "      <td>0</td>\n",
       "      <td>0</td>\n",
       "      <td>Argentina</td>\n",
       "    </tr>\n",
       "    <tr>\n",
       "      <th>850</th>\n",
       "      <td>0</td>\n",
       "      <td>3</td>\n",
       "      <td>Netherlands</td>\n",
       "    </tr>\n",
       "    <tr>\n",
       "      <th>851</th>\n",
       "      <td>1</td>\n",
       "      <td>0</td>\n",
       "      <td>Argentina</td>\n",
       "    </tr>\n",
       "  </tbody>\n",
       "</table>\n",
       "<p>852 rows × 3 columns</p>\n",
       "</div>"
      ],
      "text/plain": [
       "     Home Team Goals  Away Team Goals Away Team Name\n",
       "0                  4                1         Mexico\n",
       "1                  3                0        Belgium\n",
       "2                  2                1         Brazil\n",
       "3                  3                1           Peru\n",
       "4                  1                0         France\n",
       "..               ...              ...            ...\n",
       "847                0                0     Costa Rica\n",
       "848                1                7        Germany\n",
       "849                0                0      Argentina\n",
       "850                0                3    Netherlands\n",
       "851                1                0      Argentina\n",
       "\n",
       "[852 rows x 3 columns]"
      ]
     },
     "execution_count": 17,
     "metadata": {},
     "output_type": "execute_result"
    }
   ],
   "source": [
    "df.iloc[:, 6:9]"
   ]
  },
  {
   "cell_type": "code",
   "execution_count": 19,
   "id": "13532ca2-23f2-4bd0-bfda-af15b79d962c",
   "metadata": {},
   "outputs": [
    {
     "data": {
      "text/plain": [
       "0           France\n",
       "1              USA\n",
       "2       Yugoslavia\n",
       "3          Romania\n",
       "4        Argentina\n",
       "          ...     \n",
       "847    Netherlands\n",
       "848         Brazil\n",
       "849    Netherlands\n",
       "850         Brazil\n",
       "851        Germany\n",
       "Name: Home Team Name, Length: 852, dtype: object"
      ]
     },
     "execution_count": 19,
     "metadata": {},
     "output_type": "execute_result"
    }
   ],
   "source": [
    "df.loc[:, 'Home Team Name']"
   ]
  },
  {
   "cell_type": "code",
   "execution_count": 20,
   "id": "3fe7b7a1-9031-4795-aecb-066b69087db3",
   "metadata": {},
   "outputs": [
    {
     "data": {
      "text/html": [
       "<div>\n",
       "<style scoped>\n",
       "    .dataframe tbody tr th:only-of-type {\n",
       "        vertical-align: middle;\n",
       "    }\n",
       "\n",
       "    .dataframe tbody tr th {\n",
       "        vertical-align: top;\n",
       "    }\n",
       "\n",
       "    .dataframe thead th {\n",
       "        text-align: right;\n",
       "    }\n",
       "</style>\n",
       "<table border=\"1\" class=\"dataframe\">\n",
       "  <thead>\n",
       "    <tr style=\"text-align: right;\">\n",
       "      <th></th>\n",
       "      <th>Home Team Name</th>\n",
       "      <th>Away Team Name</th>\n",
       "    </tr>\n",
       "  </thead>\n",
       "  <tbody>\n",
       "    <tr>\n",
       "      <th>4</th>\n",
       "      <td>Argentina</td>\n",
       "      <td>France</td>\n",
       "    </tr>\n",
       "    <tr>\n",
       "      <th>5</th>\n",
       "      <td>Chile</td>\n",
       "      <td>Mexico</td>\n",
       "    </tr>\n",
       "    <tr>\n",
       "      <th>6</th>\n",
       "      <td>Yugoslavia</td>\n",
       "      <td>Bolivia</td>\n",
       "    </tr>\n",
       "    <tr>\n",
       "      <th>7</th>\n",
       "      <td>USA</td>\n",
       "      <td>Paraguay</td>\n",
       "    </tr>\n",
       "    <tr>\n",
       "      <th>8</th>\n",
       "      <td>Uruguay</td>\n",
       "      <td>Peru</td>\n",
       "    </tr>\n",
       "  </tbody>\n",
       "</table>\n",
       "</div>"
      ],
      "text/plain": [
       "  Home Team Name Away Team Name\n",
       "4      Argentina         France\n",
       "5          Chile         Mexico\n",
       "6     Yugoslavia        Bolivia\n",
       "7            USA       Paraguay\n",
       "8        Uruguay           Peru"
      ]
     },
     "execution_count": 20,
     "metadata": {},
     "output_type": "execute_result"
    }
   ],
   "source": [
    "df.loc[4:8,['Home Team Name','Away Team Name']]"
   ]
  },
  {
   "cell_type": "code",
   "execution_count": 25,
   "id": "297621ed-3c91-4172-8797-91d6e6de0791",
   "metadata": {},
   "outputs": [
    {
     "data": {
      "text/html": [
       "<div>\n",
       "<style scoped>\n",
       "    .dataframe tbody tr th:only-of-type {\n",
       "        vertical-align: middle;\n",
       "    }\n",
       "\n",
       "    .dataframe tbody tr th {\n",
       "        vertical-align: top;\n",
       "    }\n",
       "\n",
       "    .dataframe thead th {\n",
       "        text-align: right;\n",
       "    }\n",
       "</style>\n",
       "<table border=\"1\" class=\"dataframe\">\n",
       "  <thead>\n",
       "    <tr style=\"text-align: right;\">\n",
       "      <th></th>\n",
       "      <th>Year</th>\n",
       "      <th>Datetime</th>\n",
       "      <th>Stage</th>\n",
       "      <th>Stadium</th>\n",
       "      <th>City</th>\n",
       "      <th>Home Team Name</th>\n",
       "      <th>Home Team Goals</th>\n",
       "      <th>Away Team Goals</th>\n",
       "      <th>Away Team Name</th>\n",
       "      <th>Win conditions</th>\n",
       "      <th>Attendance</th>\n",
       "      <th>Half-time Home Goals</th>\n",
       "      <th>Half-time Away Goals</th>\n",
       "      <th>Referee</th>\n",
       "      <th>Assistant 1</th>\n",
       "      <th>Assistant 2</th>\n",
       "      <th>RoundID</th>\n",
       "      <th>MatchID</th>\n",
       "      <th>Home Team Initials</th>\n",
       "      <th>Away Team Initials</th>\n",
       "    </tr>\n",
       "  </thead>\n",
       "  <tbody>\n",
       "    <tr>\n",
       "      <th>56</th>\n",
       "      <td>1950</td>\n",
       "      <td>25 Jun 1950 - 15:00</td>\n",
       "      <td>Group 3</td>\n",
       "      <td>Pacaembu</td>\n",
       "      <td>Sao Paulo</td>\n",
       "      <td>Sweden</td>\n",
       "      <td>3</td>\n",
       "      <td>2</td>\n",
       "      <td>Italy</td>\n",
       "      <td></td>\n",
       "      <td>36502.0</td>\n",
       "      <td>2</td>\n",
       "      <td>1</td>\n",
       "      <td>LUTZ Jean (SUI)</td>\n",
       "      <td>BERANEK Alois (AUT)</td>\n",
       "      <td>TEJADA Carlos (MEX)</td>\n",
       "      <td>208</td>\n",
       "      <td>1219</td>\n",
       "      <td>SWE</td>\n",
       "      <td>ITA</td>\n",
       "    </tr>\n",
       "    <tr>\n",
       "      <th>61</th>\n",
       "      <td>1950</td>\n",
       "      <td>29 Jun 1950 - 15:30</td>\n",
       "      <td>Group 3</td>\n",
       "      <td>Durival de Brito</td>\n",
       "      <td>Curitiba</td>\n",
       "      <td>Sweden</td>\n",
       "      <td>2</td>\n",
       "      <td>2</td>\n",
       "      <td>Paraguay</td>\n",
       "      <td></td>\n",
       "      <td>7903.0</td>\n",
       "      <td>2</td>\n",
       "      <td>1</td>\n",
       "      <td>MITCHELL Robert (SCO)</td>\n",
       "      <td>LEMESIC Leo (YUG)</td>\n",
       "      <td>GARCIA Prudencio (USA)</td>\n",
       "      <td>208</td>\n",
       "      <td>1228</td>\n",
       "      <td>SWE</td>\n",
       "      <td>PAR</td>\n",
       "    </tr>\n",
       "    <tr>\n",
       "      <th>65</th>\n",
       "      <td>1950</td>\n",
       "      <td>02 Jul 1950 - 15:00</td>\n",
       "      <td>Group 3</td>\n",
       "      <td>Pacaembu</td>\n",
       "      <td>Sao Paulo</td>\n",
       "      <td>Italy</td>\n",
       "      <td>2</td>\n",
       "      <td>0</td>\n",
       "      <td>Paraguay</td>\n",
       "      <td></td>\n",
       "      <td>25811.0</td>\n",
       "      <td>1</td>\n",
       "      <td>0</td>\n",
       "      <td>ELLIS Arthur (ENG)</td>\n",
       "      <td>GARCIA Prudencio (USA)</td>\n",
       "      <td>DE LA SALLE Charles (FRA)</td>\n",
       "      <td>208</td>\n",
       "      <td>1218</td>\n",
       "      <td>ITA</td>\n",
       "      <td>PAR</td>\n",
       "    </tr>\n",
       "  </tbody>\n",
       "</table>\n",
       "</div>"
      ],
      "text/plain": [
       "    Year              Datetime    Stage           Stadium        City  \\\n",
       "56  1950  25 Jun 1950 - 15:00   Group 3          Pacaembu  Sao Paulo    \n",
       "61  1950  29 Jun 1950 - 15:30   Group 3  Durival de Brito   Curitiba    \n",
       "65  1950  02 Jul 1950 - 15:00   Group 3          Pacaembu  Sao Paulo    \n",
       "\n",
       "   Home Team Name  Home Team Goals  Away Team Goals Away Team Name  \\\n",
       "56         Sweden                3                2          Italy   \n",
       "61         Sweden                2                2       Paraguay   \n",
       "65          Italy                2                0       Paraguay   \n",
       "\n",
       "   Win conditions  Attendance  Half-time Home Goals  Half-time Away Goals  \\\n",
       "56                    36502.0                     2                     1   \n",
       "61                     7903.0                     2                     1   \n",
       "65                    25811.0                     1                     0   \n",
       "\n",
       "                  Referee             Assistant 1                Assistant 2  \\\n",
       "56        LUTZ Jean (SUI)     BERANEK Alois (AUT)        TEJADA Carlos (MEX)   \n",
       "61  MITCHELL Robert (SCO)       LEMESIC Leo (YUG)     GARCIA Prudencio (USA)   \n",
       "65     ELLIS Arthur (ENG)  GARCIA Prudencio (USA)  DE LA SALLE Charles (FRA)   \n",
       "\n",
       "    RoundID  MatchID Home Team Initials Away Team Initials  \n",
       "56      208     1219                SWE                ITA  \n",
       "61      208     1228                SWE                PAR  \n",
       "65      208     1218                ITA                PAR  "
      ]
     },
     "execution_count": 25,
     "metadata": {},
     "output_type": "execute_result"
    }
   ],
   "source": [
    "df.loc[(df['Year']==1950)&(df['Stage']==\"Group 3\")]"
   ]
  },
  {
   "cell_type": "markdown",
   "id": "75d3be10-0518-4136-b26c-c734ad7270d9",
   "metadata": {},
   "source": [
    "# Importing Data Using Pandas"
   ]
  },
  {
   "cell_type": "code",
   "execution_count": 30,
   "id": "9b385f52-931e-4b8e-ad9e-ecd84d1598c6",
   "metadata": {},
   "outputs": [
    {
     "data": {
      "text/html": [
       "<div>\n",
       "<style scoped>\n",
       "    .dataframe tbody tr th:only-of-type {\n",
       "        vertical-align: middle;\n",
       "    }\n",
       "\n",
       "    .dataframe tbody tr th {\n",
       "        vertical-align: top;\n",
       "    }\n",
       "\n",
       "    .dataframe thead th {\n",
       "        text-align: right;\n",
       "    }\n",
       "</style>\n",
       "<table border=\"1\" class=\"dataframe\">\n",
       "  <thead>\n",
       "    <tr style=\"text-align: right;\">\n",
       "      <th></th>\n",
       "      <th>0</th>\n",
       "      <th>Unnamed: 1</th>\n",
       "      <th>Unnamed: 2</th>\n",
       "      <th>Unnamed: 3</th>\n",
       "      <th>Unnamed: 4</th>\n",
       "      <th>Unnamed: 5</th>\n",
       "      <th>Unnamed: 6</th>\n",
       "      <th>Unnamed: 7</th>\n",
       "      <th>Unnamed: 8</th>\n",
       "      <th>Unnamed: 9</th>\n",
       "      <th>...</th>\n",
       "      <th>Unnamed: 36</th>\n",
       "      <th>Unnamed: 37</th>\n",
       "      <th>Unnamed: 38</th>\n",
       "      <th>Unnamed: 39</th>\n",
       "      <th>Unnamed: 40</th>\n",
       "      <th>Unnamed: 41</th>\n",
       "      <th>Unnamed: 42</th>\n",
       "      <th>Unnamed: 43</th>\n",
       "      <th>Unnamed: 44</th>\n",
       "      <th>Unnamed: 45</th>\n",
       "    </tr>\n",
       "  </thead>\n",
       "  <tbody>\n",
       "    <tr>\n",
       "      <th>0</th>\n",
       "      <td>Average Statistics</td>\n",
       "      <td>NaN</td>\n",
       "      <td>NaN</td>\n",
       "      <td>NaN</td>\n",
       "      <td>NaN</td>\n",
       "      <td>NaN</td>\n",
       "      <td>NaN</td>\n",
       "      <td>NaN</td>\n",
       "      <td>NaN</td>\n",
       "      <td>NaN</td>\n",
       "      <td>...</td>\n",
       "      <td>NaN</td>\n",
       "      <td>NaN</td>\n",
       "      <td>NaN</td>\n",
       "      <td>NaN</td>\n",
       "      <td>NaN</td>\n",
       "      <td>NaN</td>\n",
       "      <td>NaN</td>\n",
       "      <td>NaN</td>\n",
       "      <td>NaN</td>\n",
       "      <td>NaN</td>\n",
       "    </tr>\n",
       "    <tr>\n",
       "      <th>1</th>\n",
       "      <td>NaN</td>\n",
       "      <td>0</td>\n",
       "      <td>NaN</td>\n",
       "      <td>NaN</td>\n",
       "      <td>NaN</td>\n",
       "      <td>NaN</td>\n",
       "      <td>NaN</td>\n",
       "      <td>NaN</td>\n",
       "      <td>NaN</td>\n",
       "      <td>NaN</td>\n",
       "      <td>...</td>\n",
       "      <td>NaN</td>\n",
       "      <td>NaN</td>\n",
       "      <td>NaN</td>\n",
       "      <td>NaN</td>\n",
       "      <td>NaN</td>\n",
       "      <td>NaN</td>\n",
       "      <td>NaN</td>\n",
       "      <td>NaN</td>\n",
       "      <td>NaN</td>\n",
       "      <td>NaN</td>\n",
       "    </tr>\n",
       "    <tr>\n",
       "      <th>2</th>\n",
       "      <td>JURISDICTION NAME</td>\n",
       "      <td>10005.8</td>\n",
       "      <td>NaN</td>\n",
       "      <td>NaN</td>\n",
       "      <td>NaN</td>\n",
       "      <td>NaN</td>\n",
       "      <td>NaN</td>\n",
       "      <td>NaN</td>\n",
       "      <td>NaN</td>\n",
       "      <td>NaN</td>\n",
       "      <td>...</td>\n",
       "      <td>NaN</td>\n",
       "      <td>NaN</td>\n",
       "      <td>NaN</td>\n",
       "      <td>NaN</td>\n",
       "      <td>NaN</td>\n",
       "      <td>NaN</td>\n",
       "      <td>NaN</td>\n",
       "      <td>NaN</td>\n",
       "      <td>NaN</td>\n",
       "      <td>NaN</td>\n",
       "    </tr>\n",
       "    <tr>\n",
       "      <th>3</th>\n",
       "      <td>COUNT PARTICIPANTS</td>\n",
       "      <td>9.4</td>\n",
       "      <td>NaN</td>\n",
       "      <td>NaN</td>\n",
       "      <td>NaN</td>\n",
       "      <td>NaN</td>\n",
       "      <td>NaN</td>\n",
       "      <td>NaN</td>\n",
       "      <td>NaN</td>\n",
       "      <td>NaN</td>\n",
       "      <td>...</td>\n",
       "      <td>NaN</td>\n",
       "      <td>NaN</td>\n",
       "      <td>NaN</td>\n",
       "      <td>NaN</td>\n",
       "      <td>NaN</td>\n",
       "      <td>NaN</td>\n",
       "      <td>NaN</td>\n",
       "      <td>NaN</td>\n",
       "      <td>NaN</td>\n",
       "      <td>NaN</td>\n",
       "    </tr>\n",
       "    <tr>\n",
       "      <th>4</th>\n",
       "      <td>COUNT FEMALE</td>\n",
       "      <td>4.8</td>\n",
       "      <td>NaN</td>\n",
       "      <td>NaN</td>\n",
       "      <td>NaN</td>\n",
       "      <td>NaN</td>\n",
       "      <td>NaN</td>\n",
       "      <td>NaN</td>\n",
       "      <td>NaN</td>\n",
       "      <td>NaN</td>\n",
       "      <td>...</td>\n",
       "      <td>NaN</td>\n",
       "      <td>NaN</td>\n",
       "      <td>NaN</td>\n",
       "      <td>NaN</td>\n",
       "      <td>NaN</td>\n",
       "      <td>NaN</td>\n",
       "      <td>NaN</td>\n",
       "      <td>NaN</td>\n",
       "      <td>NaN</td>\n",
       "      <td>NaN</td>\n",
       "    </tr>\n",
       "  </tbody>\n",
       "</table>\n",
       "<p>5 rows × 46 columns</p>\n",
       "</div>"
      ],
      "text/plain": [
       "                    0 Unnamed: 1 Unnamed: 2 Unnamed: 3 Unnamed: 4 Unnamed: 5  \\\n",
       "0  Average Statistics        NaN        NaN        NaN        NaN        NaN   \n",
       "1                 NaN          0        NaN        NaN        NaN        NaN   \n",
       "2   JURISDICTION NAME    10005.8        NaN        NaN        NaN        NaN   \n",
       "3  COUNT PARTICIPANTS        9.4        NaN        NaN        NaN        NaN   \n",
       "4        COUNT FEMALE        4.8        NaN        NaN        NaN        NaN   \n",
       "\n",
       "  Unnamed: 6 Unnamed: 7 Unnamed: 8 Unnamed: 9  ... Unnamed: 36 Unnamed: 37  \\\n",
       "0        NaN        NaN        NaN        NaN  ...         NaN         NaN   \n",
       "1        NaN        NaN        NaN        NaN  ...         NaN         NaN   \n",
       "2        NaN        NaN        NaN        NaN  ...         NaN         NaN   \n",
       "3        NaN        NaN        NaN        NaN  ...         NaN         NaN   \n",
       "4        NaN        NaN        NaN        NaN  ...         NaN         NaN   \n",
       "\n",
       "  Unnamed: 38 Unnamed: 39 Unnamed: 40 Unnamed: 41 Unnamed: 42 Unnamed: 43  \\\n",
       "0         NaN         NaN         NaN         NaN         NaN         NaN   \n",
       "1         NaN         NaN         NaN         NaN         NaN         NaN   \n",
       "2         NaN         NaN         NaN         NaN         NaN         NaN   \n",
       "3         NaN         NaN         NaN         NaN         NaN         NaN   \n",
       "4         NaN         NaN         NaN         NaN         NaN         NaN   \n",
       "\n",
       "  Unnamed: 44 Unnamed: 45  \n",
       "0         NaN         NaN  \n",
       "1         NaN         NaN  \n",
       "2         NaN         NaN  \n",
       "3         NaN         NaN  \n",
       "4         NaN         NaN  \n",
       "\n",
       "[5 rows x 46 columns]"
      ]
     },
     "execution_count": 30,
     "metadata": {},
     "output_type": "execute_result"
    }
   ],
   "source": [
    "df=pd.read_excel('Zipcode_Demos.xlsx')\n",
    "df.head()"
   ]
  },
  {
   "cell_type": "markdown",
   "id": "fe018d1e-4296-4c6c-beb3-208b9eb7c7cf",
   "metadata": {},
   "source": [
    "# Understanding Pandas Series and DataFrames"
   ]
  },
  {
   "cell_type": "code",
   "execution_count": 31,
   "id": "ad717ded-c7ae-4d23-b441-088260c72f59",
   "metadata": {},
   "outputs": [],
   "source": [
    "import pandas as pd\n",
    "import matplotlib.pyplot as plt\n",
    "%matplotlib inline"
   ]
  },
  {
   "cell_type": "code",
   "execution_count": 32,
   "id": "15a271a7-c2f6-44fb-866c-d0632152e933",
   "metadata": {},
   "outputs": [
    {
     "name": "stdout",
     "output_type": "stream",
     "text": [
      "(197625, 11)\n"
     ]
    },
    {
     "data": {
      "text/html": [
       "<div>\n",
       "<style scoped>\n",
       "    .dataframe tbody tr th:only-of-type {\n",
       "        vertical-align: middle;\n",
       "    }\n",
       "\n",
       "    .dataframe tbody tr th {\n",
       "        vertical-align: top;\n",
       "    }\n",
       "\n",
       "    .dataframe thead th {\n",
       "        text-align: right;\n",
       "    }\n",
       "</style>\n",
       "<table border=\"1\" class=\"dataframe\">\n",
       "  <thead>\n",
       "    <tr style=\"text-align: right;\">\n",
       "      <th></th>\n",
       "      <th>C/A</th>\n",
       "      <th>UNIT</th>\n",
       "      <th>SCP</th>\n",
       "      <th>STATION</th>\n",
       "      <th>LINENAME</th>\n",
       "      <th>DIVISION</th>\n",
       "      <th>DATE</th>\n",
       "      <th>TIME</th>\n",
       "      <th>DESC</th>\n",
       "      <th>ENTRIES</th>\n",
       "      <th>EXITS</th>\n",
       "    </tr>\n",
       "  </thead>\n",
       "  <tbody>\n",
       "    <tr>\n",
       "      <th>0</th>\n",
       "      <td>A002</td>\n",
       "      <td>R051</td>\n",
       "      <td>02-00-00</td>\n",
       "      <td>59 ST</td>\n",
       "      <td>NQR456W</td>\n",
       "      <td>BMT</td>\n",
       "      <td>08/25/2018</td>\n",
       "      <td>00:00:00</td>\n",
       "      <td>REGULAR</td>\n",
       "      <td>6736067</td>\n",
       "      <td>2283184</td>\n",
       "    </tr>\n",
       "    <tr>\n",
       "      <th>1</th>\n",
       "      <td>A002</td>\n",
       "      <td>R051</td>\n",
       "      <td>02-00-00</td>\n",
       "      <td>59 ST</td>\n",
       "      <td>NQR456W</td>\n",
       "      <td>BMT</td>\n",
       "      <td>08/25/2018</td>\n",
       "      <td>04:00:00</td>\n",
       "      <td>REGULAR</td>\n",
       "      <td>6736087</td>\n",
       "      <td>2283188</td>\n",
       "    </tr>\n",
       "    <tr>\n",
       "      <th>2</th>\n",
       "      <td>A002</td>\n",
       "      <td>R051</td>\n",
       "      <td>02-00-00</td>\n",
       "      <td>59 ST</td>\n",
       "      <td>NQR456W</td>\n",
       "      <td>BMT</td>\n",
       "      <td>08/25/2018</td>\n",
       "      <td>08:00:00</td>\n",
       "      <td>REGULAR</td>\n",
       "      <td>6736105</td>\n",
       "      <td>2283229</td>\n",
       "    </tr>\n",
       "    <tr>\n",
       "      <th>3</th>\n",
       "      <td>A002</td>\n",
       "      <td>R051</td>\n",
       "      <td>02-00-00</td>\n",
       "      <td>59 ST</td>\n",
       "      <td>NQR456W</td>\n",
       "      <td>BMT</td>\n",
       "      <td>08/25/2018</td>\n",
       "      <td>12:00:00</td>\n",
       "      <td>REGULAR</td>\n",
       "      <td>6736180</td>\n",
       "      <td>2283314</td>\n",
       "    </tr>\n",
       "    <tr>\n",
       "      <th>4</th>\n",
       "      <td>A002</td>\n",
       "      <td>R051</td>\n",
       "      <td>02-00-00</td>\n",
       "      <td>59 ST</td>\n",
       "      <td>NQR456W</td>\n",
       "      <td>BMT</td>\n",
       "      <td>08/25/2018</td>\n",
       "      <td>16:00:00</td>\n",
       "      <td>REGULAR</td>\n",
       "      <td>6736349</td>\n",
       "      <td>2283384</td>\n",
       "    </tr>\n",
       "  </tbody>\n",
       "</table>\n",
       "</div>"
      ],
      "text/plain": [
       "    C/A  UNIT       SCP STATION LINENAME DIVISION        DATE      TIME  \\\n",
       "0  A002  R051  02-00-00   59 ST  NQR456W      BMT  08/25/2018  00:00:00   \n",
       "1  A002  R051  02-00-00   59 ST  NQR456W      BMT  08/25/2018  04:00:00   \n",
       "2  A002  R051  02-00-00   59 ST  NQR456W      BMT  08/25/2018  08:00:00   \n",
       "3  A002  R051  02-00-00   59 ST  NQR456W      BMT  08/25/2018  12:00:00   \n",
       "4  A002  R051  02-00-00   59 ST  NQR456W      BMT  08/25/2018  16:00:00   \n",
       "\n",
       "      DESC  ENTRIES  \\\n",
       "0  REGULAR  6736067   \n",
       "1  REGULAR  6736087   \n",
       "2  REGULAR  6736105   \n",
       "3  REGULAR  6736180   \n",
       "4  REGULAR  6736349   \n",
       "\n",
       "   EXITS                                                                 \n",
       "0                                            2283184                     \n",
       "1                                            2283188                     \n",
       "2                                            2283229                     \n",
       "3                                            2283314                     \n",
       "4                                            2283384                     "
      ]
     },
     "execution_count": 32,
     "metadata": {},
     "output_type": "execute_result"
    }
   ],
   "source": [
    "df = pd.read_csv('turnstile_180901.txt')\n",
    "print(df.shape)\n",
    "df.head()"
   ]
  },
  {
   "cell_type": "code",
   "execution_count": 33,
   "id": "7bb5da5a-4730-4faf-b831-8d5af62e2fd0",
   "metadata": {},
   "outputs": [
    {
     "data": {
      "text/html": [
       "<div>\n",
       "<style scoped>\n",
       "    .dataframe tbody tr th:only-of-type {\n",
       "        vertical-align: middle;\n",
       "    }\n",
       "\n",
       "    .dataframe tbody tr th {\n",
       "        vertical-align: top;\n",
       "    }\n",
       "\n",
       "    .dataframe thead th {\n",
       "        text-align: right;\n",
       "    }\n",
       "</style>\n",
       "<table border=\"1\" class=\"dataframe\">\n",
       "  <thead>\n",
       "    <tr style=\"text-align: right;\">\n",
       "      <th></th>\n",
       "      <th>c/a</th>\n",
       "      <th>unit</th>\n",
       "      <th>scp</th>\n",
       "      <th>station</th>\n",
       "      <th>linename</th>\n",
       "      <th>division</th>\n",
       "      <th>date</th>\n",
       "      <th>time</th>\n",
       "      <th>desc</th>\n",
       "      <th>entries</th>\n",
       "      <th>exits</th>\n",
       "    </tr>\n",
       "  </thead>\n",
       "  <tbody>\n",
       "    <tr>\n",
       "      <th>0</th>\n",
       "      <td>A002</td>\n",
       "      <td>R051</td>\n",
       "      <td>02-00-00</td>\n",
       "      <td>59 ST</td>\n",
       "      <td>NQR456W</td>\n",
       "      <td>BMT</td>\n",
       "      <td>08/25/2018</td>\n",
       "      <td>00:00:00</td>\n",
       "      <td>REGULAR</td>\n",
       "      <td>6736067</td>\n",
       "      <td>2283184</td>\n",
       "    </tr>\n",
       "    <tr>\n",
       "      <th>1</th>\n",
       "      <td>A002</td>\n",
       "      <td>R051</td>\n",
       "      <td>02-00-00</td>\n",
       "      <td>59 ST</td>\n",
       "      <td>NQR456W</td>\n",
       "      <td>BMT</td>\n",
       "      <td>08/25/2018</td>\n",
       "      <td>04:00:00</td>\n",
       "      <td>REGULAR</td>\n",
       "      <td>6736087</td>\n",
       "      <td>2283188</td>\n",
       "    </tr>\n",
       "    <tr>\n",
       "      <th>2</th>\n",
       "      <td>A002</td>\n",
       "      <td>R051</td>\n",
       "      <td>02-00-00</td>\n",
       "      <td>59 ST</td>\n",
       "      <td>NQR456W</td>\n",
       "      <td>BMT</td>\n",
       "      <td>08/25/2018</td>\n",
       "      <td>08:00:00</td>\n",
       "      <td>REGULAR</td>\n",
       "      <td>6736105</td>\n",
       "      <td>2283229</td>\n",
       "    </tr>\n",
       "    <tr>\n",
       "      <th>3</th>\n",
       "      <td>A002</td>\n",
       "      <td>R051</td>\n",
       "      <td>02-00-00</td>\n",
       "      <td>59 ST</td>\n",
       "      <td>NQR456W</td>\n",
       "      <td>BMT</td>\n",
       "      <td>08/25/2018</td>\n",
       "      <td>12:00:00</td>\n",
       "      <td>REGULAR</td>\n",
       "      <td>6736180</td>\n",
       "      <td>2283314</td>\n",
       "    </tr>\n",
       "    <tr>\n",
       "      <th>4</th>\n",
       "      <td>A002</td>\n",
       "      <td>R051</td>\n",
       "      <td>02-00-00</td>\n",
       "      <td>59 ST</td>\n",
       "      <td>NQR456W</td>\n",
       "      <td>BMT</td>\n",
       "      <td>08/25/2018</td>\n",
       "      <td>16:00:00</td>\n",
       "      <td>REGULAR</td>\n",
       "      <td>6736349</td>\n",
       "      <td>2283384</td>\n",
       "    </tr>\n",
       "  </tbody>\n",
       "</table>\n",
       "</div>"
      ],
      "text/plain": [
       "    c/a  unit       scp station linename division        date      time  \\\n",
       "0  A002  R051  02-00-00   59 ST  NQR456W      BMT  08/25/2018  00:00:00   \n",
       "1  A002  R051  02-00-00   59 ST  NQR456W      BMT  08/25/2018  04:00:00   \n",
       "2  A002  R051  02-00-00   59 ST  NQR456W      BMT  08/25/2018  08:00:00   \n",
       "3  A002  R051  02-00-00   59 ST  NQR456W      BMT  08/25/2018  12:00:00   \n",
       "4  A002  R051  02-00-00   59 ST  NQR456W      BMT  08/25/2018  16:00:00   \n",
       "\n",
       "      desc  entries  \\\n",
       "0  REGULAR  6736067   \n",
       "1  REGULAR  6736087   \n",
       "2  REGULAR  6736105   \n",
       "3  REGULAR  6736180   \n",
       "4  REGULAR  6736349   \n",
       "\n",
       "   exits                                                                 \n",
       "0                                            2283184                     \n",
       "1                                            2283188                     \n",
       "2                                            2283229                     \n",
       "3                                            2283314                     \n",
       "4                                            2283384                     "
      ]
     },
     "execution_count": 33,
     "metadata": {},
     "output_type": "execute_result"
    }
   ],
   "source": [
    "df.columns=map(str.lower, df.columns)\n",
    "# df.columns = [x.lower() for x in df.columns]\n",
    "df.head()"
   ]
  },
  {
   "cell_type": "code",
   "execution_count": 38,
   "id": "d921f200-9d12-4d2a-bfd3-fd32f8efb863",
   "metadata": {},
   "outputs": [
    {
     "data": {
      "text/html": [
       "<div>\n",
       "<style scoped>\n",
       "    .dataframe tbody tr th:only-of-type {\n",
       "        vertical-align: middle;\n",
       "    }\n",
       "\n",
       "    .dataframe tbody tr th {\n",
       "        vertical-align: top;\n",
       "    }\n",
       "\n",
       "    .dataframe thead th {\n",
       "        text-align: right;\n",
       "    }\n",
       "</style>\n",
       "<table border=\"1\" class=\"dataframe\">\n",
       "  <thead>\n",
       "    <tr style=\"text-align: right;\">\n",
       "      <th></th>\n",
       "      <th>c/a</th>\n",
       "      <th>unit</th>\n",
       "      <th>scp</th>\n",
       "      <th>station</th>\n",
       "      <th>linename</th>\n",
       "      <th>division</th>\n",
       "      <th>date</th>\n",
       "      <th>time</th>\n",
       "      <th>desc</th>\n",
       "      <th>entries</th>\n",
       "      <th>exits</th>\n",
       "    </tr>\n",
       "  </thead>\n",
       "  <tbody>\n",
       "    <tr>\n",
       "      <th>0</th>\n",
       "      <td>A002</td>\n",
       "      <td>R051</td>\n",
       "      <td>02-00-00</td>\n",
       "      <td>59 ST</td>\n",
       "      <td>NQR456W</td>\n",
       "      <td>BMT</td>\n",
       "      <td>08/25/2018</td>\n",
       "      <td>00:00:00</td>\n",
       "      <td>REGULAR</td>\n",
       "      <td>6736067</td>\n",
       "      <td>2283184</td>\n",
       "    </tr>\n",
       "    <tr>\n",
       "      <th>1</th>\n",
       "      <td>A002</td>\n",
       "      <td>R051</td>\n",
       "      <td>02-00-00</td>\n",
       "      <td>59 ST</td>\n",
       "      <td>NQR456W</td>\n",
       "      <td>BMT</td>\n",
       "      <td>08/25/2018</td>\n",
       "      <td>04:00:00</td>\n",
       "      <td>REGULAR</td>\n",
       "      <td>6736087</td>\n",
       "      <td>2283188</td>\n",
       "    </tr>\n",
       "    <tr>\n",
       "      <th>2</th>\n",
       "      <td>A002</td>\n",
       "      <td>R051</td>\n",
       "      <td>02-00-00</td>\n",
       "      <td>59 ST</td>\n",
       "      <td>NQR456W</td>\n",
       "      <td>BMT</td>\n",
       "      <td>08/25/2018</td>\n",
       "      <td>08:00:00</td>\n",
       "      <td>REGULAR</td>\n",
       "      <td>6736105</td>\n",
       "      <td>2283229</td>\n",
       "    </tr>\n",
       "    <tr>\n",
       "      <th>3</th>\n",
       "      <td>A002</td>\n",
       "      <td>R051</td>\n",
       "      <td>02-00-00</td>\n",
       "      <td>59 ST</td>\n",
       "      <td>NQR456W</td>\n",
       "      <td>BMT</td>\n",
       "      <td>08/25/2018</td>\n",
       "      <td>12:00:00</td>\n",
       "      <td>REGULAR</td>\n",
       "      <td>6736180</td>\n",
       "      <td>2283314</td>\n",
       "    </tr>\n",
       "    <tr>\n",
       "      <th>4</th>\n",
       "      <td>A002</td>\n",
       "      <td>R051</td>\n",
       "      <td>02-00-00</td>\n",
       "      <td>59 ST</td>\n",
       "      <td>NQR456W</td>\n",
       "      <td>BMT</td>\n",
       "      <td>08/25/2018</td>\n",
       "      <td>16:00:00</td>\n",
       "      <td>REGULAR</td>\n",
       "      <td>6736349</td>\n",
       "      <td>2283384</td>\n",
       "    </tr>\n",
       "  </tbody>\n",
       "</table>\n",
       "</div>"
      ],
      "text/plain": [
       "    c/a  unit       scp station linename division        date      time  \\\n",
       "0  A002  R051  02-00-00   59 ST  NQR456W      BMT  08/25/2018  00:00:00   \n",
       "1  A002  R051  02-00-00   59 ST  NQR456W      BMT  08/25/2018  04:00:00   \n",
       "2  A002  R051  02-00-00   59 ST  NQR456W      BMT  08/25/2018  08:00:00   \n",
       "3  A002  R051  02-00-00   59 ST  NQR456W      BMT  08/25/2018  12:00:00   \n",
       "4  A002  R051  02-00-00   59 ST  NQR456W      BMT  08/25/2018  16:00:00   \n",
       "\n",
       "      desc  entries  \\\n",
       "0  REGULAR  6736067   \n",
       "1  REGULAR  6736087   \n",
       "2  REGULAR  6736105   \n",
       "3  REGULAR  6736180   \n",
       "4  REGULAR  6736349   \n",
       "\n",
       "   exits                                                                 \n",
       "0                                            2283184                     \n",
       "1                                            2283188                     \n",
       "2                                            2283229                     \n",
       "3                                            2283314                     \n",
       "4                                            2283384                     "
      ]
     },
     "execution_count": 38,
     "metadata": {},
     "output_type": "execute_result"
    }
   ],
   "source": [
    "df.columns = [x.lower() for x in df.columns]\n",
    "df.head()"
   ]
  },
  {
   "cell_type": "code",
   "execution_count": 40,
   "id": "d3631974-ac97-4652-94ff-be48ef116c0b",
   "metadata": {},
   "outputs": [
    {
     "data": {
      "text/plain": [
       "Index(['NQR456W', 'NQR456W', 'NQR456W', 'NQR456W', 'NQR456W', 'NQR456W',\n",
       "       'NQR456W', 'NQR456W', 'NQR456W', 'NQR456W',\n",
       "       ...\n",
       "       'R', 'R', 'R', 'R', 'R', 'R', 'R', 'R', 'R', 'R'],\n",
       "      dtype='object', name='linename', length=197625)"
      ]
     },
     "execution_count": 40,
     "metadata": {},
     "output_type": "execute_result"
    }
   ],
   "source": [
    "df=df.set_index('linename')\n",
    "df.index"
   ]
  },
  {
   "cell_type": "code",
   "execution_count": 46,
   "id": "66207b4d-acd3-4232-97f0-6e20c452d361",
   "metadata": {},
   "outputs": [
    {
     "data": {
      "text/plain": [
       "Index(['NQR456W', 'NQR456W', 'NQR456W', 'NQR456W', 'NQR456W', 'NQR456W',\n",
       "       'NQR456W', 'NQR456W', 'NQR456W', 'NQR456W',\n",
       "       ...\n",
       "       'R', 'R', 'R', 'R', 'R', 'R', 'R', 'R', 'R', 'R'],\n",
       "      dtype='object', name='linename', length=197625)"
      ]
     },
     "execution_count": 46,
     "metadata": {},
     "output_type": "execute_result"
    }
   ],
   "source": [
    "df.reset_index()\n",
    "df.index"
   ]
  },
  {
   "cell_type": "code",
   "execution_count": 51,
   "id": "f3c41f41-7eee-41d7-9af0-c1e087604092",
   "metadata": {},
   "outputs": [
    {
     "data": {
      "text/html": [
       "<div>\n",
       "<style scoped>\n",
       "    .dataframe tbody tr th:only-of-type {\n",
       "        vertical-align: middle;\n",
       "    }\n",
       "\n",
       "    .dataframe tbody tr th {\n",
       "        vertical-align: top;\n",
       "    }\n",
       "\n",
       "    .dataframe thead th {\n",
       "        text-align: right;\n",
       "    }\n",
       "</style>\n",
       "<table border=\"1\" class=\"dataframe\">\n",
       "  <thead>\n",
       "    <tr style=\"text-align: right;\">\n",
       "      <th></th>\n",
       "      <th>linename</th>\n",
       "      <th>c/a</th>\n",
       "      <th>unit</th>\n",
       "      <th>scp</th>\n",
       "      <th>station</th>\n",
       "      <th>division</th>\n",
       "      <th>date</th>\n",
       "      <th>time</th>\n",
       "      <th>desc</th>\n",
       "      <th>entries</th>\n",
       "      <th>exits</th>\n",
       "    </tr>\n",
       "  </thead>\n",
       "  <tbody>\n",
       "    <tr>\n",
       "      <th>0</th>\n",
       "      <td>NQR456W</td>\n",
       "      <td>A002</td>\n",
       "      <td>R051</td>\n",
       "      <td>02-00-00</td>\n",
       "      <td>59 ST</td>\n",
       "      <td>BMT</td>\n",
       "      <td>08/25/2018</td>\n",
       "      <td>00:00:00</td>\n",
       "      <td>REGULAR</td>\n",
       "      <td>6736067</td>\n",
       "      <td>2283184</td>\n",
       "    </tr>\n",
       "    <tr>\n",
       "      <th>1</th>\n",
       "      <td>NQR456W</td>\n",
       "      <td>A002</td>\n",
       "      <td>R051</td>\n",
       "      <td>02-00-00</td>\n",
       "      <td>59 ST</td>\n",
       "      <td>BMT</td>\n",
       "      <td>08/25/2018</td>\n",
       "      <td>04:00:00</td>\n",
       "      <td>REGULAR</td>\n",
       "      <td>6736087</td>\n",
       "      <td>2283188</td>\n",
       "    </tr>\n",
       "    <tr>\n",
       "      <th>2</th>\n",
       "      <td>NQR456W</td>\n",
       "      <td>A002</td>\n",
       "      <td>R051</td>\n",
       "      <td>02-00-00</td>\n",
       "      <td>59 ST</td>\n",
       "      <td>BMT</td>\n",
       "      <td>08/25/2018</td>\n",
       "      <td>08:00:00</td>\n",
       "      <td>REGULAR</td>\n",
       "      <td>6736105</td>\n",
       "      <td>2283229</td>\n",
       "    </tr>\n",
       "    <tr>\n",
       "      <th>3</th>\n",
       "      <td>NQR456W</td>\n",
       "      <td>A002</td>\n",
       "      <td>R051</td>\n",
       "      <td>02-00-00</td>\n",
       "      <td>59 ST</td>\n",
       "      <td>BMT</td>\n",
       "      <td>08/25/2018</td>\n",
       "      <td>12:00:00</td>\n",
       "      <td>REGULAR</td>\n",
       "      <td>6736180</td>\n",
       "      <td>2283314</td>\n",
       "    </tr>\n",
       "    <tr>\n",
       "      <th>4</th>\n",
       "      <td>NQR456W</td>\n",
       "      <td>A002</td>\n",
       "      <td>R051</td>\n",
       "      <td>02-00-00</td>\n",
       "      <td>59 ST</td>\n",
       "      <td>BMT</td>\n",
       "      <td>08/25/2018</td>\n",
       "      <td>16:00:00</td>\n",
       "      <td>REGULAR</td>\n",
       "      <td>6736349</td>\n",
       "      <td>2283384</td>\n",
       "    </tr>\n",
       "    <tr>\n",
       "      <th>...</th>\n",
       "      <td>...</td>\n",
       "      <td>...</td>\n",
       "      <td>...</td>\n",
       "      <td>...</td>\n",
       "      <td>...</td>\n",
       "      <td>...</td>\n",
       "      <td>...</td>\n",
       "      <td>...</td>\n",
       "      <td>...</td>\n",
       "      <td>...</td>\n",
       "      <td>...</td>\n",
       "    </tr>\n",
       "    <tr>\n",
       "      <th>197620</th>\n",
       "      <td>R</td>\n",
       "      <td>TRAM2</td>\n",
       "      <td>R469</td>\n",
       "      <td>00-05-01</td>\n",
       "      <td>RIT-ROOSEVELT</td>\n",
       "      <td>RIT</td>\n",
       "      <td>08/31/2018</td>\n",
       "      <td>05:00:00</td>\n",
       "      <td>REGULAR</td>\n",
       "      <td>5554</td>\n",
       "      <td>348</td>\n",
       "    </tr>\n",
       "    <tr>\n",
       "      <th>197621</th>\n",
       "      <td>R</td>\n",
       "      <td>TRAM2</td>\n",
       "      <td>R469</td>\n",
       "      <td>00-05-01</td>\n",
       "      <td>RIT-ROOSEVELT</td>\n",
       "      <td>RIT</td>\n",
       "      <td>08/31/2018</td>\n",
       "      <td>09:00:00</td>\n",
       "      <td>REGULAR</td>\n",
       "      <td>5554</td>\n",
       "      <td>348</td>\n",
       "    </tr>\n",
       "    <tr>\n",
       "      <th>197622</th>\n",
       "      <td>R</td>\n",
       "      <td>TRAM2</td>\n",
       "      <td>R469</td>\n",
       "      <td>00-05-01</td>\n",
       "      <td>RIT-ROOSEVELT</td>\n",
       "      <td>RIT</td>\n",
       "      <td>08/31/2018</td>\n",
       "      <td>13:00:00</td>\n",
       "      <td>REGULAR</td>\n",
       "      <td>5554</td>\n",
       "      <td>348</td>\n",
       "    </tr>\n",
       "    <tr>\n",
       "      <th>197623</th>\n",
       "      <td>R</td>\n",
       "      <td>TRAM2</td>\n",
       "      <td>R469</td>\n",
       "      <td>00-05-01</td>\n",
       "      <td>RIT-ROOSEVELT</td>\n",
       "      <td>RIT</td>\n",
       "      <td>08/31/2018</td>\n",
       "      <td>17:00:00</td>\n",
       "      <td>REGULAR</td>\n",
       "      <td>5554</td>\n",
       "      <td>348</td>\n",
       "    </tr>\n",
       "    <tr>\n",
       "      <th>197624</th>\n",
       "      <td>R</td>\n",
       "      <td>TRAM2</td>\n",
       "      <td>R469</td>\n",
       "      <td>00-05-01</td>\n",
       "      <td>RIT-ROOSEVELT</td>\n",
       "      <td>RIT</td>\n",
       "      <td>08/31/2018</td>\n",
       "      <td>21:00:00</td>\n",
       "      <td>REGULAR</td>\n",
       "      <td>5554</td>\n",
       "      <td>348</td>\n",
       "    </tr>\n",
       "  </tbody>\n",
       "</table>\n",
       "<p>197625 rows × 11 columns</p>\n",
       "</div>"
      ],
      "text/plain": [
       "       linename    c/a  unit       scp        station division        date  \\\n",
       "0       NQR456W   A002  R051  02-00-00          59 ST      BMT  08/25/2018   \n",
       "1       NQR456W   A002  R051  02-00-00          59 ST      BMT  08/25/2018   \n",
       "2       NQR456W   A002  R051  02-00-00          59 ST      BMT  08/25/2018   \n",
       "3       NQR456W   A002  R051  02-00-00          59 ST      BMT  08/25/2018   \n",
       "4       NQR456W   A002  R051  02-00-00          59 ST      BMT  08/25/2018   \n",
       "...         ...    ...   ...       ...            ...      ...         ...   \n",
       "197620        R  TRAM2  R469  00-05-01  RIT-ROOSEVELT      RIT  08/31/2018   \n",
       "197621        R  TRAM2  R469  00-05-01  RIT-ROOSEVELT      RIT  08/31/2018   \n",
       "197622        R  TRAM2  R469  00-05-01  RIT-ROOSEVELT      RIT  08/31/2018   \n",
       "197623        R  TRAM2  R469  00-05-01  RIT-ROOSEVELT      RIT  08/31/2018   \n",
       "197624        R  TRAM2  R469  00-05-01  RIT-ROOSEVELT      RIT  08/31/2018   \n",
       "\n",
       "            time     desc  entries  \\\n",
       "0       00:00:00  REGULAR  6736067   \n",
       "1       04:00:00  REGULAR  6736087   \n",
       "2       08:00:00  REGULAR  6736105   \n",
       "3       12:00:00  REGULAR  6736180   \n",
       "4       16:00:00  REGULAR  6736349   \n",
       "...          ...      ...      ...   \n",
       "197620  05:00:00  REGULAR     5554   \n",
       "197621  09:00:00  REGULAR     5554   \n",
       "197622  13:00:00  REGULAR     5554   \n",
       "197623  17:00:00  REGULAR     5554   \n",
       "197624  21:00:00  REGULAR     5554   \n",
       "\n",
       "        exits                                                                 \n",
       "0                                                 2283184                     \n",
       "1                                                 2283188                     \n",
       "2                                                 2283229                     \n",
       "3                                                 2283314                     \n",
       "4                                                 2283384                     \n",
       "...                                                   ...                     \n",
       "197620                                                348                     \n",
       "197621                                                348                     \n",
       "197622                                                348                     \n",
       "197623                                                348                     \n",
       "197624                                                348                     \n",
       "\n",
       "[197625 rows x 11 columns]"
      ]
     },
     "execution_count": 51,
     "metadata": {},
     "output_type": "execute_result"
    }
   ],
   "source": [
    "df.reset_index()"
   ]
  },
  {
   "cell_type": "code",
   "execution_count": 52,
   "id": "aa23b555-351d-4cf4-97e4-7848f2d4e0f2",
   "metadata": {},
   "outputs": [],
   "source": [
    "df['Num_lines'] = df.groupby('linename')['station'].count()"
   ]
  },
  {
   "cell_type": "code",
   "execution_count": 53,
   "id": "4e9ff046-4968-48a0-a3ac-3e7e523ea352",
   "metadata": {},
   "outputs": [
    {
     "data": {
      "text/html": [
       "<div>\n",
       "<style scoped>\n",
       "    .dataframe tbody tr th:only-of-type {\n",
       "        vertical-align: middle;\n",
       "    }\n",
       "\n",
       "    .dataframe tbody tr th {\n",
       "        vertical-align: top;\n",
       "    }\n",
       "\n",
       "    .dataframe thead th {\n",
       "        text-align: right;\n",
       "    }\n",
       "</style>\n",
       "<table border=\"1\" class=\"dataframe\">\n",
       "  <thead>\n",
       "    <tr style=\"text-align: right;\">\n",
       "      <th></th>\n",
       "      <th>c/a</th>\n",
       "      <th>unit</th>\n",
       "      <th>scp</th>\n",
       "      <th>station</th>\n",
       "      <th>division</th>\n",
       "      <th>date</th>\n",
       "      <th>time</th>\n",
       "      <th>desc</th>\n",
       "      <th>entries</th>\n",
       "      <th>exits</th>\n",
       "      <th>Num_lines</th>\n",
       "    </tr>\n",
       "    <tr>\n",
       "      <th>linename</th>\n",
       "      <th></th>\n",
       "      <th></th>\n",
       "      <th></th>\n",
       "      <th></th>\n",
       "      <th></th>\n",
       "      <th></th>\n",
       "      <th></th>\n",
       "      <th></th>\n",
       "      <th></th>\n",
       "      <th></th>\n",
       "      <th></th>\n",
       "    </tr>\n",
       "  </thead>\n",
       "  <tbody>\n",
       "    <tr>\n",
       "      <th>NQR456W</th>\n",
       "      <td>A002</td>\n",
       "      <td>R051</td>\n",
       "      <td>02-00-00</td>\n",
       "      <td>59 ST</td>\n",
       "      <td>BMT</td>\n",
       "      <td>08/25/2018</td>\n",
       "      <td>00:00:00</td>\n",
       "      <td>REGULAR</td>\n",
       "      <td>6736067</td>\n",
       "      <td>2283184</td>\n",
       "      <td>504</td>\n",
       "    </tr>\n",
       "    <tr>\n",
       "      <th>NQR456W</th>\n",
       "      <td>A002</td>\n",
       "      <td>R051</td>\n",
       "      <td>02-00-00</td>\n",
       "      <td>59 ST</td>\n",
       "      <td>BMT</td>\n",
       "      <td>08/25/2018</td>\n",
       "      <td>04:00:00</td>\n",
       "      <td>REGULAR</td>\n",
       "      <td>6736087</td>\n",
       "      <td>2283188</td>\n",
       "      <td>504</td>\n",
       "    </tr>\n",
       "    <tr>\n",
       "      <th>NQR456W</th>\n",
       "      <td>A002</td>\n",
       "      <td>R051</td>\n",
       "      <td>02-00-00</td>\n",
       "      <td>59 ST</td>\n",
       "      <td>BMT</td>\n",
       "      <td>08/25/2018</td>\n",
       "      <td>08:00:00</td>\n",
       "      <td>REGULAR</td>\n",
       "      <td>6736105</td>\n",
       "      <td>2283229</td>\n",
       "      <td>504</td>\n",
       "    </tr>\n",
       "    <tr>\n",
       "      <th>NQR456W</th>\n",
       "      <td>A002</td>\n",
       "      <td>R051</td>\n",
       "      <td>02-00-00</td>\n",
       "      <td>59 ST</td>\n",
       "      <td>BMT</td>\n",
       "      <td>08/25/2018</td>\n",
       "      <td>12:00:00</td>\n",
       "      <td>REGULAR</td>\n",
       "      <td>6736180</td>\n",
       "      <td>2283314</td>\n",
       "      <td>504</td>\n",
       "    </tr>\n",
       "    <tr>\n",
       "      <th>NQR456W</th>\n",
       "      <td>A002</td>\n",
       "      <td>R051</td>\n",
       "      <td>02-00-00</td>\n",
       "      <td>59 ST</td>\n",
       "      <td>BMT</td>\n",
       "      <td>08/25/2018</td>\n",
       "      <td>16:00:00</td>\n",
       "      <td>REGULAR</td>\n",
       "      <td>6736349</td>\n",
       "      <td>2283384</td>\n",
       "      <td>504</td>\n",
       "    </tr>\n",
       "  </tbody>\n",
       "</table>\n",
       "</div>"
      ],
      "text/plain": [
       "           c/a  unit       scp station division        date      time  \\\n",
       "linename                                                                \n",
       "NQR456W   A002  R051  02-00-00   59 ST      BMT  08/25/2018  00:00:00   \n",
       "NQR456W   A002  R051  02-00-00   59 ST      BMT  08/25/2018  04:00:00   \n",
       "NQR456W   A002  R051  02-00-00   59 ST      BMT  08/25/2018  08:00:00   \n",
       "NQR456W   A002  R051  02-00-00   59 ST      BMT  08/25/2018  12:00:00   \n",
       "NQR456W   A002  R051  02-00-00   59 ST      BMT  08/25/2018  16:00:00   \n",
       "\n",
       "             desc  entries  \\\n",
       "linename                     \n",
       "NQR456W   REGULAR  6736067   \n",
       "NQR456W   REGULAR  6736087   \n",
       "NQR456W   REGULAR  6736105   \n",
       "NQR456W   REGULAR  6736180   \n",
       "NQR456W   REGULAR  6736349   \n",
       "\n",
       "          exits                                                                 \\\n",
       "linename                                                                         \n",
       "NQR456W                                             2283184                      \n",
       "NQR456W                                             2283188                      \n",
       "NQR456W                                             2283229                      \n",
       "NQR456W                                             2283314                      \n",
       "NQR456W                                             2283384                      \n",
       "\n",
       "          Num_lines  \n",
       "linename             \n",
       "NQR456W         504  \n",
       "NQR456W         504  \n",
       "NQR456W         504  \n",
       "NQR456W         504  \n",
       "NQR456W         504  "
      ]
     },
     "execution_count": 53,
     "metadata": {},
     "output_type": "execute_result"
    }
   ],
   "source": [
    "df.head()"
   ]
  },
  {
   "cell_type": "code",
   "execution_count": 55,
   "id": "eb8c9d2d-3fa6-42c3-8a6b-049a1a91f376",
   "metadata": {},
   "outputs": [
    {
     "data": {
      "text/html": [
       "<div>\n",
       "<style scoped>\n",
       "    .dataframe tbody tr th:only-of-type {\n",
       "        vertical-align: middle;\n",
       "    }\n",
       "\n",
       "    .dataframe tbody tr th {\n",
       "        vertical-align: top;\n",
       "    }\n",
       "\n",
       "    .dataframe thead th {\n",
       "        text-align: right;\n",
       "    }\n",
       "</style>\n",
       "<table border=\"1\" class=\"dataframe\">\n",
       "  <thead>\n",
       "    <tr style=\"text-align: right;\">\n",
       "      <th></th>\n",
       "      <th>ages</th>\n",
       "      <th>list_price</th>\n",
       "      <th>num_reviews</th>\n",
       "      <th>piece_count</th>\n",
       "      <th>play_star_rating</th>\n",
       "      <th>prod_desc</th>\n",
       "      <th>prod_id</th>\n",
       "      <th>prod_long_desc</th>\n",
       "      <th>review_difficulty</th>\n",
       "      <th>set_name</th>\n",
       "      <th>star_rating</th>\n",
       "      <th>theme_name</th>\n",
       "      <th>val_star_rating</th>\n",
       "      <th>country</th>\n",
       "    </tr>\n",
       "  </thead>\n",
       "  <tbody>\n",
       "    <tr>\n",
       "      <th>0</th>\n",
       "      <td>6-12</td>\n",
       "      <td>29.99</td>\n",
       "      <td>2.0</td>\n",
       "      <td>277.0</td>\n",
       "      <td>4.0</td>\n",
       "      <td>Catapult into action and take back the eggs fr...</td>\n",
       "      <td>75823.0</td>\n",
       "      <td>Use the staircase catapult to launch Red into ...</td>\n",
       "      <td>Average</td>\n",
       "      <td>Bird Island Egg Heist</td>\n",
       "      <td>4.5</td>\n",
       "      <td>Angry Birds™</td>\n",
       "      <td>4.0</td>\n",
       "      <td>US</td>\n",
       "    </tr>\n",
       "    <tr>\n",
       "      <th>1</th>\n",
       "      <td>6-12</td>\n",
       "      <td>19.99</td>\n",
       "      <td>2.0</td>\n",
       "      <td>168.0</td>\n",
       "      <td>4.0</td>\n",
       "      <td>Launch a flying attack and rescue the eggs fro...</td>\n",
       "      <td>75822.0</td>\n",
       "      <td>Pilot Pig has taken off from Bird Island with ...</td>\n",
       "      <td>Easy</td>\n",
       "      <td>Piggy Plane Attack</td>\n",
       "      <td>5.0</td>\n",
       "      <td>Angry Birds™</td>\n",
       "      <td>4.0</td>\n",
       "      <td>US</td>\n",
       "    </tr>\n",
       "    <tr>\n",
       "      <th>2</th>\n",
       "      <td>6-12</td>\n",
       "      <td>12.99</td>\n",
       "      <td>11.0</td>\n",
       "      <td>74.0</td>\n",
       "      <td>4.3</td>\n",
       "      <td>Chase the piggy with lightning-fast Chuck and ...</td>\n",
       "      <td>75821.0</td>\n",
       "      <td>Pitch speedy bird Chuck against the Piggy Car....</td>\n",
       "      <td>Easy</td>\n",
       "      <td>Piggy Car Escape</td>\n",
       "      <td>4.3</td>\n",
       "      <td>Angry Birds™</td>\n",
       "      <td>4.1</td>\n",
       "      <td>US</td>\n",
       "    </tr>\n",
       "    <tr>\n",
       "      <th>3</th>\n",
       "      <td>12+</td>\n",
       "      <td>99.99</td>\n",
       "      <td>23.0</td>\n",
       "      <td>1032.0</td>\n",
       "      <td>3.6</td>\n",
       "      <td>Explore the architecture of the United States ...</td>\n",
       "      <td>21030.0</td>\n",
       "      <td>Discover the architectural secrets of the icon...</td>\n",
       "      <td>Average</td>\n",
       "      <td>United States Capitol Building</td>\n",
       "      <td>4.6</td>\n",
       "      <td>Architecture</td>\n",
       "      <td>4.3</td>\n",
       "      <td>US</td>\n",
       "    </tr>\n",
       "    <tr>\n",
       "      <th>4</th>\n",
       "      <td>12+</td>\n",
       "      <td>79.99</td>\n",
       "      <td>14.0</td>\n",
       "      <td>744.0</td>\n",
       "      <td>3.2</td>\n",
       "      <td>Recreate the Solomon R. Guggenheim Museum® wit...</td>\n",
       "      <td>21035.0</td>\n",
       "      <td>Discover the architectural secrets of Frank Ll...</td>\n",
       "      <td>Challenging</td>\n",
       "      <td>Solomon R. Guggenheim Museum®</td>\n",
       "      <td>4.6</td>\n",
       "      <td>Architecture</td>\n",
       "      <td>4.1</td>\n",
       "      <td>US</td>\n",
       "    </tr>\n",
       "  </tbody>\n",
       "</table>\n",
       "</div>"
      ],
      "text/plain": [
       "   ages  list_price  num_reviews  piece_count  play_star_rating  \\\n",
       "0  6-12       29.99          2.0        277.0               4.0   \n",
       "1  6-12       19.99          2.0        168.0               4.0   \n",
       "2  6-12       12.99         11.0         74.0               4.3   \n",
       "3   12+       99.99         23.0       1032.0               3.6   \n",
       "4   12+       79.99         14.0        744.0               3.2   \n",
       "\n",
       "                                           prod_desc  prod_id  \\\n",
       "0  Catapult into action and take back the eggs fr...  75823.0   \n",
       "1  Launch a flying attack and rescue the eggs fro...  75822.0   \n",
       "2  Chase the piggy with lightning-fast Chuck and ...  75821.0   \n",
       "3  Explore the architecture of the United States ...  21030.0   \n",
       "4  Recreate the Solomon R. Guggenheim Museum® wit...  21035.0   \n",
       "\n",
       "                                      prod_long_desc review_difficulty  \\\n",
       "0  Use the staircase catapult to launch Red into ...           Average   \n",
       "1  Pilot Pig has taken off from Bird Island with ...              Easy   \n",
       "2  Pitch speedy bird Chuck against the Piggy Car....              Easy   \n",
       "3  Discover the architectural secrets of the icon...           Average   \n",
       "4  Discover the architectural secrets of Frank Ll...       Challenging   \n",
       "\n",
       "                         set_name  star_rating    theme_name  val_star_rating  \\\n",
       "0           Bird Island Egg Heist          4.5  Angry Birds™              4.0   \n",
       "1              Piggy Plane Attack          5.0  Angry Birds™              4.0   \n",
       "2                Piggy Car Escape          4.3  Angry Birds™              4.1   \n",
       "3  United States Capitol Building          4.6  Architecture              4.3   \n",
       "4   Solomon R. Guggenheim Museum®          4.6  Architecture              4.1   \n",
       "\n",
       "  country  \n",
       "0      US  \n",
       "1      US  \n",
       "2      US  \n",
       "3      US  \n",
       "4      US  "
      ]
     },
     "execution_count": 55,
     "metadata": {},
     "output_type": "execute_result"
    }
   ],
   "source": [
    "df2=pd.read_csv('lego_sets.csv')\n",
    "df2.head()"
   ]
  },
  {
   "cell_type": "code",
   "execution_count": 56,
   "id": "4abfacfd-b185-45ab-8f76-be711c88a998",
   "metadata": {},
   "outputs": [
    {
     "name": "stdout",
     "output_type": "stream",
     "text": [
      "<class 'pandas.core.frame.DataFrame'>\n",
      "RangeIndex: 12261 entries, 0 to 12260\n",
      "Data columns (total 14 columns):\n",
      " #   Column             Non-Null Count  Dtype  \n",
      "---  ------             --------------  -----  \n",
      " 0   ages               12261 non-null  object \n",
      " 1   list_price         12261 non-null  float64\n",
      " 2   num_reviews        10641 non-null  float64\n",
      " 3   piece_count        12261 non-null  float64\n",
      " 4   play_star_rating   10486 non-null  float64\n",
      " 5   prod_desc          11884 non-null  object \n",
      " 6   prod_id            12261 non-null  float64\n",
      " 7   prod_long_desc     12261 non-null  object \n",
      " 8   review_difficulty  10206 non-null  object \n",
      " 9   set_name           12261 non-null  object \n",
      " 10  star_rating        10641 non-null  float64\n",
      " 11  theme_name         12258 non-null  object \n",
      " 12  val_star_rating    10466 non-null  float64\n",
      " 13  country            12261 non-null  object \n",
      "dtypes: float64(7), object(7)\n",
      "memory usage: 1.3+ MB\n"
     ]
    }
   ],
   "source": [
    "df2.info()"
   ]
  },
  {
   "cell_type": "code",
   "execution_count": 57,
   "id": "498f12a1-564e-4e62-b4dd-be5a7fd18ac5",
   "metadata": {},
   "outputs": [
    {
     "data": {
      "text/html": [
       "<div>\n",
       "<style scoped>\n",
       "    .dataframe tbody tr th:only-of-type {\n",
       "        vertical-align: middle;\n",
       "    }\n",
       "\n",
       "    .dataframe tbody tr th {\n",
       "        vertical-align: top;\n",
       "    }\n",
       "\n",
       "    .dataframe thead th {\n",
       "        text-align: right;\n",
       "    }\n",
       "</style>\n",
       "<table border=\"1\" class=\"dataframe\">\n",
       "  <thead>\n",
       "    <tr style=\"text-align: right;\">\n",
       "      <th></th>\n",
       "      <th>list_price</th>\n",
       "      <th>num_reviews</th>\n",
       "      <th>piece_count</th>\n",
       "      <th>play_star_rating</th>\n",
       "      <th>prod_id</th>\n",
       "      <th>star_rating</th>\n",
       "      <th>val_star_rating</th>\n",
       "    </tr>\n",
       "  </thead>\n",
       "  <tbody>\n",
       "    <tr>\n",
       "      <th>count</th>\n",
       "      <td>12261.000000</td>\n",
       "      <td>10641.000000</td>\n",
       "      <td>12261.000000</td>\n",
       "      <td>10486.000000</td>\n",
       "      <td>1.226100e+04</td>\n",
       "      <td>10641.000000</td>\n",
       "      <td>10466.000000</td>\n",
       "    </tr>\n",
       "    <tr>\n",
       "      <th>mean</th>\n",
       "      <td>65.141998</td>\n",
       "      <td>16.826238</td>\n",
       "      <td>493.405921</td>\n",
       "      <td>4.337641</td>\n",
       "      <td>5.983675e+04</td>\n",
       "      <td>4.514134</td>\n",
       "      <td>4.228960</td>\n",
       "    </tr>\n",
       "    <tr>\n",
       "      <th>std</th>\n",
       "      <td>91.980429</td>\n",
       "      <td>36.368984</td>\n",
       "      <td>825.364580</td>\n",
       "      <td>0.652051</td>\n",
       "      <td>1.638115e+05</td>\n",
       "      <td>0.518865</td>\n",
       "      <td>0.660282</td>\n",
       "    </tr>\n",
       "    <tr>\n",
       "      <th>min</th>\n",
       "      <td>2.272400</td>\n",
       "      <td>1.000000</td>\n",
       "      <td>1.000000</td>\n",
       "      <td>1.000000</td>\n",
       "      <td>6.300000e+02</td>\n",
       "      <td>1.800000</td>\n",
       "      <td>1.000000</td>\n",
       "    </tr>\n",
       "    <tr>\n",
       "      <th>25%</th>\n",
       "      <td>19.990000</td>\n",
       "      <td>2.000000</td>\n",
       "      <td>97.000000</td>\n",
       "      <td>4.000000</td>\n",
       "      <td>2.103400e+04</td>\n",
       "      <td>4.300000</td>\n",
       "      <td>4.000000</td>\n",
       "    </tr>\n",
       "    <tr>\n",
       "      <th>50%</th>\n",
       "      <td>36.587800</td>\n",
       "      <td>6.000000</td>\n",
       "      <td>216.000000</td>\n",
       "      <td>4.500000</td>\n",
       "      <td>4.206900e+04</td>\n",
       "      <td>4.700000</td>\n",
       "      <td>4.300000</td>\n",
       "    </tr>\n",
       "    <tr>\n",
       "      <th>75%</th>\n",
       "      <td>70.192200</td>\n",
       "      <td>13.000000</td>\n",
       "      <td>544.000000</td>\n",
       "      <td>4.800000</td>\n",
       "      <td>7.092200e+04</td>\n",
       "      <td>5.000000</td>\n",
       "      <td>4.700000</td>\n",
       "    </tr>\n",
       "    <tr>\n",
       "      <th>max</th>\n",
       "      <td>1104.870000</td>\n",
       "      <td>367.000000</td>\n",
       "      <td>7541.000000</td>\n",
       "      <td>5.000000</td>\n",
       "      <td>2.000431e+06</td>\n",
       "      <td>5.000000</td>\n",
       "      <td>5.000000</td>\n",
       "    </tr>\n",
       "  </tbody>\n",
       "</table>\n",
       "</div>"
      ],
      "text/plain": [
       "         list_price   num_reviews   piece_count  play_star_rating  \\\n",
       "count  12261.000000  10641.000000  12261.000000      10486.000000   \n",
       "mean      65.141998     16.826238    493.405921          4.337641   \n",
       "std       91.980429     36.368984    825.364580          0.652051   \n",
       "min        2.272400      1.000000      1.000000          1.000000   \n",
       "25%       19.990000      2.000000     97.000000          4.000000   \n",
       "50%       36.587800      6.000000    216.000000          4.500000   \n",
       "75%       70.192200     13.000000    544.000000          4.800000   \n",
       "max     1104.870000    367.000000   7541.000000          5.000000   \n",
       "\n",
       "            prod_id   star_rating  val_star_rating  \n",
       "count  1.226100e+04  10641.000000     10466.000000  \n",
       "mean   5.983675e+04      4.514134         4.228960  \n",
       "std    1.638115e+05      0.518865         0.660282  \n",
       "min    6.300000e+02      1.800000         1.000000  \n",
       "25%    2.103400e+04      4.300000         4.000000  \n",
       "50%    4.206900e+04      4.700000         4.300000  \n",
       "75%    7.092200e+04      5.000000         4.700000  \n",
       "max    2.000431e+06      5.000000         5.000000  "
      ]
     },
     "execution_count": 57,
     "metadata": {},
     "output_type": "execute_result"
    }
   ],
   "source": [
    "df2.describe()"
   ]
  },
  {
   "cell_type": "code",
   "execution_count": 61,
   "id": "372ad3b9-c455-402d-a699-66a37a396890",
   "metadata": {},
   "outputs": [],
   "source": [
    "star_median=df2['star_rating'].median()"
   ]
  },
  {
   "cell_type": "code",
   "execution_count": 62,
   "id": "7b074fd9-1ab1-4722-ab73-5ecf9d2dd819",
   "metadata": {},
   "outputs": [
    {
     "data": {
      "text/plain": [
       "4.7"
      ]
     },
     "execution_count": 62,
     "metadata": {},
     "output_type": "execute_result"
    }
   ],
   "source": [
    "star_median"
   ]
  },
  {
   "cell_type": "code",
   "execution_count": 70,
   "id": "0f44baa9-1275-4698-abbf-72a0c6364f44",
   "metadata": {},
   "outputs": [
    {
     "data": {
      "text/plain": [
       "play_star_rating\n",
       "5.0    2219\n",
       "4.5    1136\n",
       "4.7     840\n",
       "4.0     816\n",
       "4.3     793\n",
       "4.6     685\n",
       "4.4     566\n",
       "4.8     504\n",
       "4.2     467\n",
       "4.1     320\n",
       "3.9     281\n",
       "3.6     213\n",
       "3.5     204\n",
       "4.9     204\n",
       "3.0     202\n",
       "3.2     192\n",
       "3.7     186\n",
       "3.8     148\n",
       "2.0     126\n",
       "3.3     120\n",
       "2.7      64\n",
       "1.0      42\n",
       "2.5      42\n",
       "2.2      42\n",
       "3.4      25\n",
       "2.9      21\n",
       "2.3      20\n",
       "3.1       4\n",
       "2.8       2\n",
       "2.1       2\n",
       "Name: count, dtype: int64"
      ]
     },
     "execution_count": 70,
     "metadata": {},
     "output_type": "execute_result"
    }
   ],
   "source": [
    "unique_play=df2['play_star_rating'].value_counts()\n",
    "unique_play"
   ]
  },
  {
   "cell_type": "code",
   "execution_count": null,
   "id": "bb075f1c-0c93-4309-9b68-224d1a67e678",
   "metadata": {},
   "outputs": [],
   "source": []
  }
 ],
 "metadata": {
  "kernelspec": {
   "display_name": "Python 3 (ipykernel)",
   "language": "python",
   "name": "python3"
  },
  "language_info": {
   "codemirror_mode": {
    "name": "ipython",
    "version": 3
   },
   "file_extension": ".py",
   "mimetype": "text/x-python",
   "name": "python",
   "nbconvert_exporter": "python",
   "pygments_lexer": "ipython3",
   "version": "3.11.7"
  }
 },
 "nbformat": 4,
 "nbformat_minor": 5
}
